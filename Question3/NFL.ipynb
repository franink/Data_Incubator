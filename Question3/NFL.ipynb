{
 "cells": [
  {
   "cell_type": "code",
   "execution_count": 1,
   "metadata": {
    "collapsed": true
   },
   "outputs": [],
   "source": [
    "import os\n",
    "import glob\n",
    "import numpy as np\n",
    "import pandas as pd"
   ]
  },
  {
   "cell_type": "code",
   "execution_count": 2,
   "metadata": {
    "collapsed": false
   },
   "outputs": [],
   "source": [
    "filepath = '/Users/frankanayet/Desktop/Data_Incubator/'\n",
    "os.chdir(filepath)"
   ]
  },
  {
   "cell_type": "code",
   "execution_count": 3,
   "metadata": {
    "collapsed": false
   },
   "outputs": [
    {
     "data": {
      "text/plain": [
       "'final_db.csv'"
      ]
     },
     "execution_count": 3,
     "metadata": {},
     "output_type": "execute_result"
    }
   ],
   "source": [
    "files = glob.glob('final_db*')\n",
    "files[0]"
   ]
  },
  {
   "cell_type": "code",
   "execution_count": 4,
   "metadata": {
    "collapsed": false
   },
   "outputs": [
    {
     "data": {
      "text/html": [
       "<div>\n",
       "<table border=\"1\" class=\"dataframe\">\n",
       "  <thead>\n",
       "    <tr style=\"text-align: right;\">\n",
       "      <th></th>\n",
       "      <th>Unnamed: 0</th>\n",
       "      <th>def</th>\n",
       "      <th>defscore</th>\n",
       "      <th>description</th>\n",
       "      <th>down</th>\n",
       "      <th>gameid</th>\n",
       "      <th>min</th>\n",
       "      <th>nextscore</th>\n",
       "      <th>off</th>\n",
       "      <th>offscore</th>\n",
       "      <th>qtr</th>\n",
       "      <th>scorechange</th>\n",
       "      <th>scorediff</th>\n",
       "      <th>season</th>\n",
       "      <th>sec</th>\n",
       "      <th>series1stdn</th>\n",
       "      <th>teamwin</th>\n",
       "      <th>togo</th>\n",
       "      <th>ydline</th>\n",
       "      <th>secs_to_end</th>\n",
       "    </tr>\n",
       "  </thead>\n",
       "  <tbody>\n",
       "    <tr>\n",
       "      <th>0</th>\n",
       "      <td>0</td>\n",
       "      <td>NYG</td>\n",
       "      <td>0</td>\n",
       "      <td>J.Cortez kicks 75 yards from SF 30 to NYG -5. ...</td>\n",
       "      <td>NaN</td>\n",
       "      <td>20020905_SF@NYG</td>\n",
       "      <td>NaN</td>\n",
       "      <td>NaN</td>\n",
       "      <td>SF</td>\n",
       "      <td>0</td>\n",
       "      <td>1</td>\n",
       "      <td>NaN</td>\n",
       "      <td>NaN</td>\n",
       "      <td>2002</td>\n",
       "      <td>0</td>\n",
       "      <td>NaN</td>\n",
       "      <td>NaN</td>\n",
       "      <td>NaN</td>\n",
       "      <td>NaN</td>\n",
       "      <td>NaN</td>\n",
       "    </tr>\n",
       "    <tr>\n",
       "      <th>1</th>\n",
       "      <td>1</td>\n",
       "      <td>SF</td>\n",
       "      <td>0</td>\n",
       "      <td>(15:00) T.Barber left end to NYG 24 for 4 yard...</td>\n",
       "      <td>1</td>\n",
       "      <td>20020905_SF@NYG</td>\n",
       "      <td>60</td>\n",
       "      <td>NaN</td>\n",
       "      <td>NYG</td>\n",
       "      <td>0</td>\n",
       "      <td>1</td>\n",
       "      <td>NaN</td>\n",
       "      <td>NaN</td>\n",
       "      <td>2002</td>\n",
       "      <td>0</td>\n",
       "      <td>NaN</td>\n",
       "      <td>NaN</td>\n",
       "      <td>10</td>\n",
       "      <td>80</td>\n",
       "      <td>3600</td>\n",
       "    </tr>\n",
       "    <tr>\n",
       "      <th>2</th>\n",
       "      <td>2</td>\n",
       "      <td>SF</td>\n",
       "      <td>0</td>\n",
       "      <td>(14:25) K.Collins pass incomplete to J.Shockey...</td>\n",
       "      <td>2</td>\n",
       "      <td>20020905_SF@NYG</td>\n",
       "      <td>59</td>\n",
       "      <td>NaN</td>\n",
       "      <td>NYG</td>\n",
       "      <td>0</td>\n",
       "      <td>1</td>\n",
       "      <td>NaN</td>\n",
       "      <td>NaN</td>\n",
       "      <td>2002</td>\n",
       "      <td>25</td>\n",
       "      <td>NaN</td>\n",
       "      <td>NaN</td>\n",
       "      <td>6</td>\n",
       "      <td>76</td>\n",
       "      <td>3565</td>\n",
       "    </tr>\n",
       "    <tr>\n",
       "      <th>3</th>\n",
       "      <td>3</td>\n",
       "      <td>SF</td>\n",
       "      <td>0</td>\n",
       "      <td>(14:20) PENALTY on NYG-J.Shockey  False Start ...</td>\n",
       "      <td>3</td>\n",
       "      <td>20020905_SF@NYG</td>\n",
       "      <td>59</td>\n",
       "      <td>NaN</td>\n",
       "      <td>NYG</td>\n",
       "      <td>0</td>\n",
       "      <td>1</td>\n",
       "      <td>NaN</td>\n",
       "      <td>NaN</td>\n",
       "      <td>2002</td>\n",
       "      <td>20</td>\n",
       "      <td>NaN</td>\n",
       "      <td>NaN</td>\n",
       "      <td>6</td>\n",
       "      <td>76</td>\n",
       "      <td>3560</td>\n",
       "    </tr>\n",
       "    <tr>\n",
       "      <th>4</th>\n",
       "      <td>4</td>\n",
       "      <td>SF</td>\n",
       "      <td>0</td>\n",
       "      <td>(14:20) (Shotgun) K.Collins pass intended for ...</td>\n",
       "      <td>3</td>\n",
       "      <td>20020905_SF@NYG</td>\n",
       "      <td>59</td>\n",
       "      <td>NaN</td>\n",
       "      <td>NYG</td>\n",
       "      <td>0</td>\n",
       "      <td>1</td>\n",
       "      <td>NaN</td>\n",
       "      <td>NaN</td>\n",
       "      <td>2002</td>\n",
       "      <td>20</td>\n",
       "      <td>NaN</td>\n",
       "      <td>NaN</td>\n",
       "      <td>11</td>\n",
       "      <td>81</td>\n",
       "      <td>3560</td>\n",
       "    </tr>\n",
       "    <tr>\n",
       "      <th>5</th>\n",
       "      <td>5</td>\n",
       "      <td>NYG</td>\n",
       "      <td>0</td>\n",
       "      <td>(14:09) J.Garcia right end ran ob at NYG 7 for...</td>\n",
       "      <td>1</td>\n",
       "      <td>20020905_SF@NYG</td>\n",
       "      <td>59</td>\n",
       "      <td>NaN</td>\n",
       "      <td>SF</td>\n",
       "      <td>0</td>\n",
       "      <td>1</td>\n",
       "      <td>NaN</td>\n",
       "      <td>NaN</td>\n",
       "      <td>2002</td>\n",
       "      <td>9</td>\n",
       "      <td>NaN</td>\n",
       "      <td>NaN</td>\n",
       "      <td>10</td>\n",
       "      <td>23</td>\n",
       "      <td>3549</td>\n",
       "    </tr>\n",
       "    <tr>\n",
       "      <th>6</th>\n",
       "      <td>6</td>\n",
       "      <td>NYG</td>\n",
       "      <td>0</td>\n",
       "      <td>(13:38) PENALTY on SF-R.Stone  False Start  5 ...</td>\n",
       "      <td>1</td>\n",
       "      <td>20020905_SF@NYG</td>\n",
       "      <td>58</td>\n",
       "      <td>NaN</td>\n",
       "      <td>SF</td>\n",
       "      <td>0</td>\n",
       "      <td>1</td>\n",
       "      <td>NaN</td>\n",
       "      <td>NaN</td>\n",
       "      <td>2002</td>\n",
       "      <td>38</td>\n",
       "      <td>NaN</td>\n",
       "      <td>NaN</td>\n",
       "      <td>7</td>\n",
       "      <td>7</td>\n",
       "      <td>3518</td>\n",
       "    </tr>\n",
       "    <tr>\n",
       "      <th>7</th>\n",
       "      <td>7</td>\n",
       "      <td>NYG</td>\n",
       "      <td>0</td>\n",
       "      <td>(13:35) G.Hearst left guard to NYG 8 for 4 yar...</td>\n",
       "      <td>1</td>\n",
       "      <td>20020905_SF@NYG</td>\n",
       "      <td>58</td>\n",
       "      <td>NaN</td>\n",
       "      <td>SF</td>\n",
       "      <td>0</td>\n",
       "      <td>1</td>\n",
       "      <td>NaN</td>\n",
       "      <td>NaN</td>\n",
       "      <td>2002</td>\n",
       "      <td>35</td>\n",
       "      <td>NaN</td>\n",
       "      <td>NaN</td>\n",
       "      <td>12</td>\n",
       "      <td>12</td>\n",
       "      <td>3515</td>\n",
       "    </tr>\n",
       "    <tr>\n",
       "      <th>8</th>\n",
       "      <td>8</td>\n",
       "      <td>NYG</td>\n",
       "      <td>0</td>\n",
       "      <td>(12:47) J.Garcia pass incomplete to T.Owens.</td>\n",
       "      <td>2</td>\n",
       "      <td>20020905_SF@NYG</td>\n",
       "      <td>57</td>\n",
       "      <td>NaN</td>\n",
       "      <td>SF</td>\n",
       "      <td>0</td>\n",
       "      <td>1</td>\n",
       "      <td>NaN</td>\n",
       "      <td>NaN</td>\n",
       "      <td>2002</td>\n",
       "      <td>47</td>\n",
       "      <td>NaN</td>\n",
       "      <td>NaN</td>\n",
       "      <td>8</td>\n",
       "      <td>8</td>\n",
       "      <td>3467</td>\n",
       "    </tr>\n",
       "    <tr>\n",
       "      <th>9</th>\n",
       "      <td>9</td>\n",
       "      <td>NYG</td>\n",
       "      <td>0</td>\n",
       "      <td>(12:40) J.Garcia pass to G.Hearst to NYG 7 for...</td>\n",
       "      <td>3</td>\n",
       "      <td>20020905_SF@NYG</td>\n",
       "      <td>57</td>\n",
       "      <td>NaN</td>\n",
       "      <td>SF</td>\n",
       "      <td>0</td>\n",
       "      <td>1</td>\n",
       "      <td>NaN</td>\n",
       "      <td>NaN</td>\n",
       "      <td>2002</td>\n",
       "      <td>40</td>\n",
       "      <td>NaN</td>\n",
       "      <td>NaN</td>\n",
       "      <td>8</td>\n",
       "      <td>8</td>\n",
       "      <td>3460</td>\n",
       "    </tr>\n",
       "    <tr>\n",
       "      <th>10</th>\n",
       "      <td>10</td>\n",
       "      <td>NYG</td>\n",
       "      <td>0</td>\n",
       "      <td>(11:59) J.Cortez 25 yard field goal is BLOCKED...</td>\n",
       "      <td>4</td>\n",
       "      <td>20020905_SF@NYG</td>\n",
       "      <td>56</td>\n",
       "      <td>NaN</td>\n",
       "      <td>SF</td>\n",
       "      <td>0</td>\n",
       "      <td>1</td>\n",
       "      <td>NaN</td>\n",
       "      <td>NaN</td>\n",
       "      <td>2002</td>\n",
       "      <td>59</td>\n",
       "      <td>NaN</td>\n",
       "      <td>NaN</td>\n",
       "      <td>7</td>\n",
       "      <td>7</td>\n",
       "      <td>3419</td>\n",
       "    </tr>\n",
       "    <tr>\n",
       "      <th>11</th>\n",
       "      <td>11</td>\n",
       "      <td>SF</td>\n",
       "      <td>0</td>\n",
       "      <td>(11:51) K.Collins pass to A.Toomer pushed ob a...</td>\n",
       "      <td>1</td>\n",
       "      <td>20020905_SF@NYG</td>\n",
       "      <td>56</td>\n",
       "      <td>NaN</td>\n",
       "      <td>NYG</td>\n",
       "      <td>0</td>\n",
       "      <td>1</td>\n",
       "      <td>NaN</td>\n",
       "      <td>NaN</td>\n",
       "      <td>2002</td>\n",
       "      <td>51</td>\n",
       "      <td>NaN</td>\n",
       "      <td>NaN</td>\n",
       "      <td>10</td>\n",
       "      <td>80</td>\n",
       "      <td>3411</td>\n",
       "    </tr>\n",
       "    <tr>\n",
       "      <th>12</th>\n",
       "      <td>12</td>\n",
       "      <td>SF</td>\n",
       "      <td>0</td>\n",
       "      <td>(11:23) K.Collins pass incomplete to A.Toomer....</td>\n",
       "      <td>2</td>\n",
       "      <td>20020905_SF@NYG</td>\n",
       "      <td>56</td>\n",
       "      <td>NaN</td>\n",
       "      <td>NYG</td>\n",
       "      <td>0</td>\n",
       "      <td>1</td>\n",
       "      <td>NaN</td>\n",
       "      <td>NaN</td>\n",
       "      <td>2002</td>\n",
       "      <td>23</td>\n",
       "      <td>NaN</td>\n",
       "      <td>NaN</td>\n",
       "      <td>8</td>\n",
       "      <td>78</td>\n",
       "      <td>3383</td>\n",
       "    </tr>\n",
       "    <tr>\n",
       "      <th>13</th>\n",
       "      <td>13</td>\n",
       "      <td>SF</td>\n",
       "      <td>0</td>\n",
       "      <td>(11:19) T.Barber left end ran ob at NYG 43 for...</td>\n",
       "      <td>1</td>\n",
       "      <td>20020905_SF@NYG</td>\n",
       "      <td>56</td>\n",
       "      <td>NaN</td>\n",
       "      <td>NYG</td>\n",
       "      <td>0</td>\n",
       "      <td>1</td>\n",
       "      <td>NaN</td>\n",
       "      <td>NaN</td>\n",
       "      <td>2002</td>\n",
       "      <td>19</td>\n",
       "      <td>NaN</td>\n",
       "      <td>NaN</td>\n",
       "      <td>10</td>\n",
       "      <td>73</td>\n",
       "      <td>3379</td>\n",
       "    </tr>\n",
       "    <tr>\n",
       "      <th>14</th>\n",
       "      <td>14</td>\n",
       "      <td>SF</td>\n",
       "      <td>0</td>\n",
       "      <td>(10:56) K.Collins pass to A.Toomer pushed ob a...</td>\n",
       "      <td>1</td>\n",
       "      <td>20020905_SF@NYG</td>\n",
       "      <td>55</td>\n",
       "      <td>NaN</td>\n",
       "      <td>NYG</td>\n",
       "      <td>0</td>\n",
       "      <td>1</td>\n",
       "      <td>NaN</td>\n",
       "      <td>NaN</td>\n",
       "      <td>2002</td>\n",
       "      <td>56</td>\n",
       "      <td>NaN</td>\n",
       "      <td>NaN</td>\n",
       "      <td>10</td>\n",
       "      <td>57</td>\n",
       "      <td>3356</td>\n",
       "    </tr>\n",
       "    <tr>\n",
       "      <th>15</th>\n",
       "      <td>15</td>\n",
       "      <td>SF</td>\n",
       "      <td>0</td>\n",
       "      <td>(10:30) PENALTY on NYG-A.Toomer  False Start  ...</td>\n",
       "      <td>1</td>\n",
       "      <td>20020905_SF@NYG</td>\n",
       "      <td>55</td>\n",
       "      <td>NaN</td>\n",
       "      <td>NYG</td>\n",
       "      <td>0</td>\n",
       "      <td>1</td>\n",
       "      <td>NaN</td>\n",
       "      <td>NaN</td>\n",
       "      <td>2002</td>\n",
       "      <td>30</td>\n",
       "      <td>NaN</td>\n",
       "      <td>NaN</td>\n",
       "      <td>20</td>\n",
       "      <td>67</td>\n",
       "      <td>3330</td>\n",
       "    </tr>\n",
       "    <tr>\n",
       "      <th>16</th>\n",
       "      <td>16</td>\n",
       "      <td>SF</td>\n",
       "      <td>0</td>\n",
       "      <td>(10:15) R.Dayne right guard to NYG 28 for no g...</td>\n",
       "      <td>1</td>\n",
       "      <td>20020905_SF@NYG</td>\n",
       "      <td>55</td>\n",
       "      <td>NaN</td>\n",
       "      <td>NYG</td>\n",
       "      <td>0</td>\n",
       "      <td>1</td>\n",
       "      <td>NaN</td>\n",
       "      <td>NaN</td>\n",
       "      <td>2002</td>\n",
       "      <td>15</td>\n",
       "      <td>NaN</td>\n",
       "      <td>NaN</td>\n",
       "      <td>25</td>\n",
       "      <td>72</td>\n",
       "      <td>3315</td>\n",
       "    </tr>\n",
       "    <tr>\n",
       "      <th>17</th>\n",
       "      <td>17</td>\n",
       "      <td>SF</td>\n",
       "      <td>0</td>\n",
       "      <td>(9:39) K.Collins pass to A.Toomer to 50 for 22...</td>\n",
       "      <td>2</td>\n",
       "      <td>20020905_SF@NYG</td>\n",
       "      <td>54</td>\n",
       "      <td>NaN</td>\n",
       "      <td>NYG</td>\n",
       "      <td>0</td>\n",
       "      <td>1</td>\n",
       "      <td>NaN</td>\n",
       "      <td>NaN</td>\n",
       "      <td>2002</td>\n",
       "      <td>39</td>\n",
       "      <td>NaN</td>\n",
       "      <td>NaN</td>\n",
       "      <td>25</td>\n",
       "      <td>72</td>\n",
       "      <td>3279</td>\n",
       "    </tr>\n",
       "    <tr>\n",
       "      <th>18</th>\n",
       "      <td>18</td>\n",
       "      <td>SF</td>\n",
       "      <td>0</td>\n",
       "      <td>(8:57) K.Collins pass to A.Toomer to SF 36 for...</td>\n",
       "      <td>3</td>\n",
       "      <td>20020905_SF@NYG</td>\n",
       "      <td>53</td>\n",
       "      <td>NaN</td>\n",
       "      <td>NYG</td>\n",
       "      <td>0</td>\n",
       "      <td>1</td>\n",
       "      <td>NaN</td>\n",
       "      <td>NaN</td>\n",
       "      <td>2002</td>\n",
       "      <td>57</td>\n",
       "      <td>NaN</td>\n",
       "      <td>NaN</td>\n",
       "      <td>3</td>\n",
       "      <td>50</td>\n",
       "      <td>3237</td>\n",
       "    </tr>\n",
       "    <tr>\n",
       "      <th>19</th>\n",
       "      <td>19</td>\n",
       "      <td>SF</td>\n",
       "      <td>0</td>\n",
       "      <td>(8:16) T.Barber right guard to SF 30 for 6 yar...</td>\n",
       "      <td>1</td>\n",
       "      <td>20020905_SF@NYG</td>\n",
       "      <td>53</td>\n",
       "      <td>NaN</td>\n",
       "      <td>NYG</td>\n",
       "      <td>0</td>\n",
       "      <td>1</td>\n",
       "      <td>NaN</td>\n",
       "      <td>NaN</td>\n",
       "      <td>2002</td>\n",
       "      <td>16</td>\n",
       "      <td>NaN</td>\n",
       "      <td>NaN</td>\n",
       "      <td>10</td>\n",
       "      <td>36</td>\n",
       "      <td>3196</td>\n",
       "    </tr>\n",
       "    <tr>\n",
       "      <th>20</th>\n",
       "      <td>20</td>\n",
       "      <td>SF</td>\n",
       "      <td>0</td>\n",
       "      <td>(7:34) K.Collins FUMBLES (Aborted) at SF 30  R...</td>\n",
       "      <td>2</td>\n",
       "      <td>20020905_SF@NYG</td>\n",
       "      <td>52</td>\n",
       "      <td>NaN</td>\n",
       "      <td>NYG</td>\n",
       "      <td>0</td>\n",
       "      <td>1</td>\n",
       "      <td>NaN</td>\n",
       "      <td>NaN</td>\n",
       "      <td>2002</td>\n",
       "      <td>34</td>\n",
       "      <td>NaN</td>\n",
       "      <td>NaN</td>\n",
       "      <td>4</td>\n",
       "      <td>30</td>\n",
       "      <td>3154</td>\n",
       "    </tr>\n",
       "    <tr>\n",
       "      <th>21</th>\n",
       "      <td>21</td>\n",
       "      <td>SF</td>\n",
       "      <td>0</td>\n",
       "      <td>(7:20) K.Collins pass to I.Hilliard to SF 13 f...</td>\n",
       "      <td>1</td>\n",
       "      <td>20020905_SF@NYG</td>\n",
       "      <td>52</td>\n",
       "      <td>NaN</td>\n",
       "      <td>NYG</td>\n",
       "      <td>0</td>\n",
       "      <td>1</td>\n",
       "      <td>NaN</td>\n",
       "      <td>NaN</td>\n",
       "      <td>2002</td>\n",
       "      <td>20</td>\n",
       "      <td>NaN</td>\n",
       "      <td>NaN</td>\n",
       "      <td>10</td>\n",
       "      <td>25</td>\n",
       "      <td>3140</td>\n",
       "    </tr>\n",
       "    <tr>\n",
       "      <th>22</th>\n",
       "      <td>22</td>\n",
       "      <td>SF</td>\n",
       "      <td>0</td>\n",
       "      <td>(6:49) R.Dayne right tackle to SF 11 for 2 yar...</td>\n",
       "      <td>1</td>\n",
       "      <td>20020905_SF@NYG</td>\n",
       "      <td>51</td>\n",
       "      <td>NaN</td>\n",
       "      <td>NYG</td>\n",
       "      <td>0</td>\n",
       "      <td>1</td>\n",
       "      <td>NaN</td>\n",
       "      <td>NaN</td>\n",
       "      <td>2002</td>\n",
       "      <td>49</td>\n",
       "      <td>NaN</td>\n",
       "      <td>NaN</td>\n",
       "      <td>10</td>\n",
       "      <td>13</td>\n",
       "      <td>3109</td>\n",
       "    </tr>\n",
       "    <tr>\n",
       "      <th>23</th>\n",
       "      <td>23</td>\n",
       "      <td>SF</td>\n",
       "      <td>0</td>\n",
       "      <td>(6:09) K.Collins pass incomplete to A.Toomer (...</td>\n",
       "      <td>2</td>\n",
       "      <td>20020905_SF@NYG</td>\n",
       "      <td>51</td>\n",
       "      <td>NaN</td>\n",
       "      <td>NYG</td>\n",
       "      <td>0</td>\n",
       "      <td>1</td>\n",
       "      <td>NaN</td>\n",
       "      <td>NaN</td>\n",
       "      <td>2002</td>\n",
       "      <td>9</td>\n",
       "      <td>NaN</td>\n",
       "      <td>NaN</td>\n",
       "      <td>8</td>\n",
       "      <td>11</td>\n",
       "      <td>3069</td>\n",
       "    </tr>\n",
       "    <tr>\n",
       "      <th>24</th>\n",
       "      <td>24</td>\n",
       "      <td>SF</td>\n",
       "      <td>0</td>\n",
       "      <td>(6:04) K.Collins pass incomplete to I.Hilliard.</td>\n",
       "      <td>3</td>\n",
       "      <td>20020905_SF@NYG</td>\n",
       "      <td>51</td>\n",
       "      <td>NaN</td>\n",
       "      <td>NYG</td>\n",
       "      <td>0</td>\n",
       "      <td>1</td>\n",
       "      <td>NaN</td>\n",
       "      <td>NaN</td>\n",
       "      <td>2002</td>\n",
       "      <td>4</td>\n",
       "      <td>NaN</td>\n",
       "      <td>NaN</td>\n",
       "      <td>8</td>\n",
       "      <td>11</td>\n",
       "      <td>3064</td>\n",
       "    </tr>\n",
       "    <tr>\n",
       "      <th>25</th>\n",
       "      <td>25</td>\n",
       "      <td>SF</td>\n",
       "      <td>0</td>\n",
       "      <td>(6:04) M.Bryant 29 yard field goal is GOOD  Ce...</td>\n",
       "      <td>4</td>\n",
       "      <td>20020905_SF@NYG</td>\n",
       "      <td>51</td>\n",
       "      <td>NaN</td>\n",
       "      <td>NYG</td>\n",
       "      <td>0</td>\n",
       "      <td>1</td>\n",
       "      <td>NaN</td>\n",
       "      <td>NaN</td>\n",
       "      <td>2002</td>\n",
       "      <td>4</td>\n",
       "      <td>NaN</td>\n",
       "      <td>NaN</td>\n",
       "      <td>8</td>\n",
       "      <td>11</td>\n",
       "      <td>3064</td>\n",
       "    </tr>\n",
       "    <tr>\n",
       "      <th>26</th>\n",
       "      <td>26</td>\n",
       "      <td>SF</td>\n",
       "      <td>0</td>\n",
       "      <td>M.Bryant kicks 58 yards from NYG 30 to SF 12. ...</td>\n",
       "      <td>NaN</td>\n",
       "      <td>20020905_SF@NYG</td>\n",
       "      <td>51</td>\n",
       "      <td>NaN</td>\n",
       "      <td>NYG</td>\n",
       "      <td>3</td>\n",
       "      <td>1</td>\n",
       "      <td>NaN</td>\n",
       "      <td>NaN</td>\n",
       "      <td>2002</td>\n",
       "      <td>4</td>\n",
       "      <td>NaN</td>\n",
       "      <td>NaN</td>\n",
       "      <td>NaN</td>\n",
       "      <td>11</td>\n",
       "      <td>3064</td>\n",
       "    </tr>\n",
       "    <tr>\n",
       "      <th>27</th>\n",
       "      <td>27</td>\n",
       "      <td>NYG</td>\n",
       "      <td>3</td>\n",
       "      <td>(5:45) J.Garcia up the middle to SF 35 for 3 y...</td>\n",
       "      <td>1</td>\n",
       "      <td>20020905_SF@NYG</td>\n",
       "      <td>50</td>\n",
       "      <td>NaN</td>\n",
       "      <td>SF</td>\n",
       "      <td>0</td>\n",
       "      <td>1</td>\n",
       "      <td>NaN</td>\n",
       "      <td>NaN</td>\n",
       "      <td>2002</td>\n",
       "      <td>45</td>\n",
       "      <td>NaN</td>\n",
       "      <td>NaN</td>\n",
       "      <td>10</td>\n",
       "      <td>68</td>\n",
       "      <td>3045</td>\n",
       "    </tr>\n",
       "    <tr>\n",
       "      <th>28</th>\n",
       "      <td>28</td>\n",
       "      <td>NYG</td>\n",
       "      <td>3</td>\n",
       "      <td>(5:04) J.Garcia pass incomplete to E.Johnson.</td>\n",
       "      <td>2</td>\n",
       "      <td>20020905_SF@NYG</td>\n",
       "      <td>50</td>\n",
       "      <td>NaN</td>\n",
       "      <td>SF</td>\n",
       "      <td>0</td>\n",
       "      <td>1</td>\n",
       "      <td>NaN</td>\n",
       "      <td>NaN</td>\n",
       "      <td>2002</td>\n",
       "      <td>4</td>\n",
       "      <td>NaN</td>\n",
       "      <td>NaN</td>\n",
       "      <td>7</td>\n",
       "      <td>65</td>\n",
       "      <td>3004</td>\n",
       "    </tr>\n",
       "    <tr>\n",
       "      <th>29</th>\n",
       "      <td>29</td>\n",
       "      <td>NYG</td>\n",
       "      <td>3</td>\n",
       "      <td>(4:58) J.Garcia pass to E.Johnson to NYG 27 fo...</td>\n",
       "      <td>3</td>\n",
       "      <td>20020905_SF@NYG</td>\n",
       "      <td>49</td>\n",
       "      <td>NaN</td>\n",
       "      <td>SF</td>\n",
       "      <td>0</td>\n",
       "      <td>1</td>\n",
       "      <td>NaN</td>\n",
       "      <td>NaN</td>\n",
       "      <td>2002</td>\n",
       "      <td>58</td>\n",
       "      <td>NaN</td>\n",
       "      <td>NaN</td>\n",
       "      <td>7</td>\n",
       "      <td>65</td>\n",
       "      <td>2998</td>\n",
       "    </tr>\n",
       "    <tr>\n",
       "      <th>...</th>\n",
       "      <td>...</td>\n",
       "      <td>...</td>\n",
       "      <td>...</td>\n",
       "      <td>...</td>\n",
       "      <td>...</td>\n",
       "      <td>...</td>\n",
       "      <td>...</td>\n",
       "      <td>...</td>\n",
       "      <td>...</td>\n",
       "      <td>...</td>\n",
       "      <td>...</td>\n",
       "      <td>...</td>\n",
       "      <td>...</td>\n",
       "      <td>...</td>\n",
       "      <td>...</td>\n",
       "      <td>...</td>\n",
       "      <td>...</td>\n",
       "      <td>...</td>\n",
       "      <td>...</td>\n",
       "      <td>...</td>\n",
       "    </tr>\n",
       "    <tr>\n",
       "      <th>471554</th>\n",
       "      <td>42507</td>\n",
       "      <td>WAS</td>\n",
       "      <td>21</td>\n",
       "      <td>(8:52) B.Moorman punts 45 yards to WAS 10 Cent...</td>\n",
       "      <td>4</td>\n",
       "      <td>20121230_DAL@WAS</td>\n",
       "      <td>8</td>\n",
       "      <td>8</td>\n",
       "      <td>DAL</td>\n",
       "      <td>10</td>\n",
       "      <td>4</td>\n",
       "      <td>0</td>\n",
       "      <td>-11</td>\n",
       "      <td>2012</td>\n",
       "      <td>52</td>\n",
       "      <td>0</td>\n",
       "      <td>0</td>\n",
       "      <td>28</td>\n",
       "      <td>55</td>\n",
       "      <td>532</td>\n",
       "    </tr>\n",
       "    <tr>\n",
       "      <th>471555</th>\n",
       "      <td>42508</td>\n",
       "      <td>DAL</td>\n",
       "      <td>10</td>\n",
       "      <td>(8:39) (Shotgun) A.Morris left guard to WAS 33...</td>\n",
       "      <td>1</td>\n",
       "      <td>20121230_DAL@WAS</td>\n",
       "      <td>8</td>\n",
       "      <td>-8</td>\n",
       "      <td>WAS</td>\n",
       "      <td>21</td>\n",
       "      <td>4</td>\n",
       "      <td>0</td>\n",
       "      <td>11</td>\n",
       "      <td>2012</td>\n",
       "      <td>39</td>\n",
       "      <td>0</td>\n",
       "      <td>1</td>\n",
       "      <td>10</td>\n",
       "      <td>75</td>\n",
       "      <td>519</td>\n",
       "    </tr>\n",
       "    <tr>\n",
       "      <th>471556</th>\n",
       "      <td>42509</td>\n",
       "      <td>DAL</td>\n",
       "      <td>10</td>\n",
       "      <td>(7:58) (Shotgun) PENALTY on WAS-T.Williams Fal...</td>\n",
       "      <td>2</td>\n",
       "      <td>20121230_DAL@WAS</td>\n",
       "      <td>7</td>\n",
       "      <td>-8</td>\n",
       "      <td>WAS</td>\n",
       "      <td>21</td>\n",
       "      <td>4</td>\n",
       "      <td>0</td>\n",
       "      <td>11</td>\n",
       "      <td>2012</td>\n",
       "      <td>58</td>\n",
       "      <td>0</td>\n",
       "      <td>1</td>\n",
       "      <td>2</td>\n",
       "      <td>67</td>\n",
       "      <td>478</td>\n",
       "    </tr>\n",
       "    <tr>\n",
       "      <th>471557</th>\n",
       "      <td>42510</td>\n",
       "      <td>DAL</td>\n",
       "      <td>10</td>\n",
       "      <td>(7:36) (Shotgun) A.Morris right end to WAS 27 ...</td>\n",
       "      <td>2</td>\n",
       "      <td>20121230_DAL@WAS</td>\n",
       "      <td>7</td>\n",
       "      <td>-8</td>\n",
       "      <td>WAS</td>\n",
       "      <td>21</td>\n",
       "      <td>4</td>\n",
       "      <td>0</td>\n",
       "      <td>11</td>\n",
       "      <td>2012</td>\n",
       "      <td>36</td>\n",
       "      <td>0</td>\n",
       "      <td>1</td>\n",
       "      <td>7</td>\n",
       "      <td>72</td>\n",
       "      <td>456</td>\n",
       "    </tr>\n",
       "    <tr>\n",
       "      <th>471558</th>\n",
       "      <td>42511</td>\n",
       "      <td>DAL</td>\n",
       "      <td>10</td>\n",
       "      <td>(6:56) (Shotgun) R.Griffin pass incomplete dee...</td>\n",
       "      <td>3</td>\n",
       "      <td>20121230_DAL@WAS</td>\n",
       "      <td>6</td>\n",
       "      <td>-8</td>\n",
       "      <td>WAS</td>\n",
       "      <td>21</td>\n",
       "      <td>4</td>\n",
       "      <td>0</td>\n",
       "      <td>11</td>\n",
       "      <td>2012</td>\n",
       "      <td>56</td>\n",
       "      <td>0</td>\n",
       "      <td>1</td>\n",
       "      <td>8</td>\n",
       "      <td>73</td>\n",
       "      <td>416</td>\n",
       "    </tr>\n",
       "    <tr>\n",
       "      <th>471559</th>\n",
       "      <td>42512</td>\n",
       "      <td>DAL</td>\n",
       "      <td>10</td>\n",
       "      <td>(6:49) S.Rocca punts 43 yards to DAL 30 Center...</td>\n",
       "      <td>4</td>\n",
       "      <td>20121230_DAL@WAS</td>\n",
       "      <td>6</td>\n",
       "      <td>-8</td>\n",
       "      <td>WAS</td>\n",
       "      <td>21</td>\n",
       "      <td>4</td>\n",
       "      <td>0</td>\n",
       "      <td>11</td>\n",
       "      <td>2012</td>\n",
       "      <td>49</td>\n",
       "      <td>0</td>\n",
       "      <td>1</td>\n",
       "      <td>8</td>\n",
       "      <td>73</td>\n",
       "      <td>409</td>\n",
       "    </tr>\n",
       "    <tr>\n",
       "      <th>471560</th>\n",
       "      <td>42513</td>\n",
       "      <td>WAS</td>\n",
       "      <td>21</td>\n",
       "      <td>(6:35) (Shotgun) T.Romo pass short left to D.M...</td>\n",
       "      <td>1</td>\n",
       "      <td>20121230_DAL@WAS</td>\n",
       "      <td>6</td>\n",
       "      <td>8</td>\n",
       "      <td>DAL</td>\n",
       "      <td>10</td>\n",
       "      <td>4</td>\n",
       "      <td>0</td>\n",
       "      <td>-11</td>\n",
       "      <td>2012</td>\n",
       "      <td>35</td>\n",
       "      <td>1</td>\n",
       "      <td>0</td>\n",
       "      <td>10</td>\n",
       "      <td>16</td>\n",
       "      <td>395</td>\n",
       "    </tr>\n",
       "    <tr>\n",
       "      <th>471561</th>\n",
       "      <td>42514</td>\n",
       "      <td>WAS</td>\n",
       "      <td>21</td>\n",
       "      <td>(6:02) (No Huddle Shotgun) T.Romo pass incompl...</td>\n",
       "      <td>2</td>\n",
       "      <td>20121230_DAL@WAS</td>\n",
       "      <td>6</td>\n",
       "      <td>8</td>\n",
       "      <td>DAL</td>\n",
       "      <td>10</td>\n",
       "      <td>4</td>\n",
       "      <td>0</td>\n",
       "      <td>-11</td>\n",
       "      <td>2012</td>\n",
       "      <td>2</td>\n",
       "      <td>1</td>\n",
       "      <td>0</td>\n",
       "      <td>4</td>\n",
       "      <td>10</td>\n",
       "      <td>362</td>\n",
       "    </tr>\n",
       "    <tr>\n",
       "      <th>471562</th>\n",
       "      <td>42515</td>\n",
       "      <td>WAS</td>\n",
       "      <td>21</td>\n",
       "      <td>(5:55) (Shotgun) T.Romo pass short left to K.O...</td>\n",
       "      <td>3</td>\n",
       "      <td>20121230_DAL@WAS</td>\n",
       "      <td>5</td>\n",
       "      <td>8</td>\n",
       "      <td>DAL</td>\n",
       "      <td>10</td>\n",
       "      <td>4</td>\n",
       "      <td>0</td>\n",
       "      <td>-11</td>\n",
       "      <td>2012</td>\n",
       "      <td>55</td>\n",
       "      <td>1</td>\n",
       "      <td>0</td>\n",
       "      <td>4</td>\n",
       "      <td>10</td>\n",
       "      <td>355</td>\n",
       "    </tr>\n",
       "    <tr>\n",
       "      <th>471563</th>\n",
       "      <td>42516</td>\n",
       "      <td>WAS</td>\n",
       "      <td>21</td>\n",
       "      <td>(Run formation) TWO-POINT CONVERSION ATTEMPT. ...</td>\n",
       "      <td>NaN</td>\n",
       "      <td>20121230_DAL@WAS</td>\n",
       "      <td>5</td>\n",
       "      <td>8</td>\n",
       "      <td>DAL</td>\n",
       "      <td>10</td>\n",
       "      <td>4</td>\n",
       "      <td>8</td>\n",
       "      <td>-11</td>\n",
       "      <td>2012</td>\n",
       "      <td>55</td>\n",
       "      <td>0</td>\n",
       "      <td>0</td>\n",
       "      <td>NaN</td>\n",
       "      <td>10</td>\n",
       "      <td>355</td>\n",
       "    </tr>\n",
       "    <tr>\n",
       "      <th>471564</th>\n",
       "      <td>42517</td>\n",
       "      <td>WAS</td>\n",
       "      <td>21</td>\n",
       "      <td>D.Bailey kicks 67 yards from DAL 35 to WAS -2....</td>\n",
       "      <td>NaN</td>\n",
       "      <td>20121230_DAL@WAS</td>\n",
       "      <td>5</td>\n",
       "      <td>-7</td>\n",
       "      <td>DAL</td>\n",
       "      <td>18</td>\n",
       "      <td>4</td>\n",
       "      <td>0</td>\n",
       "      <td>-3</td>\n",
       "      <td>2012</td>\n",
       "      <td>55</td>\n",
       "      <td>0</td>\n",
       "      <td>0</td>\n",
       "      <td>NaN</td>\n",
       "      <td>10</td>\n",
       "      <td>355</td>\n",
       "    </tr>\n",
       "    <tr>\n",
       "      <th>471565</th>\n",
       "      <td>42518</td>\n",
       "      <td>DAL</td>\n",
       "      <td>18</td>\n",
       "      <td>(5:40) (Shotgun) R.Griffin left end to DAL 39 ...</td>\n",
       "      <td>1</td>\n",
       "      <td>20121230_DAL@WAS</td>\n",
       "      <td>5</td>\n",
       "      <td>7</td>\n",
       "      <td>WAS</td>\n",
       "      <td>21</td>\n",
       "      <td>4</td>\n",
       "      <td>0</td>\n",
       "      <td>3</td>\n",
       "      <td>2012</td>\n",
       "      <td>40</td>\n",
       "      <td>1</td>\n",
       "      <td>1</td>\n",
       "      <td>10</td>\n",
       "      <td>54</td>\n",
       "      <td>340</td>\n",
       "    </tr>\n",
       "    <tr>\n",
       "      <th>471566</th>\n",
       "      <td>42519</td>\n",
       "      <td>DAL</td>\n",
       "      <td>18</td>\n",
       "      <td>(4:58) (Shotgun) A.Morris left tackle to DAL 3...</td>\n",
       "      <td>1</td>\n",
       "      <td>20121230_DAL@WAS</td>\n",
       "      <td>4</td>\n",
       "      <td>7</td>\n",
       "      <td>WAS</td>\n",
       "      <td>21</td>\n",
       "      <td>4</td>\n",
       "      <td>0</td>\n",
       "      <td>3</td>\n",
       "      <td>2012</td>\n",
       "      <td>58</td>\n",
       "      <td>0</td>\n",
       "      <td>1</td>\n",
       "      <td>10</td>\n",
       "      <td>39</td>\n",
       "      <td>298</td>\n",
       "    </tr>\n",
       "    <tr>\n",
       "      <th>471567</th>\n",
       "      <td>42520</td>\n",
       "      <td>DAL</td>\n",
       "      <td>18</td>\n",
       "      <td>(4:14) (Shotgun) R.Griffin pass incomplete sho...</td>\n",
       "      <td>2</td>\n",
       "      <td>20121230_DAL@WAS</td>\n",
       "      <td>4</td>\n",
       "      <td>7</td>\n",
       "      <td>WAS</td>\n",
       "      <td>21</td>\n",
       "      <td>4</td>\n",
       "      <td>0</td>\n",
       "      <td>3</td>\n",
       "      <td>2012</td>\n",
       "      <td>14</td>\n",
       "      <td>0</td>\n",
       "      <td>1</td>\n",
       "      <td>8</td>\n",
       "      <td>37</td>\n",
       "      <td>254</td>\n",
       "    </tr>\n",
       "    <tr>\n",
       "      <th>471568</th>\n",
       "      <td>42521</td>\n",
       "      <td>DAL</td>\n",
       "      <td>18</td>\n",
       "      <td>(4:10) (Shotgun) R.Griffin sacked at 50 for -1...</td>\n",
       "      <td>3</td>\n",
       "      <td>20121230_DAL@WAS</td>\n",
       "      <td>4</td>\n",
       "      <td>7</td>\n",
       "      <td>WAS</td>\n",
       "      <td>21</td>\n",
       "      <td>4</td>\n",
       "      <td>0</td>\n",
       "      <td>3</td>\n",
       "      <td>2012</td>\n",
       "      <td>10</td>\n",
       "      <td>0</td>\n",
       "      <td>1</td>\n",
       "      <td>8</td>\n",
       "      <td>37</td>\n",
       "      <td>250</td>\n",
       "    </tr>\n",
       "    <tr>\n",
       "      <th>471569</th>\n",
       "      <td>42522</td>\n",
       "      <td>DAL</td>\n",
       "      <td>18</td>\n",
       "      <td>(3:41) S.Rocca punts 35 yards to DAL 15 Center...</td>\n",
       "      <td>4</td>\n",
       "      <td>20121230_DAL@WAS</td>\n",
       "      <td>3</td>\n",
       "      <td>7</td>\n",
       "      <td>WAS</td>\n",
       "      <td>21</td>\n",
       "      <td>4</td>\n",
       "      <td>0</td>\n",
       "      <td>3</td>\n",
       "      <td>2012</td>\n",
       "      <td>41</td>\n",
       "      <td>0</td>\n",
       "      <td>1</td>\n",
       "      <td>21</td>\n",
       "      <td>50</td>\n",
       "      <td>221</td>\n",
       "    </tr>\n",
       "    <tr>\n",
       "      <th>471570</th>\n",
       "      <td>42523</td>\n",
       "      <td>WAS</td>\n",
       "      <td>21</td>\n",
       "      <td>(3:33) (Shotgun) T.Romo pass short middle to J...</td>\n",
       "      <td>1</td>\n",
       "      <td>20121230_DAL@WAS</td>\n",
       "      <td>3</td>\n",
       "      <td>-7</td>\n",
       "      <td>DAL</td>\n",
       "      <td>18</td>\n",
       "      <td>4</td>\n",
       "      <td>0</td>\n",
       "      <td>-3</td>\n",
       "      <td>2012</td>\n",
       "      <td>33</td>\n",
       "      <td>1</td>\n",
       "      <td>0</td>\n",
       "      <td>10</td>\n",
       "      <td>85</td>\n",
       "      <td>213</td>\n",
       "    </tr>\n",
       "    <tr>\n",
       "      <th>471571</th>\n",
       "      <td>42524</td>\n",
       "      <td>WAS</td>\n",
       "      <td>21</td>\n",
       "      <td>(3:06) (No Huddle Shotgun) T.Romo pass short l...</td>\n",
       "      <td>1</td>\n",
       "      <td>20121230_DAL@WAS</td>\n",
       "      <td>3</td>\n",
       "      <td>-7</td>\n",
       "      <td>DAL</td>\n",
       "      <td>18</td>\n",
       "      <td>4</td>\n",
       "      <td>0</td>\n",
       "      <td>-3</td>\n",
       "      <td>2012</td>\n",
       "      <td>6</td>\n",
       "      <td>0</td>\n",
       "      <td>0</td>\n",
       "      <td>10</td>\n",
       "      <td>71</td>\n",
       "      <td>186</td>\n",
       "    </tr>\n",
       "    <tr>\n",
       "      <th>471572</th>\n",
       "      <td>42525</td>\n",
       "      <td>DAL</td>\n",
       "      <td>18</td>\n",
       "      <td>(3:00) (Shotgun) A.Morris right end to DAL 15 ...</td>\n",
       "      <td>1</td>\n",
       "      <td>20121230_DAL@WAS</td>\n",
       "      <td>3</td>\n",
       "      <td>7</td>\n",
       "      <td>WAS</td>\n",
       "      <td>21</td>\n",
       "      <td>4</td>\n",
       "      <td>0</td>\n",
       "      <td>3</td>\n",
       "      <td>2012</td>\n",
       "      <td>0</td>\n",
       "      <td>1</td>\n",
       "      <td>1</td>\n",
       "      <td>10</td>\n",
       "      <td>25</td>\n",
       "      <td>180</td>\n",
       "    </tr>\n",
       "    <tr>\n",
       "      <th>471573</th>\n",
       "      <td>42526</td>\n",
       "      <td>DAL</td>\n",
       "      <td>18</td>\n",
       "      <td>(2:51) (Shotgun) A.Morris right end to DAL 12 ...</td>\n",
       "      <td>1</td>\n",
       "      <td>20121230_DAL@WAS</td>\n",
       "      <td>2</td>\n",
       "      <td>7</td>\n",
       "      <td>WAS</td>\n",
       "      <td>21</td>\n",
       "      <td>4</td>\n",
       "      <td>0</td>\n",
       "      <td>3</td>\n",
       "      <td>2012</td>\n",
       "      <td>51</td>\n",
       "      <td>1</td>\n",
       "      <td>1</td>\n",
       "      <td>10</td>\n",
       "      <td>15</td>\n",
       "      <td>171</td>\n",
       "    </tr>\n",
       "    <tr>\n",
       "      <th>471574</th>\n",
       "      <td>42527</td>\n",
       "      <td>DAL</td>\n",
       "      <td>18</td>\n",
       "      <td>(2:45) (Shotgun) A.Morris left end to DAL 12 f...</td>\n",
       "      <td>2</td>\n",
       "      <td>20121230_DAL@WAS</td>\n",
       "      <td>2</td>\n",
       "      <td>7</td>\n",
       "      <td>WAS</td>\n",
       "      <td>21</td>\n",
       "      <td>4</td>\n",
       "      <td>0</td>\n",
       "      <td>3</td>\n",
       "      <td>2012</td>\n",
       "      <td>45</td>\n",
       "      <td>1</td>\n",
       "      <td>1</td>\n",
       "      <td>7</td>\n",
       "      <td>12</td>\n",
       "      <td>165</td>\n",
       "    </tr>\n",
       "    <tr>\n",
       "      <th>471575</th>\n",
       "      <td>42528</td>\n",
       "      <td>DAL</td>\n",
       "      <td>18</td>\n",
       "      <td>(2:39) R.Griffin pass incomplete short middle ...</td>\n",
       "      <td>3</td>\n",
       "      <td>20121230_DAL@WAS</td>\n",
       "      <td>2</td>\n",
       "      <td>7</td>\n",
       "      <td>WAS</td>\n",
       "      <td>21</td>\n",
       "      <td>4</td>\n",
       "      <td>0</td>\n",
       "      <td>3</td>\n",
       "      <td>2012</td>\n",
       "      <td>39</td>\n",
       "      <td>1</td>\n",
       "      <td>1</td>\n",
       "      <td>7</td>\n",
       "      <td>12</td>\n",
       "      <td>159</td>\n",
       "    </tr>\n",
       "    <tr>\n",
       "      <th>471576</th>\n",
       "      <td>42529</td>\n",
       "      <td>DAL</td>\n",
       "      <td>18</td>\n",
       "      <td>(2:35) A.Morris left tackle to DAL 3 for 3 yar...</td>\n",
       "      <td>1</td>\n",
       "      <td>20121230_DAL@WAS</td>\n",
       "      <td>2</td>\n",
       "      <td>7</td>\n",
       "      <td>WAS</td>\n",
       "      <td>21</td>\n",
       "      <td>4</td>\n",
       "      <td>0</td>\n",
       "      <td>3</td>\n",
       "      <td>2012</td>\n",
       "      <td>35</td>\n",
       "      <td>1</td>\n",
       "      <td>1</td>\n",
       "      <td>6</td>\n",
       "      <td>6</td>\n",
       "      <td>155</td>\n",
       "    </tr>\n",
       "    <tr>\n",
       "      <th>471577</th>\n",
       "      <td>42530</td>\n",
       "      <td>DAL</td>\n",
       "      <td>18</td>\n",
       "      <td>(2:00) A.Morris right guard to DAL 1 for 2 yar...</td>\n",
       "      <td>2</td>\n",
       "      <td>20121230_DAL@WAS</td>\n",
       "      <td>2</td>\n",
       "      <td>7</td>\n",
       "      <td>WAS</td>\n",
       "      <td>21</td>\n",
       "      <td>4</td>\n",
       "      <td>0</td>\n",
       "      <td>3</td>\n",
       "      <td>2012</td>\n",
       "      <td>0</td>\n",
       "      <td>1</td>\n",
       "      <td>1</td>\n",
       "      <td>3</td>\n",
       "      <td>3</td>\n",
       "      <td>120</td>\n",
       "    </tr>\n",
       "    <tr>\n",
       "      <th>471578</th>\n",
       "      <td>42531</td>\n",
       "      <td>DAL</td>\n",
       "      <td>18</td>\n",
       "      <td>(1:15) A.Morris left end for 1 yard TOUCHDOWN.</td>\n",
       "      <td>3</td>\n",
       "      <td>20121230_DAL@WAS</td>\n",
       "      <td>1</td>\n",
       "      <td>7</td>\n",
       "      <td>WAS</td>\n",
       "      <td>21</td>\n",
       "      <td>4</td>\n",
       "      <td>0</td>\n",
       "      <td>3</td>\n",
       "      <td>2012</td>\n",
       "      <td>15</td>\n",
       "      <td>1</td>\n",
       "      <td>1</td>\n",
       "      <td>1</td>\n",
       "      <td>1</td>\n",
       "      <td>75</td>\n",
       "    </tr>\n",
       "    <tr>\n",
       "      <th>471579</th>\n",
       "      <td>42532</td>\n",
       "      <td>DAL</td>\n",
       "      <td>18</td>\n",
       "      <td>K.Forbath extra point is GOOD Center-N.Sundber...</td>\n",
       "      <td>NaN</td>\n",
       "      <td>20121230_DAL@WAS</td>\n",
       "      <td>1</td>\n",
       "      <td>7</td>\n",
       "      <td>WAS</td>\n",
       "      <td>21</td>\n",
       "      <td>4</td>\n",
       "      <td>7</td>\n",
       "      <td>3</td>\n",
       "      <td>2012</td>\n",
       "      <td>15</td>\n",
       "      <td>0</td>\n",
       "      <td>1</td>\n",
       "      <td>NaN</td>\n",
       "      <td>1</td>\n",
       "      <td>75</td>\n",
       "    </tr>\n",
       "    <tr>\n",
       "      <th>471580</th>\n",
       "      <td>42533</td>\n",
       "      <td>DAL</td>\n",
       "      <td>18</td>\n",
       "      <td>K.Forbath kicks 59 yards from WAS 35 to DAL 6....</td>\n",
       "      <td>NaN</td>\n",
       "      <td>20121230_DAL@WAS</td>\n",
       "      <td>1</td>\n",
       "      <td>7</td>\n",
       "      <td>WAS</td>\n",
       "      <td>28</td>\n",
       "      <td>4</td>\n",
       "      <td>0</td>\n",
       "      <td>10</td>\n",
       "      <td>2012</td>\n",
       "      <td>15</td>\n",
       "      <td>0</td>\n",
       "      <td>1</td>\n",
       "      <td>NaN</td>\n",
       "      <td>1</td>\n",
       "      <td>75</td>\n",
       "    </tr>\n",
       "    <tr>\n",
       "      <th>471581</th>\n",
       "      <td>42534</td>\n",
       "      <td>WAS</td>\n",
       "      <td>28</td>\n",
       "      <td>(1:02) (Shotgun) T.Romo pass short middle to F...</td>\n",
       "      <td>1</td>\n",
       "      <td>20121230_DAL@WAS</td>\n",
       "      <td>1</td>\n",
       "      <td>-7</td>\n",
       "      <td>DAL</td>\n",
       "      <td>18</td>\n",
       "      <td>4</td>\n",
       "      <td>0</td>\n",
       "      <td>-10</td>\n",
       "      <td>2012</td>\n",
       "      <td>2</td>\n",
       "      <td>0</td>\n",
       "      <td>0</td>\n",
       "      <td>10</td>\n",
       "      <td>74</td>\n",
       "      <td>62</td>\n",
       "    </tr>\n",
       "    <tr>\n",
       "      <th>471582</th>\n",
       "      <td>42535</td>\n",
       "      <td>WAS</td>\n",
       "      <td>28</td>\n",
       "      <td>(:40) (No Huddle Shotgun) T.Romo pass short ri...</td>\n",
       "      <td>2</td>\n",
       "      <td>20121230_DAL@WAS</td>\n",
       "      <td>0</td>\n",
       "      <td>-7</td>\n",
       "      <td>DAL</td>\n",
       "      <td>18</td>\n",
       "      <td>4</td>\n",
       "      <td>0</td>\n",
       "      <td>-10</td>\n",
       "      <td>2012</td>\n",
       "      <td>40</td>\n",
       "      <td>0</td>\n",
       "      <td>0</td>\n",
       "      <td>6</td>\n",
       "      <td>70</td>\n",
       "      <td>40</td>\n",
       "    </tr>\n",
       "    <tr>\n",
       "      <th>471583</th>\n",
       "      <td>42536</td>\n",
       "      <td>WAS</td>\n",
       "      <td>28</td>\n",
       "      <td>(:15) (No Huddle Shotgun) T.Romo pass short mi...</td>\n",
       "      <td>3</td>\n",
       "      <td>20121230_DAL@WAS</td>\n",
       "      <td>0</td>\n",
       "      <td>-7</td>\n",
       "      <td>DAL</td>\n",
       "      <td>18</td>\n",
       "      <td>4</td>\n",
       "      <td>0</td>\n",
       "      <td>-10</td>\n",
       "      <td>2012</td>\n",
       "      <td>15</td>\n",
       "      <td>0</td>\n",
       "      <td>0</td>\n",
       "      <td>1</td>\n",
       "      <td>65</td>\n",
       "      <td>15</td>\n",
       "    </tr>\n",
       "  </tbody>\n",
       "</table>\n",
       "<p>471584 rows × 20 columns</p>\n",
       "</div>"
      ],
      "text/plain": [
       "        Unnamed: 0  def  defscore  \\\n",
       "0                0  NYG         0   \n",
       "1                1   SF         0   \n",
       "2                2   SF         0   \n",
       "3                3   SF         0   \n",
       "4                4   SF         0   \n",
       "5                5  NYG         0   \n",
       "6                6  NYG         0   \n",
       "7                7  NYG         0   \n",
       "8                8  NYG         0   \n",
       "9                9  NYG         0   \n",
       "10              10  NYG         0   \n",
       "11              11   SF         0   \n",
       "12              12   SF         0   \n",
       "13              13   SF         0   \n",
       "14              14   SF         0   \n",
       "15              15   SF         0   \n",
       "16              16   SF         0   \n",
       "17              17   SF         0   \n",
       "18              18   SF         0   \n",
       "19              19   SF         0   \n",
       "20              20   SF         0   \n",
       "21              21   SF         0   \n",
       "22              22   SF         0   \n",
       "23              23   SF         0   \n",
       "24              24   SF         0   \n",
       "25              25   SF         0   \n",
       "26              26   SF         0   \n",
       "27              27  NYG         3   \n",
       "28              28  NYG         3   \n",
       "29              29  NYG         3   \n",
       "...            ...  ...       ...   \n",
       "471554       42507  WAS        21   \n",
       "471555       42508  DAL        10   \n",
       "471556       42509  DAL        10   \n",
       "471557       42510  DAL        10   \n",
       "471558       42511  DAL        10   \n",
       "471559       42512  DAL        10   \n",
       "471560       42513  WAS        21   \n",
       "471561       42514  WAS        21   \n",
       "471562       42515  WAS        21   \n",
       "471563       42516  WAS        21   \n",
       "471564       42517  WAS        21   \n",
       "471565       42518  DAL        18   \n",
       "471566       42519  DAL        18   \n",
       "471567       42520  DAL        18   \n",
       "471568       42521  DAL        18   \n",
       "471569       42522  DAL        18   \n",
       "471570       42523  WAS        21   \n",
       "471571       42524  WAS        21   \n",
       "471572       42525  DAL        18   \n",
       "471573       42526  DAL        18   \n",
       "471574       42527  DAL        18   \n",
       "471575       42528  DAL        18   \n",
       "471576       42529  DAL        18   \n",
       "471577       42530  DAL        18   \n",
       "471578       42531  DAL        18   \n",
       "471579       42532  DAL        18   \n",
       "471580       42533  DAL        18   \n",
       "471581       42534  WAS        28   \n",
       "471582       42535  WAS        28   \n",
       "471583       42536  WAS        28   \n",
       "\n",
       "                                              description  down  \\\n",
       "0       J.Cortez kicks 75 yards from SF 30 to NYG -5. ...   NaN   \n",
       "1       (15:00) T.Barber left end to NYG 24 for 4 yard...     1   \n",
       "2       (14:25) K.Collins pass incomplete to J.Shockey...     2   \n",
       "3       (14:20) PENALTY on NYG-J.Shockey  False Start ...     3   \n",
       "4       (14:20) (Shotgun) K.Collins pass intended for ...     3   \n",
       "5       (14:09) J.Garcia right end ran ob at NYG 7 for...     1   \n",
       "6       (13:38) PENALTY on SF-R.Stone  False Start  5 ...     1   \n",
       "7       (13:35) G.Hearst left guard to NYG 8 for 4 yar...     1   \n",
       "8            (12:47) J.Garcia pass incomplete to T.Owens.     2   \n",
       "9       (12:40) J.Garcia pass to G.Hearst to NYG 7 for...     3   \n",
       "10      (11:59) J.Cortez 25 yard field goal is BLOCKED...     4   \n",
       "11      (11:51) K.Collins pass to A.Toomer pushed ob a...     1   \n",
       "12      (11:23) K.Collins pass incomplete to A.Toomer....     2   \n",
       "13      (11:19) T.Barber left end ran ob at NYG 43 for...     1   \n",
       "14      (10:56) K.Collins pass to A.Toomer pushed ob a...     1   \n",
       "15      (10:30) PENALTY on NYG-A.Toomer  False Start  ...     1   \n",
       "16      (10:15) R.Dayne right guard to NYG 28 for no g...     1   \n",
       "17      (9:39) K.Collins pass to A.Toomer to 50 for 22...     2   \n",
       "18      (8:57) K.Collins pass to A.Toomer to SF 36 for...     3   \n",
       "19      (8:16) T.Barber right guard to SF 30 for 6 yar...     1   \n",
       "20      (7:34) K.Collins FUMBLES (Aborted) at SF 30  R...     2   \n",
       "21      (7:20) K.Collins pass to I.Hilliard to SF 13 f...     1   \n",
       "22      (6:49) R.Dayne right tackle to SF 11 for 2 yar...     1   \n",
       "23      (6:09) K.Collins pass incomplete to A.Toomer (...     2   \n",
       "24        (6:04) K.Collins pass incomplete to I.Hilliard.     3   \n",
       "25      (6:04) M.Bryant 29 yard field goal is GOOD  Ce...     4   \n",
       "26      M.Bryant kicks 58 yards from NYG 30 to SF 12. ...   NaN   \n",
       "27      (5:45) J.Garcia up the middle to SF 35 for 3 y...     1   \n",
       "28          (5:04) J.Garcia pass incomplete to E.Johnson.     2   \n",
       "29      (4:58) J.Garcia pass to E.Johnson to NYG 27 fo...     3   \n",
       "...                                                   ...   ...   \n",
       "471554  (8:52) B.Moorman punts 45 yards to WAS 10 Cent...     4   \n",
       "471555  (8:39) (Shotgun) A.Morris left guard to WAS 33...     1   \n",
       "471556  (7:58) (Shotgun) PENALTY on WAS-T.Williams Fal...     2   \n",
       "471557  (7:36) (Shotgun) A.Morris right end to WAS 27 ...     2   \n",
       "471558  (6:56) (Shotgun) R.Griffin pass incomplete dee...     3   \n",
       "471559  (6:49) S.Rocca punts 43 yards to DAL 30 Center...     4   \n",
       "471560  (6:35) (Shotgun) T.Romo pass short left to D.M...     1   \n",
       "471561  (6:02) (No Huddle Shotgun) T.Romo pass incompl...     2   \n",
       "471562  (5:55) (Shotgun) T.Romo pass short left to K.O...     3   \n",
       "471563  (Run formation) TWO-POINT CONVERSION ATTEMPT. ...   NaN   \n",
       "471564  D.Bailey kicks 67 yards from DAL 35 to WAS -2....   NaN   \n",
       "471565  (5:40) (Shotgun) R.Griffin left end to DAL 39 ...     1   \n",
       "471566  (4:58) (Shotgun) A.Morris left tackle to DAL 3...     1   \n",
       "471567  (4:14) (Shotgun) R.Griffin pass incomplete sho...     2   \n",
       "471568  (4:10) (Shotgun) R.Griffin sacked at 50 for -1...     3   \n",
       "471569  (3:41) S.Rocca punts 35 yards to DAL 15 Center...     4   \n",
       "471570  (3:33) (Shotgun) T.Romo pass short middle to J...     1   \n",
       "471571  (3:06) (No Huddle Shotgun) T.Romo pass short l...     1   \n",
       "471572  (3:00) (Shotgun) A.Morris right end to DAL 15 ...     1   \n",
       "471573  (2:51) (Shotgun) A.Morris right end to DAL 12 ...     1   \n",
       "471574  (2:45) (Shotgun) A.Morris left end to DAL 12 f...     2   \n",
       "471575  (2:39) R.Griffin pass incomplete short middle ...     3   \n",
       "471576  (2:35) A.Morris left tackle to DAL 3 for 3 yar...     1   \n",
       "471577  (2:00) A.Morris right guard to DAL 1 for 2 yar...     2   \n",
       "471578     (1:15) A.Morris left end for 1 yard TOUCHDOWN.     3   \n",
       "471579  K.Forbath extra point is GOOD Center-N.Sundber...   NaN   \n",
       "471580  K.Forbath kicks 59 yards from WAS 35 to DAL 6....   NaN   \n",
       "471581  (1:02) (Shotgun) T.Romo pass short middle to F...     1   \n",
       "471582  (:40) (No Huddle Shotgun) T.Romo pass short ri...     2   \n",
       "471583  (:15) (No Huddle Shotgun) T.Romo pass short mi...     3   \n",
       "\n",
       "                  gameid  min  nextscore  off  offscore  qtr  scorechange  \\\n",
       "0        20020905_SF@NYG  NaN        NaN   SF         0    1          NaN   \n",
       "1        20020905_SF@NYG   60        NaN  NYG         0    1          NaN   \n",
       "2        20020905_SF@NYG   59        NaN  NYG         0    1          NaN   \n",
       "3        20020905_SF@NYG   59        NaN  NYG         0    1          NaN   \n",
       "4        20020905_SF@NYG   59        NaN  NYG         0    1          NaN   \n",
       "5        20020905_SF@NYG   59        NaN   SF         0    1          NaN   \n",
       "6        20020905_SF@NYG   58        NaN   SF         0    1          NaN   \n",
       "7        20020905_SF@NYG   58        NaN   SF         0    1          NaN   \n",
       "8        20020905_SF@NYG   57        NaN   SF         0    1          NaN   \n",
       "9        20020905_SF@NYG   57        NaN   SF         0    1          NaN   \n",
       "10       20020905_SF@NYG   56        NaN   SF         0    1          NaN   \n",
       "11       20020905_SF@NYG   56        NaN  NYG         0    1          NaN   \n",
       "12       20020905_SF@NYG   56        NaN  NYG         0    1          NaN   \n",
       "13       20020905_SF@NYG   56        NaN  NYG         0    1          NaN   \n",
       "14       20020905_SF@NYG   55        NaN  NYG         0    1          NaN   \n",
       "15       20020905_SF@NYG   55        NaN  NYG         0    1          NaN   \n",
       "16       20020905_SF@NYG   55        NaN  NYG         0    1          NaN   \n",
       "17       20020905_SF@NYG   54        NaN  NYG         0    1          NaN   \n",
       "18       20020905_SF@NYG   53        NaN  NYG         0    1          NaN   \n",
       "19       20020905_SF@NYG   53        NaN  NYG         0    1          NaN   \n",
       "20       20020905_SF@NYG   52        NaN  NYG         0    1          NaN   \n",
       "21       20020905_SF@NYG   52        NaN  NYG         0    1          NaN   \n",
       "22       20020905_SF@NYG   51        NaN  NYG         0    1          NaN   \n",
       "23       20020905_SF@NYG   51        NaN  NYG         0    1          NaN   \n",
       "24       20020905_SF@NYG   51        NaN  NYG         0    1          NaN   \n",
       "25       20020905_SF@NYG   51        NaN  NYG         0    1          NaN   \n",
       "26       20020905_SF@NYG   51        NaN  NYG         3    1          NaN   \n",
       "27       20020905_SF@NYG   50        NaN   SF         0    1          NaN   \n",
       "28       20020905_SF@NYG   50        NaN   SF         0    1          NaN   \n",
       "29       20020905_SF@NYG   49        NaN   SF         0    1          NaN   \n",
       "...                  ...  ...        ...  ...       ...  ...          ...   \n",
       "471554  20121230_DAL@WAS    8          8  DAL        10    4            0   \n",
       "471555  20121230_DAL@WAS    8         -8  WAS        21    4            0   \n",
       "471556  20121230_DAL@WAS    7         -8  WAS        21    4            0   \n",
       "471557  20121230_DAL@WAS    7         -8  WAS        21    4            0   \n",
       "471558  20121230_DAL@WAS    6         -8  WAS        21    4            0   \n",
       "471559  20121230_DAL@WAS    6         -8  WAS        21    4            0   \n",
       "471560  20121230_DAL@WAS    6          8  DAL        10    4            0   \n",
       "471561  20121230_DAL@WAS    6          8  DAL        10    4            0   \n",
       "471562  20121230_DAL@WAS    5          8  DAL        10    4            0   \n",
       "471563  20121230_DAL@WAS    5          8  DAL        10    4            8   \n",
       "471564  20121230_DAL@WAS    5         -7  DAL        18    4            0   \n",
       "471565  20121230_DAL@WAS    5          7  WAS        21    4            0   \n",
       "471566  20121230_DAL@WAS    4          7  WAS        21    4            0   \n",
       "471567  20121230_DAL@WAS    4          7  WAS        21    4            0   \n",
       "471568  20121230_DAL@WAS    4          7  WAS        21    4            0   \n",
       "471569  20121230_DAL@WAS    3          7  WAS        21    4            0   \n",
       "471570  20121230_DAL@WAS    3         -7  DAL        18    4            0   \n",
       "471571  20121230_DAL@WAS    3         -7  DAL        18    4            0   \n",
       "471572  20121230_DAL@WAS    3          7  WAS        21    4            0   \n",
       "471573  20121230_DAL@WAS    2          7  WAS        21    4            0   \n",
       "471574  20121230_DAL@WAS    2          7  WAS        21    4            0   \n",
       "471575  20121230_DAL@WAS    2          7  WAS        21    4            0   \n",
       "471576  20121230_DAL@WAS    2          7  WAS        21    4            0   \n",
       "471577  20121230_DAL@WAS    2          7  WAS        21    4            0   \n",
       "471578  20121230_DAL@WAS    1          7  WAS        21    4            0   \n",
       "471579  20121230_DAL@WAS    1          7  WAS        21    4            7   \n",
       "471580  20121230_DAL@WAS    1          7  WAS        28    4            0   \n",
       "471581  20121230_DAL@WAS    1         -7  DAL        18    4            0   \n",
       "471582  20121230_DAL@WAS    0         -7  DAL        18    4            0   \n",
       "471583  20121230_DAL@WAS    0         -7  DAL        18    4            0   \n",
       "\n",
       "        scorediff  season  sec  series1stdn  teamwin  togo  ydline  \\\n",
       "0             NaN    2002    0          NaN      NaN   NaN     NaN   \n",
       "1             NaN    2002    0          NaN      NaN    10      80   \n",
       "2             NaN    2002   25          NaN      NaN     6      76   \n",
       "3             NaN    2002   20          NaN      NaN     6      76   \n",
       "4             NaN    2002   20          NaN      NaN    11      81   \n",
       "5             NaN    2002    9          NaN      NaN    10      23   \n",
       "6             NaN    2002   38          NaN      NaN     7       7   \n",
       "7             NaN    2002   35          NaN      NaN    12      12   \n",
       "8             NaN    2002   47          NaN      NaN     8       8   \n",
       "9             NaN    2002   40          NaN      NaN     8       8   \n",
       "10            NaN    2002   59          NaN      NaN     7       7   \n",
       "11            NaN    2002   51          NaN      NaN    10      80   \n",
       "12            NaN    2002   23          NaN      NaN     8      78   \n",
       "13            NaN    2002   19          NaN      NaN    10      73   \n",
       "14            NaN    2002   56          NaN      NaN    10      57   \n",
       "15            NaN    2002   30          NaN      NaN    20      67   \n",
       "16            NaN    2002   15          NaN      NaN    25      72   \n",
       "17            NaN    2002   39          NaN      NaN    25      72   \n",
       "18            NaN    2002   57          NaN      NaN     3      50   \n",
       "19            NaN    2002   16          NaN      NaN    10      36   \n",
       "20            NaN    2002   34          NaN      NaN     4      30   \n",
       "21            NaN    2002   20          NaN      NaN    10      25   \n",
       "22            NaN    2002   49          NaN      NaN    10      13   \n",
       "23            NaN    2002    9          NaN      NaN     8      11   \n",
       "24            NaN    2002    4          NaN      NaN     8      11   \n",
       "25            NaN    2002    4          NaN      NaN     8      11   \n",
       "26            NaN    2002    4          NaN      NaN   NaN      11   \n",
       "27            NaN    2002   45          NaN      NaN    10      68   \n",
       "28            NaN    2002    4          NaN      NaN     7      65   \n",
       "29            NaN    2002   58          NaN      NaN     7      65   \n",
       "...           ...     ...  ...          ...      ...   ...     ...   \n",
       "471554        -11    2012   52            0        0    28      55   \n",
       "471555         11    2012   39            0        1    10      75   \n",
       "471556         11    2012   58            0        1     2      67   \n",
       "471557         11    2012   36            0        1     7      72   \n",
       "471558         11    2012   56            0        1     8      73   \n",
       "471559         11    2012   49            0        1     8      73   \n",
       "471560        -11    2012   35            1        0    10      16   \n",
       "471561        -11    2012    2            1        0     4      10   \n",
       "471562        -11    2012   55            1        0     4      10   \n",
       "471563        -11    2012   55            0        0   NaN      10   \n",
       "471564         -3    2012   55            0        0   NaN      10   \n",
       "471565          3    2012   40            1        1    10      54   \n",
       "471566          3    2012   58            0        1    10      39   \n",
       "471567          3    2012   14            0        1     8      37   \n",
       "471568          3    2012   10            0        1     8      37   \n",
       "471569          3    2012   41            0        1    21      50   \n",
       "471570         -3    2012   33            1        0    10      85   \n",
       "471571         -3    2012    6            0        0    10      71   \n",
       "471572          3    2012    0            1        1    10      25   \n",
       "471573          3    2012   51            1        1    10      15   \n",
       "471574          3    2012   45            1        1     7      12   \n",
       "471575          3    2012   39            1        1     7      12   \n",
       "471576          3    2012   35            1        1     6       6   \n",
       "471577          3    2012    0            1        1     3       3   \n",
       "471578          3    2012   15            1        1     1       1   \n",
       "471579          3    2012   15            0        1   NaN       1   \n",
       "471580         10    2012   15            0        1   NaN       1   \n",
       "471581        -10    2012    2            0        0    10      74   \n",
       "471582        -10    2012   40            0        0     6      70   \n",
       "471583        -10    2012   15            0        0     1      65   \n",
       "\n",
       "        secs_to_end  \n",
       "0               NaN  \n",
       "1              3600  \n",
       "2              3565  \n",
       "3              3560  \n",
       "4              3560  \n",
       "5              3549  \n",
       "6              3518  \n",
       "7              3515  \n",
       "8              3467  \n",
       "9              3460  \n",
       "10             3419  \n",
       "11             3411  \n",
       "12             3383  \n",
       "13             3379  \n",
       "14             3356  \n",
       "15             3330  \n",
       "16             3315  \n",
       "17             3279  \n",
       "18             3237  \n",
       "19             3196  \n",
       "20             3154  \n",
       "21             3140  \n",
       "22             3109  \n",
       "23             3069  \n",
       "24             3064  \n",
       "25             3064  \n",
       "26             3064  \n",
       "27             3045  \n",
       "28             3004  \n",
       "29             2998  \n",
       "...             ...  \n",
       "471554          532  \n",
       "471555          519  \n",
       "471556          478  \n",
       "471557          456  \n",
       "471558          416  \n",
       "471559          409  \n",
       "471560          395  \n",
       "471561          362  \n",
       "471562          355  \n",
       "471563          355  \n",
       "471564          355  \n",
       "471565          340  \n",
       "471566          298  \n",
       "471567          254  \n",
       "471568          250  \n",
       "471569          221  \n",
       "471570          213  \n",
       "471571          186  \n",
       "471572          180  \n",
       "471573          171  \n",
       "471574          165  \n",
       "471575          159  \n",
       "471576          155  \n",
       "471577          120  \n",
       "471578           75  \n",
       "471579           75  \n",
       "471580           75  \n",
       "471581           62  \n",
       "471582           40  \n",
       "471583           15  \n",
       "\n",
       "[471584 rows x 20 columns]"
      ]
     },
     "execution_count": 4,
     "metadata": {},
     "output_type": "execute_result"
    }
   ],
   "source": [
    "#df_list = []\n",
    "#for name in files:\n",
    "#    df = pd.read_csv(name)\n",
    "#    df_list.append(df)\n",
    "dat = pd.read_csv(files[0])\n",
    "dat  "
   ]
  },
  {
   "cell_type": "code",
   "execution_count": 6,
   "metadata": {
    "collapsed": false
   },
   "outputs": [
    {
     "data": {
      "text/plain": [
       "Index([u'Unnamed: 0', u'def', u'defscore', u'description', u'down', u'gameid',\n",
       "       u'min', u'nextscore', u'off', u'offscore', u'qtr', u'scorechange',\n",
       "       u'scorediff', u'season', u'sec', u'series1stdn', u'teamwin', u'togo',\n",
       "       u'ydline', u'secs_to_end'],\n",
       "      dtype='object')"
      ]
     },
     "execution_count": 6,
     "metadata": {},
     "output_type": "execute_result"
    }
   ],
   "source": [
    "dat.keys()"
   ]
  },
  {
   "cell_type": "code",
   "execution_count": 7,
   "metadata": {
    "collapsed": false
   },
   "outputs": [],
   "source": [
    "dat['secs_to_half'] = dat.secs_to_end"
   ]
  },
  {
   "cell_type": "code",
   "execution_count": 8,
   "metadata": {
    "collapsed": false
   },
   "outputs": [
    {
     "name": "stderr",
     "output_type": "stream",
     "text": [
      "/anaconda/lib/python2.7/site-packages/IPython/kernel/__main__.py:1: SettingWithCopyWarning: \n",
      "A value is trying to be set on a copy of a slice from a DataFrame\n",
      "\n",
      "See the caveats in the documentation: http://pandas.pydata.org/pandas-docs/stable/indexing.html#indexing-view-versus-copy\n",
      "  if __name__ == '__main__':\n"
     ]
    }
   ],
   "source": [
    "dat['secs_to_half'][dat['secs_to_half']>60*30] = dat['secs_to_half'][dat['secs_to_half']>60*30] - 60*30"
   ]
  },
  {
   "cell_type": "code",
   "execution_count": 9,
   "metadata": {
    "collapsed": false
   },
   "outputs": [],
   "source": [
    "dat['pass'] = dat.description.str.contains('pass')"
   ]
  },
  {
   "cell_type": "code",
   "execution_count": 10,
   "metadata": {
    "collapsed": true
   },
   "outputs": [],
   "source": [
    "dat['kickoff'] = dat.description.str.contains('kicks')"
   ]
  },
  {
   "cell_type": "code",
   "execution_count": 11,
   "metadata": {
    "collapsed": true
   },
   "outputs": [],
   "source": [
    "dat['extra_point'] = dat.description.str.contains('extra point')"
   ]
  },
  {
   "cell_type": "code",
   "execution_count": 12,
   "metadata": {
    "collapsed": false
   },
   "outputs": [],
   "source": [
    "dat['punt'] = dat.description.str.contains('punts')"
   ]
  },
  {
   "cell_type": "code",
   "execution_count": 13,
   "metadata": {
    "collapsed": false
   },
   "outputs": [
    {
     "data": {
      "text/plain": [
       "'(14:20) (Shotgun) K.Collins pass intended for T.Barber INTERCEPTED by T.Parrish (M.Rumph) at NYG 29. T.Parrish to NYG 23 for 6 yards (T.Barber).'"
      ]
     },
     "execution_count": 13,
     "metadata": {},
     "output_type": "execute_result"
    }
   ],
   "source": [
    "dat.iloc[4].description"
   ]
  },
  {
   "cell_type": "code",
   "execution_count": 14,
   "metadata": {
    "collapsed": false
   },
   "outputs": [],
   "source": [
    "dat['run'] = dat.description.str.contains('left end|left tackle|left guard|up the middle|right guard|right tackle|right end')"
   ]
  },
  {
   "cell_type": "code",
   "execution_count": 15,
   "metadata": {
    "collapsed": false
   },
   "outputs": [],
   "source": [
    "dat['kneel'] = dat.description.str.contains('kneel')"
   ]
  },
  {
   "cell_type": "code",
   "execution_count": 16,
   "metadata": {
    "collapsed": true
   },
   "outputs": [],
   "source": [
    "dat['sack'] = dat.description.str.contains('sacked')"
   ]
  },
  {
   "cell_type": "code",
   "execution_count": 17,
   "metadata": {
    "collapsed": true
   },
   "outputs": [],
   "source": [
    "dat['penalty'] = dat.description.str.contains('PENALTY')"
   ]
  },
  {
   "cell_type": "code",
   "execution_count": 18,
   "metadata": {
    "collapsed": true
   },
   "outputs": [],
   "source": [
    "dat['field_goal'] = dat.description.str.contains('field goal')"
   ]
  },
  {
   "cell_type": "code",
   "execution_count": 19,
   "metadata": {
    "collapsed": true
   },
   "outputs": [],
   "source": [
    "dat['fumble'] = dat.description.str.contains('fumble')"
   ]
  },
  {
   "cell_type": "code",
   "execution_count": 20,
   "metadata": {
    "collapsed": true
   },
   "outputs": [],
   "source": [
    "dat['interception'] = dat.description.str.contains('intercepted')"
   ]
  },
  {
   "cell_type": "code",
   "execution_count": 21,
   "metadata": {
    "collapsed": true
   },
   "outputs": [],
   "source": [
    "dat['scramble'] = dat.description.str.contains('scrambles')"
   ]
  },
  {
   "cell_type": "code",
   "execution_count": 22,
   "metadata": {
    "collapsed": true
   },
   "outputs": [],
   "source": [
    "dat['run_scramble'] = dat.run | dat.scramble"
   ]
  },
  {
   "cell_type": "code",
   "execution_count": 23,
   "metadata": {
    "collapsed": false
   },
   "outputs": [],
   "source": [
    "dat['spike'] = dat.description.str.contains('spikes')"
   ]
  },
  {
   "cell_type": "code",
   "execution_count": 24,
   "metadata": {
    "collapsed": false
   },
   "outputs": [],
   "source": [
    "dat['team_separator'] = dat.gameid.str.find('@')"
   ]
  },
  {
   "cell_type": "code",
   "execution_count": 25,
   "metadata": {
    "collapsed": false
   },
   "outputs": [],
   "source": [
    "dat['away_start_ix'] = dat.gameid.str.find('_')"
   ]
  },
  {
   "cell_type": "code",
   "execution_count": 26,
   "metadata": {
    "collapsed": false
   },
   "outputs": [],
   "source": [
    "dat['home_team'] = dat.gameid.str[-3:]"
   ]
  },
  {
   "cell_type": "code",
   "execution_count": 27,
   "metadata": {
    "collapsed": false
   },
   "outputs": [],
   "source": [
    "dat.home_team = dat.home_team.str.replace('@','')"
   ]
  },
  {
   "cell_type": "code",
   "execution_count": 28,
   "metadata": {
    "collapsed": true
   },
   "outputs": [],
   "source": [
    "dat['away_team'] = np.nan"
   ]
  },
  {
   "cell_type": "code",
   "execution_count": 29,
   "metadata": {
    "collapsed": false
   },
   "outputs": [
    {
     "name": "stderr",
     "output_type": "stream",
     "text": [
      "/anaconda/lib/python2.7/site-packages/IPython/kernel/__main__.py:1: SettingWithCopyWarning: \n",
      "A value is trying to be set on a copy of a slice from a DataFrame\n",
      "\n",
      "See the caveats in the documentation: http://pandas.pydata.org/pandas-docs/stable/indexing.html#indexing-view-versus-copy\n",
      "  if __name__ == '__main__':\n"
     ]
    }
   ],
   "source": [
    "dat['away_team'][dat['def']==dat['home_team']] = dat['off'][dat['def']==dat['home_team']]"
   ]
  },
  {
   "cell_type": "code",
   "execution_count": 30,
   "metadata": {
    "collapsed": false
   },
   "outputs": [
    {
     "name": "stderr",
     "output_type": "stream",
     "text": [
      "/anaconda/lib/python2.7/site-packages/IPython/kernel/__main__.py:1: SettingWithCopyWarning: \n",
      "A value is trying to be set on a copy of a slice from a DataFrame\n",
      "\n",
      "See the caveats in the documentation: http://pandas.pydata.org/pandas-docs/stable/indexing.html#indexing-view-versus-copy\n",
      "  if __name__ == '__main__':\n"
     ]
    }
   ],
   "source": [
    "dat['away_team'][dat['off']==dat['home_team']] = dat['def'][dat['off']==dat['home_team']]"
   ]
  },
  {
   "cell_type": "code",
   "execution_count": 31,
   "metadata": {
    "collapsed": false
   },
   "outputs": [],
   "source": [
    "dat['home_score'] = np.nan"
   ]
  },
  {
   "cell_type": "code",
   "execution_count": 32,
   "metadata": {
    "collapsed": false
   },
   "outputs": [
    {
     "name": "stderr",
     "output_type": "stream",
     "text": [
      "/anaconda/lib/python2.7/site-packages/IPython/kernel/__main__.py:1: SettingWithCopyWarning: \n",
      "A value is trying to be set on a copy of a slice from a DataFrame\n",
      "\n",
      "See the caveats in the documentation: http://pandas.pydata.org/pandas-docs/stable/indexing.html#indexing-view-versus-copy\n",
      "  if __name__ == '__main__':\n"
     ]
    }
   ],
   "source": [
    "dat['home_score'][dat['home_team']==dat['off']] = dat.offscore[dat['home_team']==dat['off']]"
   ]
  },
  {
   "cell_type": "code",
   "execution_count": 33,
   "metadata": {
    "collapsed": false
   },
   "outputs": [
    {
     "name": "stderr",
     "output_type": "stream",
     "text": [
      "/anaconda/lib/python2.7/site-packages/IPython/kernel/__main__.py:1: SettingWithCopyWarning: \n",
      "A value is trying to be set on a copy of a slice from a DataFrame\n",
      "\n",
      "See the caveats in the documentation: http://pandas.pydata.org/pandas-docs/stable/indexing.html#indexing-view-versus-copy\n",
      "  if __name__ == '__main__':\n"
     ]
    }
   ],
   "source": [
    "dat['home_score'][dat['home_team']==dat['def']] = dat.defscore[dat['home_team']==dat['def']]"
   ]
  },
  {
   "cell_type": "code",
   "execution_count": 34,
   "metadata": {
    "collapsed": true
   },
   "outputs": [],
   "source": [
    "dat['away_score'] = np.nan"
   ]
  },
  {
   "cell_type": "code",
   "execution_count": 35,
   "metadata": {
    "collapsed": false
   },
   "outputs": [
    {
     "name": "stderr",
     "output_type": "stream",
     "text": [
      "/anaconda/lib/python2.7/site-packages/IPython/kernel/__main__.py:1: SettingWithCopyWarning: \n",
      "A value is trying to be set on a copy of a slice from a DataFrame\n",
      "\n",
      "See the caveats in the documentation: http://pandas.pydata.org/pandas-docs/stable/indexing.html#indexing-view-versus-copy\n",
      "  if __name__ == '__main__':\n"
     ]
    }
   ],
   "source": [
    "dat['away_score'][dat['home_team']==dat['off']] = dat.defscore[dat['home_team']==dat['off']]"
   ]
  },
  {
   "cell_type": "code",
   "execution_count": 36,
   "metadata": {
    "collapsed": false
   },
   "outputs": [
    {
     "name": "stderr",
     "output_type": "stream",
     "text": [
      "/anaconda/lib/python2.7/site-packages/IPython/kernel/__main__.py:1: SettingWithCopyWarning: \n",
      "A value is trying to be set on a copy of a slice from a DataFrame\n",
      "\n",
      "See the caveats in the documentation: http://pandas.pydata.org/pandas-docs/stable/indexing.html#indexing-view-versus-copy\n",
      "  if __name__ == '__main__':\n"
     ]
    }
   ],
   "source": [
    "dat['away_score'][dat['home_team']==dat['def']] = dat.offscore[dat['home_team']==dat['def']]"
   ]
  },
  {
   "cell_type": "code",
   "execution_count": 37,
   "metadata": {
    "collapsed": true
   },
   "outputs": [],
   "source": [
    "dat.scorediff = dat.offscore - dat.defscore"
   ]
  },
  {
   "cell_type": "code",
   "execution_count": 38,
   "metadata": {
    "collapsed": false
   },
   "outputs": [
    {
     "data": {
      "text/plain": [
       "Index([u'Unnamed: 0', u'def', u'defscore', u'description', u'down', u'gameid',\n",
       "       u'min', u'nextscore', u'off', u'offscore', u'qtr', u'scorechange',\n",
       "       u'scorediff', u'season', u'sec', u'series1stdn', u'teamwin', u'togo',\n",
       "       u'ydline', u'secs_to_end', u'secs_to_half', u'pass', u'kickoff',\n",
       "       u'extra_point', u'punt', u'run', u'kneel', u'sack', u'penalty',\n",
       "       u'field_goal', u'fumble', u'interception', u'scramble', u'run_scramble',\n",
       "       u'spike', u'team_separator', u'away_start_ix', u'home_team',\n",
       "       u'away_team', u'home_score', u'away_score'],\n",
       "      dtype='object')"
      ]
     },
     "execution_count": 38,
     "metadata": {},
     "output_type": "execute_result"
    }
   ],
   "source": [
    "dat.keys()"
   ]
  },
  {
   "cell_type": "code",
   "execution_count": 39,
   "metadata": {
    "collapsed": false
   },
   "outputs": [],
   "source": [
    "dat['scorediff_home'] = dat.home_score - dat.away_score"
   ]
  },
  {
   "cell_type": "code",
   "execution_count": 40,
   "metadata": {
    "collapsed": false
   },
   "outputs": [],
   "source": [
    "dat['scorediff_away'] = dat.away_score - dat.home_score"
   ]
  },
  {
   "cell_type": "code",
   "execution_count": 41,
   "metadata": {
    "collapsed": true
   },
   "outputs": [],
   "source": [
    "dat.to_csv('archive.csv')"
   ]
  },
  {
   "cell_type": "code",
   "execution_count": 42,
   "metadata": {
    "collapsed": true
   },
   "outputs": [],
   "source": [
    "from sklearn import cluster\n",
    "from sklearn import preprocessing\n",
    "import statsmodels.api as sm\n",
    "import matplotlib.pyplot as plt\n",
    "% matplotlib inline"
   ]
  },
  {
   "cell_type": "code",
   "execution_count": 43,
   "metadata": {
    "collapsed": false
   },
   "outputs": [
    {
     "data": {
      "text/plain": [
       "array([   nan,  3600.,  3565., ...,  -724.,  -819.,  -870.])"
      ]
     },
     "execution_count": 43,
     "metadata": {},
     "output_type": "execute_result"
    }
   ],
   "source": [
    "dat.secs_to_end.unique()"
   ]
  },
  {
   "cell_type": "code",
   "execution_count": 44,
   "metadata": {
    "collapsed": false
   },
   "outputs": [],
   "source": [
    "dat['scorediff_norm'] = (dat['scorediff'] - dat['scorediff'].mean())/dat['scorediff'].std()"
   ]
  },
  {
   "cell_type": "code",
   "execution_count": 45,
   "metadata": {
    "collapsed": false
   },
   "outputs": [],
   "source": [
    "dat['scorediff_home_norm'] = (dat['scorediff_home'] - dat['scorediff_home'].mean())/dat['scorediff_home'].std()"
   ]
  },
  {
   "cell_type": "code",
   "execution_count": 46,
   "metadata": {
    "collapsed": false
   },
   "outputs": [],
   "source": [
    "dat['scorediff_away_norm'] = (dat['scorediff_away'] - dat['scorediff_away'].mean())/dat['scorediff_away'].std()"
   ]
  },
  {
   "cell_type": "code",
   "execution_count": 47,
   "metadata": {
    "collapsed": false
   },
   "outputs": [],
   "source": [
    "dat['secs_to_end_norm'] = (dat['secs_to_end'] - dat['secs_to_end'].mean())/dat['secs_to_end'].std()"
   ]
  },
  {
   "cell_type": "code",
   "execution_count": 48,
   "metadata": {
    "collapsed": false
   },
   "outputs": [],
   "source": [
    "dat['secs_to_half_norm'] = (dat['secs_to_half'] - dat['secs_to_half'].mean())/dat['secs_to_half'].std()"
   ]
  },
  {
   "cell_type": "code",
   "execution_count": 49,
   "metadata": {
    "collapsed": true
   },
   "outputs": [],
   "source": [
    "dat['togo_norm'] = (dat['togo'] - dat['togo'].mean())/dat['togo'].std()"
   ]
  },
  {
   "cell_type": "code",
   "execution_count": 50,
   "metadata": {
    "collapsed": false
   },
   "outputs": [],
   "source": [
    "dat['ydline_norm'] = (dat['ydline'] - dat['ydline'].mean())/dat['ydline'].std()"
   ]
  },
  {
   "cell_type": "code",
   "execution_count": 51,
   "metadata": {
    "collapsed": true
   },
   "outputs": [],
   "source": [
    "import seaborn as sns"
   ]
  },
  {
   "cell_type": "code",
   "execution_count": 52,
   "metadata": {
    "collapsed": true
   },
   "outputs": [],
   "source": [
    "sns.set_style('white')\n",
    "sns.set_style('ticks')\n",
    "sns.set_palette('muted')\n",
    "sns.set_color_codes('muted')"
   ]
  },
  {
   "cell_type": "code",
   "execution_count": 53,
   "metadata": {
    "collapsed": false
   },
   "outputs": [
    {
     "data": {
      "text/plain": [
       "<matplotlib.text.Text at 0x11406b790>"
      ]
     },
     "execution_count": 53,
     "metadata": {},
     "output_type": "execute_result"
    },
    {
     "data": {
      "image/png": "[encoded data removed]",
      "text/plain": [
       "<matplotlib.figure.Figure at 0x11380f7d0>"
      ]
     },
     "metadata": {},
     "output_type": "display_data"
    }
   ],
   "source": [
    "dat.scorediff_norm.hist(bins=60)\n",
    "plt.title('Histogram')"
   ]
  },
  {
   "cell_type": "code",
   "execution_count": 54,
   "metadata": {
    "collapsed": false
   },
   "outputs": [
    {
     "data": {
      "text/plain": [
       "<matplotlib.axes._subplots.AxesSubplot at 0x1141a0fd0>"
      ]
     },
     "execution_count": 54,
     "metadata": {},
     "output_type": "execute_result"
    },
    {
     "data": {
      "image/png": "[encoded data removed]",
      "text/plain": [
       "<matplotlib.figure.Figure at 0x1140e5d50>"
      ]
     },
     "metadata": {},
     "output_type": "display_data"
    }
   ],
   "source": [
    "dat.scorediff_home_norm.hist(bins=20)"
   ]
  },
  {
   "cell_type": "code",
   "execution_count": 55,
   "metadata": {
    "collapsed": false
   },
   "outputs": [
    {
     "data": {
      "text/plain": [
       "<matplotlib.axes._subplots.AxesSubplot at 0x11ee36950>"
      ]
     },
     "execution_count": 55,
     "metadata": {},
     "output_type": "execute_result"
    },
    {
     "data": {
      "image/png": "[encoded data removed]",
      "text/plain": [
       "<matplotlib.figure.Figure at 0x11997e9d0>"
      ]
     },
     "metadata": {},
     "output_type": "display_data"
    }
   ],
   "source": [
    "dat.scorediff_away_norm.hist(bins=20)"
   ]
  },
  {
   "cell_type": "markdown",
   "metadata": {},
   "source": [
    "Create a variable for when the score is 0-0 because it is an event that is very frequent and might be relevant"
   ]
  },
  {
   "cell_type": "code",
   "execution_count": 56,
   "metadata": {
    "collapsed": false
   },
   "outputs": [],
   "source": [
    "dat['noscore'] = (dat['offscore'] == 0) & (dat['defscore'] == 0)"
   ]
  },
  {
   "cell_type": "code",
   "execution_count": 57,
   "metadata": {
    "collapsed": false
   },
   "outputs": [
    {
     "data": {
      "text/plain": [
       "<matplotlib.axes._subplots.AxesSubplot at 0x11380f490>"
      ]
     },
     "execution_count": 57,
     "metadata": {},
     "output_type": "execute_result"
    },
    {
     "data": {
      "image/png": "[encoded data removed]",
      "text/plain": [
       "<matplotlib.figure.Figure at 0x11efff590>"
      ]
     },
     "metadata": {},
     "output_type": "display_data"
    }
   ],
   "source": [
    "dat.secs_to_end_norm.hist(bins=20)"
   ]
  },
  {
   "cell_type": "code",
   "execution_count": 58,
   "metadata": {
    "collapsed": false
   },
   "outputs": [
    {
     "data": {
      "text/plain": [
       "<matplotlib.axes._subplots.AxesSubplot at 0x11eff2850>"
      ]
     },
     "execution_count": 58,
     "metadata": {},
     "output_type": "execute_result"
    },
    {
     "data": {
      "image/png": "[encoded data removed]",
      "text/plain": [
       "<matplotlib.figure.Figure at 0x11f246a50>"
      ]
     },
     "metadata": {},
     "output_type": "display_data"
    }
   ],
   "source": [
    "dat.secs_to_half_norm.hist(bins=20)"
   ]
  },
  {
   "cell_type": "code",
   "execution_count": 59,
   "metadata": {
    "collapsed": false
   },
   "outputs": [
    {
     "data": {
      "text/plain": [
       "(0, 40)"
      ]
     },
     "execution_count": 59,
     "metadata": {},
     "output_type": "execute_result"
    },
    {
     "data": {
      "image/png": "[encoded data removed]",
      "text/plain": [
       "<matplotlib.figure.Figure at 0x11f316150>"
      ]
     },
     "metadata": {},
     "output_type": "display_data"
    }
   ],
   "source": [
    "dat.togo.hist(bins=20)\n",
    "plt.xlim([0,40])"
   ]
  },
  {
   "cell_type": "code",
   "execution_count": 60,
   "metadata": {
    "collapsed": false
   },
   "outputs": [
    {
     "data": {
      "text/plain": [
       "<matplotlib.axes._subplots.AxesSubplot at 0x11f5dbdd0>"
      ]
     },
     "execution_count": 60,
     "metadata": {},
     "output_type": "execute_result"
    },
    {
     "data": {
      "image/png": "[encoded data removed]",
      "text/plain": [
       "<matplotlib.figure.Figure at 0x11f316e10>"
      ]
     },
     "metadata": {},
     "output_type": "display_data"
    }
   ],
   "source": [
    "dat.ydline.hist(bins=20)"
   ]
  },
  {
   "cell_type": "markdown",
   "metadata": {},
   "source": [
    "The defense has an overall advantage mean ydline is greater than 50"
   ]
  },
  {
   "cell_type": "code",
   "execution_count": 61,
   "metadata": {
    "collapsed": false
   },
   "outputs": [],
   "source": [
    "dat['down_cat'] = dat['down'].astype('category')"
   ]
  },
  {
   "cell_type": "code",
   "execution_count": 62,
   "metadata": {
    "collapsed": false
   },
   "outputs": [
    {
     "data": {
      "text/plain": [
       "<seaborn.axisgrid.FacetGrid at 0x11f59c190>"
      ]
     },
     "execution_count": 62,
     "metadata": {},
     "output_type": "execute_result"
    },
    {
     "data": {
      "image/png": "[encoded data removed]",
      "text/plain": [
       "<matplotlib.figure.Figure at 0x11f459b90>"
      ]
     },
     "metadata": {},
     "output_type": "display_data"
    }
   ],
   "source": [
    "labels = ['1st', '2nd', '3rd', '4th']\n",
    "g = sns.factorplot(x='down_cat',y='pass',data=dat,kind='bar')\n",
    "g.set_xticklabels(labels)"
   ]
  },
  {
   "cell_type": "code",
   "execution_count": 63,
   "metadata": {
    "collapsed": false
   },
   "outputs": [
    {
     "data": {
      "text/plain": [
       "<seaborn.axisgrid.FacetGrid at 0x119972c90>"
      ]
     },
     "execution_count": 63,
     "metadata": {},
     "output_type": "execute_result"
    },
    {
     "data": {
      "image/png": "[encoded data removed]",
      "text/plain": [
       "<matplotlib.figure.Figure at 0x11f5c0dd0>"
      ]
     },
     "metadata": {},
     "output_type": "display_data"
    }
   ],
   "source": [
    "g = sns.factorplot(x='down_cat',y='pass',col='qtr',data=dat,kind='bar')\n",
    "g.set_xticklabels(labels)"
   ]
  },
  {
   "cell_type": "code",
   "execution_count": 64,
   "metadata": {
    "collapsed": false
   },
   "outputs": [],
   "source": [
    "int_passes = dat['pass'][(dat['interception']==True) & (dat['pass']==False)]"
   ]
  },
  {
   "cell_type": "code",
   "execution_count": 65,
   "metadata": {
    "collapsed": false
   },
   "outputs": [
    {
     "data": {
      "text/plain": [
       "143419    False\n",
       "143446    False\n",
       "143460    False\n",
       "143473    False\n",
       "175148    False\n",
       "416279    False\n",
       "Name: pass, dtype: object"
      ]
     },
     "execution_count": 65,
     "metadata": {},
     "output_type": "execute_result"
    }
   ],
   "source": [
    "int_passes"
   ]
  },
  {
   "cell_type": "code",
   "execution_count": 66,
   "metadata": {
    "collapsed": false
   },
   "outputs": [
    {
     "data": {
      "text/plain": [
       "143419    (0:45)  Michael Vick was intercepted.  Jonatha...\n",
       "143446    (4:19)  Vinny Testaverde was intercepted.  DeA...\n",
       "143460    (14:21)  Michael Vick was intercepted.  Ty Law...\n",
       "143473    (10:20)  Michael Vick was intercepted.  David ...\n",
       "175148    (13:25) PENALTY on WAS-J.Jansen False Start 5 ...\n",
       "416279    (3:08)  Matthew Stafford was intercepted.  Tra...\n",
       "Name: description, dtype: object"
      ]
     },
     "execution_count": 66,
     "metadata": {},
     "output_type": "execute_result"
    }
   ],
   "source": [
    "dat.description.iloc[int_passes.index]"
   ]
  },
  {
   "cell_type": "code",
   "execution_count": 67,
   "metadata": {
    "collapsed": false
   },
   "outputs": [
    {
     "data": {
      "text/plain": [
       "'(13:25) PENALTY on WAS-J.Jansen False Start 5 yards enforced at WAS 35 - No Play. Pass was intercepted but nullified because of the penalty.'"
      ]
     },
     "execution_count": 67,
     "metadata": {},
     "output_type": "execute_result"
    }
   ],
   "source": [
    "dat['description'].iloc[175148]"
   ]
  },
  {
   "cell_type": "code",
   "execution_count": 68,
   "metadata": {
    "collapsed": false
   },
   "outputs": [
    {
     "data": {
      "text/plain": [
       "'(3:08)  Matthew Stafford was intercepted.  Tracy Porter returned the interception for a loss of 7 yards. '"
      ]
     },
     "execution_count": 68,
     "metadata": {},
     "output_type": "execute_result"
    }
   ],
   "source": [
    "dat.description.iloc[416279]"
   ]
  },
  {
   "cell_type": "code",
   "execution_count": 69,
   "metadata": {
    "collapsed": false
   },
   "outputs": [
    {
     "name": "stderr",
     "output_type": "stream",
     "text": [
      "//anaconda/lib/python2.7/site-packages/pandas/core/indexing.py:115: SettingWithCopyWarning: \n",
      "A value is trying to be set on a copy of a slice from a DataFrame\n",
      "\n",
      "See the caveats in the documentation: http://pandas.pydata.org/pandas-docs/stable/indexing.html#indexing-view-versus-copy\n",
      "  self._setitem_with_indexer(indexer, value)\n"
     ]
    },
    {
     "data": {
      "text/plain": [
       "143419    True\n",
       "143446    True\n",
       "143460    True\n",
       "143473    True\n",
       "175148    True\n",
       "416279    True\n",
       "Name: pass, dtype: object"
      ]
     },
     "execution_count": 69,
     "metadata": {},
     "output_type": "execute_result"
    }
   ],
   "source": [
    "dat['pass'].iloc[int_passes.index] = True\n",
    "dat['pass'].iloc[int_passes.index]"
   ]
  },
  {
   "cell_type": "code",
   "execution_count": 70,
   "metadata": {
    "collapsed": true
   },
   "outputs": [],
   "source": [
    "sack_pass = dat['pass'][(dat['sack']==True) & (dat['pass']==False)]"
   ]
  },
  {
   "cell_type": "code",
   "execution_count": 71,
   "metadata": {
    "collapsed": false
   },
   "outputs": [
    {
     "data": {
      "text/plain": [
       "96     False\n",
       "119    False\n",
       "132    False\n",
       "292    False\n",
       "400    False\n",
       "Name: pass, dtype: object"
      ]
     },
     "execution_count": 71,
     "metadata": {},
     "output_type": "execute_result"
    }
   ],
   "source": [
    "sack_pass.head()"
   ]
  },
  {
   "cell_type": "code",
   "execution_count": 72,
   "metadata": {
    "collapsed": false
   },
   "outputs": [
    {
     "data": {
      "text/plain": [
       "'(8:37) K.Collins sacked at NYG 4 for -10 yards (D.Stubblefield).'"
      ]
     },
     "execution_count": 72,
     "metadata": {},
     "output_type": "execute_result"
    }
   ],
   "source": [
    "dat.description.iloc[96]"
   ]
  },
  {
   "cell_type": "code",
   "execution_count": 73,
   "metadata": {
    "collapsed": false
   },
   "outputs": [
    {
     "data": {
      "text/plain": [
       "pass    200692\n",
       "sack     13310\n",
       "dtype: float64"
      ]
     },
     "execution_count": 73,
     "metadata": {},
     "output_type": "execute_result"
    }
   ],
   "source": [
    "dat[['pass', 'sack']].sum()"
   ]
  },
  {
   "cell_type": "code",
   "execution_count": 74,
   "metadata": {
    "collapsed": true
   },
   "outputs": [],
   "source": [
    "dat['attempted_pass'] = dat['pass']"
   ]
  },
  {
   "cell_type": "code",
   "execution_count": 75,
   "metadata": {
    "collapsed": true
   },
   "outputs": [],
   "source": [
    "dat['attempted_pass'].iloc[sack_pass.index] = True"
   ]
  },
  {
   "cell_type": "code",
   "execution_count": 76,
   "metadata": {
    "collapsed": false
   },
   "outputs": [
    {
     "data": {
      "text/plain": [
       "pass              200692\n",
       "sack               13310\n",
       "attempted_pass    213882\n",
       "dtype: float64"
      ]
     },
     "execution_count": 76,
     "metadata": {},
     "output_type": "execute_result"
    }
   ],
   "source": [
    "dat[['pass', 'sack', 'attempted_pass']].sum()"
   ]
  },
  {
   "cell_type": "code",
   "execution_count": 77,
   "metadata": {
    "collapsed": false
   },
   "outputs": [
    {
     "data": {
      "text/plain": [
       "Index([u'Unnamed: 0', u'def', u'defscore', u'description', u'down', u'gameid',\n",
       "       u'min', u'nextscore', u'off', u'offscore', u'qtr', u'scorechange',\n",
       "       u'scorediff', u'season', u'sec', u'series1stdn', u'teamwin', u'togo',\n",
       "       u'ydline', u'secs_to_end', u'secs_to_half', u'pass', u'kickoff',\n",
       "       u'extra_point', u'punt', u'run', u'kneel', u'sack', u'penalty',\n",
       "       u'field_goal', u'fumble', u'interception', u'scramble', u'run_scramble',\n",
       "       u'spike', u'team_separator', u'away_start_ix', u'home_team',\n",
       "       u'away_team', u'home_score', u'away_score', u'scorediff_home',\n",
       "       u'scorediff_away', u'scorediff_norm', u'scorediff_home_norm',\n",
       "       u'scorediff_away_norm', u'secs_to_end_norm', u'secs_to_half_norm',\n",
       "       u'togo_norm', u'ydline_norm', u'noscore', u'down_cat',\n",
       "       u'attempted_pass'],\n",
       "      dtype='object')"
      ]
     },
     "execution_count": 77,
     "metadata": {},
     "output_type": "execute_result"
    }
   ],
   "source": [
    "dat.keys()"
   ]
  },
  {
   "cell_type": "code",
   "execution_count": 78,
   "metadata": {
    "collapsed": true
   },
   "outputs": [],
   "source": [
    "down_dummies = pd.get_dummies(dat['down'],prefix='down')"
   ]
  },
  {
   "cell_type": "code",
   "execution_count": 79,
   "metadata": {
    "collapsed": false
   },
   "outputs": [],
   "source": [
    "dat = pd.concat([dat,down_dummies], axis=1)"
   ]
  },
  {
   "cell_type": "code",
   "execution_count": 80,
   "metadata": {
    "collapsed": false
   },
   "outputs": [],
   "source": [
    "qtr_dummies = pd.get_dummies(dat['qtr'],prefix='qtr')"
   ]
  },
  {
   "cell_type": "code",
   "execution_count": 81,
   "metadata": {
    "collapsed": false
   },
   "outputs": [],
   "source": [
    "dat = pd.concat([dat,qtr_dummies], axis=1)"
   ]
  },
  {
   "cell_type": "code",
   "execution_count": 82,
   "metadata": {
    "collapsed": false
   },
   "outputs": [
    {
     "data": {
      "text/plain": [
       "Index([u'Unnamed: 0', u'def', u'defscore', u'description', u'down', u'gameid',\n",
       "       u'min', u'nextscore', u'off', u'offscore', u'qtr', u'scorechange',\n",
       "       u'scorediff', u'season', u'sec', u'series1stdn', u'teamwin', u'togo',\n",
       "       u'ydline', u'secs_to_end', u'secs_to_half', u'pass', u'kickoff',\n",
       "       u'extra_point', u'punt', u'run', u'kneel', u'sack', u'penalty',\n",
       "       u'field_goal', u'fumble', u'interception', u'scramble', u'run_scramble',\n",
       "       u'spike', u'team_separator', u'away_start_ix', u'home_team',\n",
       "       u'away_team', u'home_score', u'away_score', u'scorediff_home',\n",
       "       u'scorediff_away', u'scorediff_norm', u'scorediff_home_norm',\n",
       "       u'scorediff_away_norm', u'secs_to_end_norm', u'secs_to_half_norm',\n",
       "       u'togo_norm', u'ydline_norm', u'noscore', u'down_cat',\n",
       "       u'attempted_pass', u'down_1.0', u'down_2.0', u'down_3.0', u'down_4.0',\n",
       "       u'qtr_1.0', u'qtr_2.0', u'qtr_3.0', u'qtr_4.0', u'qtr_5.0'],\n",
       "      dtype='object')"
      ]
     },
     "execution_count": 82,
     "metadata": {},
     "output_type": "execute_result"
    }
   ],
   "source": [
    "dat.keys()"
   ]
  },
  {
   "cell_type": "code",
   "execution_count": 83,
   "metadata": {
    "collapsed": false
   },
   "outputs": [],
   "source": [
    "dat_clus = dat[['scorediff','secs_to_end_norm','secs_to_half_norm','togo_norm','ydline_norm','noscore','down_1.0',\n",
    "               'down_2.0','down_3.0','down_4.0','qtr_1.0','qtr_2.0','qtr_3.0','qtr_4.0','qtr_5.0',]]"
   ]
  },
  {
   "cell_type": "code",
   "execution_count": 84,
   "metadata": {
    "collapsed": false
   },
   "outputs": [
    {
     "name": "stderr",
     "output_type": "stream",
     "text": [
      "/anaconda/lib/python2.7/site-packages/IPython/kernel/__main__.py:1: SettingWithCopyWarning: \n",
      "A value is trying to be set on a copy of a slice from a DataFrame\n",
      "\n",
      "See the caveats in the documentation: http://pandas.pydata.org/pandas-docs/stable/indexing.html#indexing-view-versus-copy\n",
      "  if __name__ == '__main__':\n"
     ]
    }
   ],
   "source": [
    "dat_clus.dropna(inplace=True)"
   ]
  },
  {
   "cell_type": "code",
   "execution_count": 85,
   "metadata": {
    "collapsed": false
   },
   "outputs": [
    {
     "data": {
      "text/plain": [
       "scorediff            0\n",
       "secs_to_end_norm     0\n",
       "secs_to_half_norm    0\n",
       "togo_norm            0\n",
       "ydline_norm          0\n",
       "noscore              0\n",
       "down_1.0             0\n",
       "down_2.0             0\n",
       "down_3.0             0\n",
       "down_4.0             0\n",
       "qtr_1.0              0\n",
       "qtr_2.0              0\n",
       "qtr_3.0              0\n",
       "qtr_4.0              0\n",
       "qtr_5.0              0\n",
       "dtype: int64"
      ]
     },
     "execution_count": 85,
     "metadata": {},
     "output_type": "execute_result"
    }
   ],
   "source": [
    "dat_clus.isnull().sum()"
   ]
  },
  {
   "cell_type": "code",
   "execution_count": 86,
   "metadata": {
    "collapsed": false
   },
   "outputs": [
    {
     "data": {
      "text/plain": [
       "scorediff            428864\n",
       "secs_to_end_norm     428864\n",
       "secs_to_half_norm    428864\n",
       "togo_norm            428864\n",
       "ydline_norm          428864\n",
       "noscore              428864\n",
       "down_1.0             428864\n",
       "down_2.0             428864\n",
       "down_3.0             428864\n",
       "down_4.0             428864\n",
       "qtr_1.0              428864\n",
       "qtr_2.0              428864\n",
       "qtr_3.0              428864\n",
       "qtr_4.0              428864\n",
       "qtr_5.0              428864\n",
       "dtype: int64"
      ]
     },
     "execution_count": 86,
     "metadata": {},
     "output_type": "execute_result"
    }
   ],
   "source": [
    "dat_clus.count()"
   ]
  },
  {
   "cell_type": "code",
   "execution_count": 87,
   "metadata": {
    "collapsed": true
   },
   "outputs": [],
   "source": [
    "from sklearn.cluster import KMeans"
   ]
  },
  {
   "cell_type": "code",
   "execution_count": 88,
   "metadata": {
    "collapsed": true
   },
   "outputs": [],
   "source": [
    "from sklearn.decomposition import PCA"
   ]
  },
  {
   "cell_type": "code",
   "execution_count": 89,
   "metadata": {
    "collapsed": true
   },
   "outputs": [],
   "source": [
    "from sklearn import metrics"
   ]
  },
  {
   "cell_type": "code",
   "execution_count": 90,
   "metadata": {
    "collapsed": true
   },
   "outputs": [],
   "source": [
    "pca_dat = PCA(n_components=2).fit_transform(dat_clus)"
   ]
  },
  {
   "cell_type": "code",
   "execution_count": 91,
   "metadata": {
    "collapsed": false
   },
   "outputs": [
    {
     "name": "stderr",
     "output_type": "stream",
     "text": [
      "/anaconda/lib/python2.7/site-packages/IPython/kernel/__main__.py:4: SettingWithCopyWarning: \n",
      "A value is trying to be set on a copy of a slice from a DataFrame.\n",
      "Try using .loc[row_indexer,col_indexer] = value instead\n",
      "\n",
      "See the caveats in the documentation: http://pandas.pydata.org/pandas-docs/stable/indexing.html#indexing-view-versus-copy\n"
     ]
    }
   ],
   "source": [
    "clus = KMeans(n_clusters=3,init='k-means++',)\n",
    "clus.fit(dat_clus)\n",
    "labs = clus.labels_\n",
    "dat_clus['Labels3'] = labs"
   ]
  },
  {
   "cell_type": "code",
   "execution_count": 92,
   "metadata": {
    "collapsed": false
   },
   "outputs": [
    {
     "data": {
      "text/plain": [
       "array([-1.07160646, -1.07510586, -1.0753885 , ...,  8.9476883 ,\n",
       "        8.94409397,  8.9402758 ])"
      ]
     },
     "execution_count": 92,
     "metadata": {},
     "output_type": "execute_result"
    }
   ],
   "source": [
    "pca_dat[:,0]"
   ]
  },
  {
   "cell_type": "code",
   "execution_count": 93,
   "metadata": {
    "collapsed": false
   },
   "outputs": [
    {
     "name": "stderr",
     "output_type": "stream",
     "text": [
      "/anaconda/lib/python2.7/site-packages/IPython/kernel/__main__.py:1: SettingWithCopyWarning: \n",
      "A value is trying to be set on a copy of a slice from a DataFrame.\n",
      "Try using .loc[row_indexer,col_indexer] = value instead\n",
      "\n",
      "See the caveats in the documentation: http://pandas.pydata.org/pandas-docs/stable/indexing.html#indexing-view-versus-copy\n",
      "  if __name__ == '__main__':\n"
     ]
    }
   ],
   "source": [
    "dat_clus['PCA_1'] = pca_dat[:,0]"
   ]
  },
  {
   "cell_type": "code",
   "execution_count": 94,
   "metadata": {
    "collapsed": false
   },
   "outputs": [
    {
     "name": "stderr",
     "output_type": "stream",
     "text": [
      "/anaconda/lib/python2.7/site-packages/IPython/kernel/__main__.py:1: SettingWithCopyWarning: \n",
      "A value is trying to be set on a copy of a slice from a DataFrame.\n",
      "Try using .loc[row_indexer,col_indexer] = value instead\n",
      "\n",
      "See the caveats in the documentation: http://pandas.pydata.org/pandas-docs/stable/indexing.html#indexing-view-versus-copy\n",
      "  if __name__ == '__main__':\n"
     ]
    }
   ],
   "source": [
    "dat_clus['PCA_2'] = pca_dat[:,1]"
   ]
  },
  {
   "cell_type": "code",
   "execution_count": 95,
   "metadata": {
    "collapsed": false
   },
   "outputs": [],
   "source": [
    "dat = pd.concat([dat,dat_clus['Labels3'],dat_clus['PCA_1'],dat_clus['PCA_2']], axis=1, join_axes=[dat.index])"
   ]
  },
  {
   "cell_type": "code",
   "execution_count": 96,
   "metadata": {
    "collapsed": false
   },
   "outputs": [
    {
     "data": {
      "image/png": "[encoded data removed]",
      "text/plain": [
       "<matplotlib.figure.Figure at 0x11f161950>"
      ]
     },
     "metadata": {},
     "output_type": "display_data"
    }
   ],
   "source": [
    "g = sns.factorplot(x='Labels3',y='pass',data=dat,kind='bar')"
   ]
  },
  {
   "cell_type": "code",
   "execution_count": 97,
   "metadata": {
    "collapsed": false
   },
   "outputs": [
    {
     "name": "stderr",
     "output_type": "stream",
     "text": [
      "//anaconda/lib/python2.7/site-packages/matplotlib/collections.py:590: FutureWarning: elementwise comparison failed; returning scalar instead, but in the future will perform elementwise comparison\n",
      "  if self._edgecolors == str('face'):\n"
     ]
    },
    {
     "data": {
      "image/png": "[encoded data removed]",
      "text/plain": [
       "<matplotlib.figure.Figure at 0x10c127fd0>"
      ]
     },
     "metadata": {},
     "output_type": "display_data"
    }
   ],
   "source": [
    "g = sns.lmplot(x='PCA_1',y='PCA_2',hue='Labels3',col='pass',data=dat,fit_reg=False)"
   ]
  },
  {
   "cell_type": "code",
   "execution_count": 98,
   "metadata": {
    "collapsed": false
   },
   "outputs": [],
   "source": [
    "clus_8 = KMeans(n_clusters=8,init='k-means++',)\n",
    "clus_8.fit(dat_clus)\n",
    "labs = clus_8.labels_\n",
    "dat_clus['Labels8'] = labs"
   ]
  },
  {
   "cell_type": "code",
   "execution_count": 99,
   "metadata": {
    "collapsed": false
   },
   "outputs": [],
   "source": [
    "dat = pd.concat([dat,dat_clus['Labels8']], axis=1, join_axes=[dat.index])"
   ]
  },
  {
   "cell_type": "code",
   "execution_count": 100,
   "metadata": {
    "collapsed": false
   },
   "outputs": [
    {
     "data": {
      "image/png": "[encoded data removed]",
      "text/plain": [
       "<matplotlib.figure.Figure at 0x177914190>"
      ]
     },
     "metadata": {},
     "output_type": "display_data"
    }
   ],
   "source": [
    "g = sns.factorplot(x='Labels8',y='pass',data=dat,kind='bar')"
   ]
  },
  {
   "cell_type": "code",
   "execution_count": 101,
   "metadata": {
    "collapsed": false
   },
   "outputs": [
    {
     "data": {
      "image/png": "[encoded data removed]",
      "text/plain": [
       "<matplotlib.figure.Figure at 0x109d61590>"
      ]
     },
     "metadata": {},
     "output_type": "display_data"
    }
   ],
   "source": [
    "g = sns.lmplot(x='PCA_1',y='PCA_2',hue='Labels8',data=dat,fit_reg=False)"
   ]
  },
  {
   "cell_type": "code",
   "execution_count": 102,
   "metadata": {
    "collapsed": false
   },
   "outputs": [
    {
     "data": {
      "text/html": [
       "<div>\n",
       "<table border=\"1\" class=\"dataframe\">\n",
       "  <thead>\n",
       "    <tr style=\"text-align: right;\">\n",
       "      <th></th>\n",
       "      <th>scorediff</th>\n",
       "      <th>secs_to_end</th>\n",
       "      <th>secs_to_half</th>\n",
       "      <th>togo</th>\n",
       "      <th>ydline</th>\n",
       "      <th>noscore</th>\n",
       "      <th>down_1.0</th>\n",
       "      <th>down_2.0</th>\n",
       "      <th>down_3.0</th>\n",
       "      <th>down_4.0</th>\n",
       "      <th>qtr_1.0</th>\n",
       "      <th>qtr_2.0</th>\n",
       "      <th>qtr_3.0</th>\n",
       "      <th>qtr_4.0</th>\n",
       "      <th>qtr_5.0</th>\n",
       "    </tr>\n",
       "    <tr>\n",
       "      <th>Labels3</th>\n",
       "      <th></th>\n",
       "      <th></th>\n",
       "      <th></th>\n",
       "      <th></th>\n",
       "      <th></th>\n",
       "      <th></th>\n",
       "      <th></th>\n",
       "      <th></th>\n",
       "      <th></th>\n",
       "      <th></th>\n",
       "      <th></th>\n",
       "      <th></th>\n",
       "      <th></th>\n",
       "      <th></th>\n",
       "      <th></th>\n",
       "    </tr>\n",
       "  </thead>\n",
       "  <tbody>\n",
       "    <tr>\n",
       "      <th>0</th>\n",
       "      <td>-16.155047</td>\n",
       "      <td>1232.406843</td>\n",
       "      <td>705.726381</td>\n",
       "      <td>8.760418</td>\n",
       "      <td>51.995433</td>\n",
       "      <td>0.00000</td>\n",
       "      <td>0.413836</td>\n",
       "      <td>0.298511</td>\n",
       "      <td>0.187658</td>\n",
       "      <td>0.099995</td>\n",
       "      <td>0.042267</td>\n",
       "      <td>0.250464</td>\n",
       "      <td>0.301817</td>\n",
       "      <td>0.405416</td>\n",
       "      <td>0.000036</td>\n",
       "    </tr>\n",
       "    <tr>\n",
       "      <th>1</th>\n",
       "      <td>-1.533646</td>\n",
       "      <td>2037.625687</td>\n",
       "      <td>913.576838</td>\n",
       "      <td>8.518693</td>\n",
       "      <td>51.884045</td>\n",
       "      <td>0.23322</td>\n",
       "      <td>0.394753</td>\n",
       "      <td>0.301113</td>\n",
       "      <td>0.197807</td>\n",
       "      <td>0.106326</td>\n",
       "      <td>0.348698</td>\n",
       "      <td>0.275910</td>\n",
       "      <td>0.174944</td>\n",
       "      <td>0.188475</td>\n",
       "      <td>0.011973</td>\n",
       "    </tr>\n",
       "    <tr>\n",
       "      <th>2</th>\n",
       "      <td>12.481151</td>\n",
       "      <td>1411.916894</td>\n",
       "      <td>760.083910</td>\n",
       "      <td>8.437643</td>\n",
       "      <td>50.423634</td>\n",
       "      <td>0.00000</td>\n",
       "      <td>0.390697</td>\n",
       "      <td>0.301360</td>\n",
       "      <td>0.199973</td>\n",
       "      <td>0.107971</td>\n",
       "      <td>0.092070</td>\n",
       "      <td>0.270186</td>\n",
       "      <td>0.295746</td>\n",
       "      <td>0.341243</td>\n",
       "      <td>0.000754</td>\n",
       "    </tr>\n",
       "  </tbody>\n",
       "</table>\n",
       "</div>"
      ],
      "text/plain": [
       "         scorediff  secs_to_end  secs_to_half      togo     ydline  noscore  \\\n",
       "Labels3                                                                       \n",
       "0       -16.155047  1232.406843    705.726381  8.760418  51.995433  0.00000   \n",
       "1        -1.533646  2037.625687    913.576838  8.518693  51.884045  0.23322   \n",
       "2        12.481151  1411.916894    760.083910  8.437643  50.423634  0.00000   \n",
       "\n",
       "         down_1.0  down_2.0  down_3.0  down_4.0   qtr_1.0   qtr_2.0   qtr_3.0  \\\n",
       "Labels3                                                                         \n",
       "0        0.413836  0.298511  0.187658  0.099995  0.042267  0.250464  0.301817   \n",
       "1        0.394753  0.301113  0.197807  0.106326  0.348698  0.275910  0.174944   \n",
       "2        0.390697  0.301360  0.199973  0.107971  0.092070  0.270186  0.295746   \n",
       "\n",
       "          qtr_4.0   qtr_5.0  \n",
       "Labels3                      \n",
       "0        0.405416  0.000036  \n",
       "1        0.188475  0.011973  \n",
       "2        0.341243  0.000754  "
      ]
     },
     "execution_count": 102,
     "metadata": {},
     "output_type": "execute_result"
    }
   ],
   "source": [
    "dat[['scorediff','secs_to_end','secs_to_half','togo','ydline','noscore','down_1.0',\n",
    "     'down_2.0','down_3.0','down_4.0','qtr_1.0','qtr_2.0','qtr_3.0','qtr_4.0','qtr_5.0','Labels3','pass']].groupby('Labels3').mean()"
   ]
  },
  {
   "cell_type": "code",
   "execution_count": 103,
   "metadata": {
    "collapsed": false
   },
   "outputs": [
    {
     "data": {
      "text/html": [
       "<div>\n",
       "<table border=\"1\" class=\"dataframe\">\n",
       "  <thead>\n",
       "    <tr style=\"text-align: right;\">\n",
       "      <th></th>\n",
       "      <th>scorediff</th>\n",
       "      <th>secs_to_end</th>\n",
       "      <th>secs_to_half</th>\n",
       "      <th>togo</th>\n",
       "      <th>ydline</th>\n",
       "      <th>noscore</th>\n",
       "      <th>down_1.0</th>\n",
       "      <th>down_2.0</th>\n",
       "      <th>down_3.0</th>\n",
       "      <th>down_4.0</th>\n",
       "      <th>qtr_1.0</th>\n",
       "      <th>qtr_2.0</th>\n",
       "      <th>qtr_3.0</th>\n",
       "      <th>qtr_4.0</th>\n",
       "      <th>qtr_5.0</th>\n",
       "    </tr>\n",
       "    <tr>\n",
       "      <th>Labels8</th>\n",
       "      <th></th>\n",
       "      <th></th>\n",
       "      <th></th>\n",
       "      <th></th>\n",
       "      <th></th>\n",
       "      <th></th>\n",
       "      <th></th>\n",
       "      <th></th>\n",
       "      <th></th>\n",
       "      <th></th>\n",
       "      <th></th>\n",
       "      <th></th>\n",
       "      <th></th>\n",
       "      <th></th>\n",
       "      <th></th>\n",
       "    </tr>\n",
       "  </thead>\n",
       "  <tbody>\n",
       "    <tr>\n",
       "      <th>0</th>\n",
       "      <td>-3.198592</td>\n",
       "      <td>1649.547651</td>\n",
       "      <td>749.842400</td>\n",
       "      <td>8.571559</td>\n",
       "      <td>51.690113</td>\n",
       "      <td>0.000000</td>\n",
       "      <td>0.402860</td>\n",
       "      <td>0.301263</td>\n",
       "      <td>0.194498</td>\n",
       "      <td>0.101379</td>\n",
       "      <td>0.182344</td>\n",
       "      <td>0.317710</td>\n",
       "      <td>0.212547</td>\n",
       "      <td>0.286562</td>\n",
       "      <td>0.000837</td>\n",
       "    </tr>\n",
       "    <tr>\n",
       "      <th>1</th>\n",
       "      <td>7.966803</td>\n",
       "      <td>1579.731960</td>\n",
       "      <td>777.592167</td>\n",
       "      <td>8.471037</td>\n",
       "      <td>50.763759</td>\n",
       "      <td>0.000000</td>\n",
       "      <td>0.393317</td>\n",
       "      <td>0.300372</td>\n",
       "      <td>0.198646</td>\n",
       "      <td>0.107665</td>\n",
       "      <td>0.136589</td>\n",
       "      <td>0.309139</td>\n",
       "      <td>0.269815</td>\n",
       "      <td>0.283436</td>\n",
       "      <td>0.001021</td>\n",
       "    </tr>\n",
       "    <tr>\n",
       "      <th>2</th>\n",
       "      <td>-16.302714</td>\n",
       "      <td>1245.819615</td>\n",
       "      <td>706.001173</td>\n",
       "      <td>8.791654</td>\n",
       "      <td>51.846028</td>\n",
       "      <td>0.000000</td>\n",
       "      <td>0.413901</td>\n",
       "      <td>0.298187</td>\n",
       "      <td>0.187024</td>\n",
       "      <td>0.100889</td>\n",
       "      <td>0.039384</td>\n",
       "      <td>0.260655</td>\n",
       "      <td>0.305435</td>\n",
       "      <td>0.394455</td>\n",
       "      <td>0.000070</td>\n",
       "    </tr>\n",
       "    <tr>\n",
       "      <th>3</th>\n",
       "      <td>16.277227</td>\n",
       "      <td>1200.411755</td>\n",
       "      <td>736.859170</td>\n",
       "      <td>8.429363</td>\n",
       "      <td>49.792666</td>\n",
       "      <td>0.000000</td>\n",
       "      <td>0.387466</td>\n",
       "      <td>0.302942</td>\n",
       "      <td>0.200811</td>\n",
       "      <td>0.108782</td>\n",
       "      <td>0.022516</td>\n",
       "      <td>0.235235</td>\n",
       "      <td>0.339361</td>\n",
       "      <td>0.402508</td>\n",
       "      <td>0.000380</td>\n",
       "    </tr>\n",
       "    <tr>\n",
       "      <th>4</th>\n",
       "      <td>1.007881</td>\n",
       "      <td>2275.676186</td>\n",
       "      <td>1015.613644</td>\n",
       "      <td>8.449016</td>\n",
       "      <td>51.675935</td>\n",
       "      <td>0.418455</td>\n",
       "      <td>0.390296</td>\n",
       "      <td>0.301340</td>\n",
       "      <td>0.199839</td>\n",
       "      <td>0.108524</td>\n",
       "      <td>0.451959</td>\n",
       "      <td>0.248180</td>\n",
       "      <td>0.148763</td>\n",
       "      <td>0.130399</td>\n",
       "      <td>0.020699</td>\n",
       "    </tr>\n",
       "    <tr>\n",
       "      <th>5</th>\n",
       "      <td>-28.650990</td>\n",
       "      <td>839.690130</td>\n",
       "      <td>672.750155</td>\n",
       "      <td>8.735458</td>\n",
       "      <td>52.231822</td>\n",
       "      <td>0.000000</td>\n",
       "      <td>0.413212</td>\n",
       "      <td>0.299892</td>\n",
       "      <td>0.185102</td>\n",
       "      <td>0.101795</td>\n",
       "      <td>0.002707</td>\n",
       "      <td>0.090037</td>\n",
       "      <td>0.314666</td>\n",
       "      <td>0.592590</td>\n",
       "      <td>0.000000</td>\n",
       "    </tr>\n",
       "    <tr>\n",
       "      <th>6</th>\n",
       "      <td>-8.119069</td>\n",
       "      <td>1701.301280</td>\n",
       "      <td>790.235707</td>\n",
       "      <td>8.679208</td>\n",
       "      <td>52.483683</td>\n",
       "      <td>0.000000</td>\n",
       "      <td>0.404007</td>\n",
       "      <td>0.299791</td>\n",
       "      <td>0.193641</td>\n",
       "      <td>0.102561</td>\n",
       "      <td>0.194532</td>\n",
       "      <td>0.311768</td>\n",
       "      <td>0.232385</td>\n",
       "      <td>0.260551</td>\n",
       "      <td>0.000764</td>\n",
       "    </tr>\n",
       "    <tr>\n",
       "      <th>7</th>\n",
       "      <td>28.570813</td>\n",
       "      <td>830.781634</td>\n",
       "      <td>691.678379</td>\n",
       "      <td>8.235827</td>\n",
       "      <td>50.425199</td>\n",
       "      <td>0.000000</td>\n",
       "      <td>0.382626</td>\n",
       "      <td>0.301250</td>\n",
       "      <td>0.206187</td>\n",
       "      <td>0.109937</td>\n",
       "      <td>0.002371</td>\n",
       "      <td>0.074908</td>\n",
       "      <td>0.321621</td>\n",
       "      <td>0.601099</td>\n",
       "      <td>0.000000</td>\n",
       "    </tr>\n",
       "  </tbody>\n",
       "</table>\n",
       "</div>"
      ],
      "text/plain": [
       "         scorediff  secs_to_end  secs_to_half      togo     ydline   noscore  \\\n",
       "Labels8                                                                        \n",
       "0        -3.198592  1649.547651    749.842400  8.571559  51.690113  0.000000   \n",
       "1         7.966803  1579.731960    777.592167  8.471037  50.763759  0.000000   \n",
       "2       -16.302714  1245.819615    706.001173  8.791654  51.846028  0.000000   \n",
       "3        16.277227  1200.411755    736.859170  8.429363  49.792666  0.000000   \n",
       "4         1.007881  2275.676186   1015.613644  8.449016  51.675935  0.418455   \n",
       "5       -28.650990   839.690130    672.750155  8.735458  52.231822  0.000000   \n",
       "6        -8.119069  1701.301280    790.235707  8.679208  52.483683  0.000000   \n",
       "7        28.570813   830.781634    691.678379  8.235827  50.425199  0.000000   \n",
       "\n",
       "         down_1.0  down_2.0  down_3.0  down_4.0   qtr_1.0   qtr_2.0   qtr_3.0  \\\n",
       "Labels8                                                                         \n",
       "0        0.402860  0.301263  0.194498  0.101379  0.182344  0.317710  0.212547   \n",
       "1        0.393317  0.300372  0.198646  0.107665  0.136589  0.309139  0.269815   \n",
       "2        0.413901  0.298187  0.187024  0.100889  0.039384  0.260655  0.305435   \n",
       "3        0.387466  0.302942  0.200811  0.108782  0.022516  0.235235  0.339361   \n",
       "4        0.390296  0.301340  0.199839  0.108524  0.451959  0.248180  0.148763   \n",
       "5        0.413212  0.299892  0.185102  0.101795  0.002707  0.090037  0.314666   \n",
       "6        0.404007  0.299791  0.193641  0.102561  0.194532  0.311768  0.232385   \n",
       "7        0.382626  0.301250  0.206187  0.109937  0.002371  0.074908  0.321621   \n",
       "\n",
       "          qtr_4.0   qtr_5.0  \n",
       "Labels8                      \n",
       "0        0.286562  0.000837  \n",
       "1        0.283436  0.001021  \n",
       "2        0.394455  0.000070  \n",
       "3        0.402508  0.000380  \n",
       "4        0.130399  0.020699  \n",
       "5        0.592590  0.000000  \n",
       "6        0.260551  0.000764  \n",
       "7        0.601099  0.000000  "
      ]
     },
     "execution_count": 103,
     "metadata": {},
     "output_type": "execute_result"
    }
   ],
   "source": [
    "dat[['scorediff','secs_to_end','secs_to_half','togo','ydline','noscore','down_1.0',\n",
    "     'down_2.0','down_3.0','down_4.0','qtr_1.0','qtr_2.0','qtr_3.0','qtr_4.0','qtr_5.0','Labels8','pass']].groupby('Labels8').mean()"
   ]
  },
  {
   "cell_type": "code",
   "execution_count": 104,
   "metadata": {
    "collapsed": true
   },
   "outputs": [],
   "source": [
    "from sklearn import linear_model"
   ]
  },
  {
   "cell_type": "code",
   "execution_count": 105,
   "metadata": {
    "collapsed": true
   },
   "outputs": [],
   "source": [
    "Z =dat[['scorediff','secs_to_end','secs_to_half','togo','ydline','noscore','down_1.0',\n",
    "     'down_2.0','down_3.0','down_4.0','qtr_1.0','qtr_2.0','qtr_3.0','qtr_4.0','qtr_5.0','pass']]"
   ]
  },
  {
   "cell_type": "code",
   "execution_count": 106,
   "metadata": {
    "collapsed": false
   },
   "outputs": [
    {
     "name": "stderr",
     "output_type": "stream",
     "text": [
      "/anaconda/lib/python2.7/site-packages/IPython/kernel/__main__.py:1: SettingWithCopyWarning: \n",
      "A value is trying to be set on a copy of a slice from a DataFrame\n",
      "\n",
      "See the caveats in the documentation: http://pandas.pydata.org/pandas-docs/stable/indexing.html#indexing-view-versus-copy\n",
      "  if __name__ == '__main__':\n"
     ]
    }
   ],
   "source": [
    "Z.dropna(inplace=True)"
   ]
  },
  {
   "cell_type": "code",
   "execution_count": 107,
   "metadata": {
    "collapsed": true
   },
   "outputs": [],
   "source": [
    "X = Z[['scorediff','secs_to_end','secs_to_half','togo','ydline','noscore','down_1.0',\n",
    "     'down_2.0','down_3.0','down_4.0','qtr_1.0','qtr_2.0','qtr_3.0','qtr_4.0','qtr_5.0']]\n",
    "Y = Z['pass']"
   ]
  },
  {
   "cell_type": "code",
   "execution_count": 108,
   "metadata": {
    "collapsed": true
   },
   "outputs": [],
   "source": [
    "logreg = linear_model.LogisticRegression()"
   ]
  },
  {
   "cell_type": "code",
   "execution_count": 109,
   "metadata": {
    "collapsed": false
   },
   "outputs": [
    {
     "data": {
      "text/plain": [
       "array([[ 0.,  0.,  0.,  0.],\n",
       "       [ 1.,  0.,  0.,  0.],\n",
       "       [ 0.,  1.,  0.,  0.],\n",
       "       ..., \n",
       "       [ 0.,  0.,  0.,  0.],\n",
       "       [ 1.,  0.,  0.,  0.],\n",
       "       [ 0.,  1.,  0.,  0.]])"
      ]
     },
     "execution_count": 109,
     "metadata": {},
     "output_type": "execute_result"
    }
   ],
   "source": [
    "logreg.fit_transform(X, Y)"
   ]
  },
  {
   "cell_type": "code",
   "execution_count": 110,
   "metadata": {
    "collapsed": false
   },
   "outputs": [
    {
     "data": {
      "text/html": [
       "<div>\n",
       "<table border=\"1\" class=\"dataframe\">\n",
       "  <thead>\n",
       "    <tr style=\"text-align: right;\">\n",
       "      <th></th>\n",
       "      <th>0</th>\n",
       "      <th>1</th>\n",
       "    </tr>\n",
       "  </thead>\n",
       "  <tbody>\n",
       "    <tr>\n",
       "      <th>0</th>\n",
       "      <td>scorediff</td>\n",
       "      <td>[-0.032159082596]</td>\n",
       "    </tr>\n",
       "    <tr>\n",
       "      <th>1</th>\n",
       "      <td>secs_to_end</td>\n",
       "      <td>[-7.84997482693e-05]</td>\n",
       "    </tr>\n",
       "    <tr>\n",
       "      <th>2</th>\n",
       "      <td>secs_to_half</td>\n",
       "      <td>[-0.000136262780113]</td>\n",
       "    </tr>\n",
       "    <tr>\n",
       "      <th>3</th>\n",
       "      <td>togo</td>\n",
       "      <td>[0.0671186434139]</td>\n",
       "    </tr>\n",
       "    <tr>\n",
       "      <th>4</th>\n",
       "      <td>ydline</td>\n",
       "      <td>[0.00036538561964]</td>\n",
       "    </tr>\n",
       "    <tr>\n",
       "      <th>5</th>\n",
       "      <td>noscore</td>\n",
       "      <td>[0.040210438101]</td>\n",
       "    </tr>\n",
       "    <tr>\n",
       "      <th>6</th>\n",
       "      <td>down_1.0</td>\n",
       "      <td>[-0.0394433666644]</td>\n",
       "    </tr>\n",
       "    <tr>\n",
       "      <th>7</th>\n",
       "      <td>down_2.0</td>\n",
       "      <td>[0.391500806439]</td>\n",
       "    </tr>\n",
       "    <tr>\n",
       "      <th>8</th>\n",
       "      <td>down_3.0</td>\n",
       "      <td>[1.17541013178]</td>\n",
       "    </tr>\n",
       "    <tr>\n",
       "      <th>9</th>\n",
       "      <td>down_4.0</td>\n",
       "      <td>[-2.16270346238]</td>\n",
       "    </tr>\n",
       "    <tr>\n",
       "      <th>10</th>\n",
       "      <td>qtr_1.0</td>\n",
       "      <td>[-0.0356946318275]</td>\n",
       "    </tr>\n",
       "    <tr>\n",
       "      <th>11</th>\n",
       "      <td>qtr_2.0</td>\n",
       "      <td>[0.031462620834]</td>\n",
       "    </tr>\n",
       "    <tr>\n",
       "      <th>12</th>\n",
       "      <td>qtr_3.0</td>\n",
       "      <td>[-0.0644503100522]</td>\n",
       "    </tr>\n",
       "    <tr>\n",
       "      <th>13</th>\n",
       "      <td>qtr_4.0</td>\n",
       "      <td>[-0.177934480044]</td>\n",
       "    </tr>\n",
       "    <tr>\n",
       "      <th>14</th>\n",
       "      <td>qtr_5.0</td>\n",
       "      <td>[-0.38861908974]</td>\n",
       "    </tr>\n",
       "  </tbody>\n",
       "</table>\n",
       "</div>"
      ],
      "text/plain": [
       "               0                     1\n",
       "0      scorediff     [-0.032159082596]\n",
       "1    secs_to_end  [-7.84997482693e-05]\n",
       "2   secs_to_half  [-0.000136262780113]\n",
       "3           togo     [0.0671186434139]\n",
       "4         ydline    [0.00036538561964]\n",
       "5        noscore      [0.040210438101]\n",
       "6       down_1.0    [-0.0394433666644]\n",
       "7       down_2.0      [0.391500806439]\n",
       "8       down_3.0       [1.17541013178]\n",
       "9       down_4.0      [-2.16270346238]\n",
       "10       qtr_1.0    [-0.0356946318275]\n",
       "11       qtr_2.0      [0.031462620834]\n",
       "12       qtr_3.0    [-0.0644503100522]\n",
       "13       qtr_4.0     [-0.177934480044]\n",
       "14       qtr_5.0      [-0.38861908974]"
      ]
     },
     "execution_count": 110,
     "metadata": {},
     "output_type": "execute_result"
    }
   ],
   "source": [
    "pd.DataFrame(zip(X.columns, np.transpose(logreg.coef_)))"
   ]
  },
  {
   "cell_type": "code",
   "execution_count": 111,
   "metadata": {
    "collapsed": false
   },
   "outputs": [
    {
     "name": "stdout",
     "output_type": "stream",
     "text": [
      "[False False True ..., True True True]\n"
     ]
    }
   ],
   "source": [
    "predicted = logreg.predict(X)\n",
    "print predicted"
   ]
  },
  {
   "cell_type": "code",
   "execution_count": 112,
   "metadata": {
    "collapsed": false
   },
   "outputs": [
    {
     "name": "stdout",
     "output_type": "stream",
     "text": [
      "[[ 0.62189945  0.37810055]\n",
      " [ 0.5815388   0.4184612 ]\n",
      " [ 0.38796137  0.61203863]\n",
      " ..., \n",
      " [ 0.46160405  0.53839595]\n",
      " [ 0.42076845  0.57923155]\n",
      " [ 0.3161595   0.6838405 ]]\n"
     ]
    }
   ],
   "source": [
    "predicted_prob = logreg.predict_proba(X)\n",
    "print predicted_prob"
   ]
  },
  {
   "cell_type": "code",
   "execution_count": 113,
   "metadata": {
    "collapsed": false
   },
   "outputs": [
    {
     "data": {
      "text/plain": [
       "array([ -1.61550473e+01,  -4.57468857e-01,  -2.27591758e-01,\n",
       "         5.24434156e-02,   1.14450409e-01,  -2.21628271e-13,\n",
       "         4.13836164e-01,   2.98511013e-01,   1.87657581e-01,\n",
       "         9.99952429e-02,   4.22672566e-02,   2.50463822e-01,\n",
       "         3.01817230e-01,   4.05416013e-01,   3.56786071e-05])"
      ]
     },
     "execution_count": 113,
     "metadata": {},
     "output_type": "execute_result"
    }
   ],
   "source": [
    "centers = clus.cluster_centers_\n",
    "centers[0]"
   ]
  },
  {
   "cell_type": "code",
   "execution_count": 114,
   "metadata": {
    "collapsed": false
   },
   "outputs": [
    {
     "data": {
      "text/plain": [
       "array([[ 0.5230958 ,  0.4769042 ],\n",
       "       [ 0.62840112,  0.37159888],\n",
       "       [ 0.73284377,  0.26715623]])"
      ]
     },
     "execution_count": 114,
     "metadata": {},
     "output_type": "execute_result"
    }
   ],
   "source": [
    "logreg.predict_proba(centers)"
   ]
  },
  {
   "cell_type": "code",
   "execution_count": 115,
   "metadata": {
    "collapsed": false
   },
   "outputs": [],
   "source": [
    "clus_8 = KMeans(n_clusters=8,init='k-means++',)\n",
    "clus_8.fit(X)\n",
    "labs = clus_8.labels_\n",
    "dat_clus['Labels8'] = labs"
   ]
  },
  {
   "cell_type": "code",
   "execution_count": 116,
   "metadata": {
    "collapsed": false
   },
   "outputs": [
    {
     "data": {
      "text/plain": [
       "array([ -1.19017600e+00,   6.06242398e+02,   6.06242398e+02,\n",
       "         8.56772397e+00,   5.06748931e+01,   4.17619568e-04,\n",
       "         3.92124888e-01,   3.00228696e-01,   1.98826688e-01,\n",
       "         1.08819728e-01,  -1.39166456e-13,   2.64233080e-13,\n",
       "         9.76718706e-14,   1.00000000e+00,   2.81458884e-15])"
      ]
     },
     "execution_count": 116,
     "metadata": {},
     "output_type": "execute_result"
    }
   ],
   "source": [
    "centers8 = clus_8.cluster_centers_\n",
    "centers8[0]"
   ]
  },
  {
   "cell_type": "code",
   "execution_count": 117,
   "metadata": {
    "collapsed": false
   },
   "outputs": [
    {
     "data": {
      "text/plain": [
       "array([[ 0.55257388,  0.44742612],\n",
       "       [ 0.53569233,  0.46430767],\n",
       "       [ 0.59780015,  0.40219985],\n",
       "       [ 0.57352106,  0.42647894],\n",
       "       [ 0.55423743,  0.44576257],\n",
       "       [ 0.57352174,  0.42647826],\n",
       "       [ 0.52885591,  0.47114409],\n",
       "       [ 0.51166587,  0.48833413]])"
      ]
     },
     "execution_count": 117,
     "metadata": {},
     "output_type": "execute_result"
    }
   ],
   "source": [
    "logreg.predict_proba(centers8)"
   ]
  },
  {
   "cell_type": "code",
   "execution_count": 118,
   "metadata": {
    "collapsed": true
   },
   "outputs": [],
   "source": [
    "clus_20 = KMeans(n_clusters=20,init='k-means++',)\n",
    "clus_20.fit(X)\n",
    "labs = clus_20.labels_\n",
    "dat_clus['Labels20'] = labs"
   ]
  },
  {
   "cell_type": "code",
   "execution_count": 119,
   "metadata": {
    "collapsed": true
   },
   "outputs": [],
   "source": [
    "dat = pd.concat([dat,dat_clus['Labels20']], axis=1, join_axes=[dat.index])"
   ]
  },
  {
   "cell_type": "code",
   "execution_count": 120,
   "metadata": {
    "collapsed": false
   },
   "outputs": [
    {
     "data": {
      "image/png": "[encoded data removed]",
      "text/plain": [
       "<matplotlib.figure.Figure at 0x1119f6990>"
      ]
     },
     "metadata": {},
     "output_type": "display_data"
    }
   ],
   "source": [
    "g = sns.factorplot(x='Labels20',y='pass',data=dat,kind='bar',aspect=1.5)"
   ]
  },
  {
   "cell_type": "code",
   "execution_count": 121,
   "metadata": {
    "collapsed": false
   },
   "outputs": [
    {
     "data": {
      "image/png": "[encoded data removed]",
      "text/plain": [
       "<matplotlib.figure.Figure at 0x109cfb6d0>"
      ]
     },
     "metadata": {},
     "output_type": "display_data"
    }
   ],
   "source": [
    "g = sns.lmplot(x='PCA_1',y='PCA_2',hue='Labels20',data=dat,fit_reg=False)"
   ]
  },
  {
   "cell_type": "code",
   "execution_count": 122,
   "metadata": {
    "collapsed": false
   },
   "outputs": [
    {
     "data": {
      "text/plain": [
       "array([ -2.27752219e-01,   3.50750290e+03,   1.70750290e+03,\n",
       "         8.52702263e+00,   6.02836098e+01,   9.50230029e-01,\n",
       "         4.43700915e-01,   3.03173939e-01,   1.73242251e-01,\n",
       "         7.98828942e-02,   1.00000000e+00,  -8.42659276e-14,\n",
       "         8.41826608e-14,  -2.70894418e-14,   1.50747470e-15])"
      ]
     },
     "execution_count": 122,
     "metadata": {},
     "output_type": "execute_result"
    }
   ],
   "source": [
    "centers20 = clus_20.cluster_centers_\n",
    "centers20[0]"
   ]
  },
  {
   "cell_type": "code",
   "execution_count": 123,
   "metadata": {
    "collapsed": false
   },
   "outputs": [
    {
     "data": {
      "text/plain": [
       "array([[ 0.60036731,  0.39963269],\n",
       "       [ 0.50799116,  0.49200884],\n",
       "       [ 0.52010944,  0.47989056],\n",
       "       [ 0.57885588,  0.42114412],\n",
       "       [ 0.53003313,  0.46996687],\n",
       "       [ 0.55420237,  0.44579763],\n",
       "       [ 0.5866238 ,  0.4133762 ],\n",
       "       [ 0.55059778,  0.44940222],\n",
       "       [ 0.59886986,  0.40113014],\n",
       "       [ 0.56072822,  0.43927178],\n",
       "       [ 0.53854478,  0.46145522],\n",
       "       [ 0.57229647,  0.42770353],\n",
       "       [ 0.55774703,  0.44225297],\n",
       "       [ 0.53096561,  0.46903439],\n",
       "       [ 0.51765455,  0.48234545],\n",
       "       [ 0.56412871,  0.43587129],\n",
       "       [ 0.56111976,  0.43888024],\n",
       "       [ 0.57868999,  0.42131001],\n",
       "       [ 0.54270864,  0.45729136],\n",
       "       [ 0.55255904,  0.44744096]])"
      ]
     },
     "execution_count": 123,
     "metadata": {},
     "output_type": "execute_result"
    }
   ],
   "source": [
    "logreg.predict_proba(centers20)"
   ]
  },
  {
   "cell_type": "code",
   "execution_count": 124,
   "metadata": {
    "collapsed": true
   },
   "outputs": [],
   "source": [
    "logreg_clus3 = linear_model.LogisticRegression()\n",
    "logreg_clus8 = linear_model.LogisticRegression()\n",
    "logreg_clus20 = linear_model.LogisticRegression()"
   ]
  },
  {
   "cell_type": "code",
   "execution_count": 125,
   "metadata": {
    "collapsed": false
   },
   "outputs": [],
   "source": [
    "Labels3_dummies = pd.get_dummies(dat['Labels3'],prefix='Labels3')"
   ]
  },
  {
   "cell_type": "code",
   "execution_count": 126,
   "metadata": {
    "collapsed": true
   },
   "outputs": [],
   "source": [
    "Labels8_dummies = pd.get_dummies(dat['Labels8'],prefix='Labels8')"
   ]
  },
  {
   "cell_type": "code",
   "execution_count": 127,
   "metadata": {
    "collapsed": true
   },
   "outputs": [],
   "source": [
    "Labels20_dummies = pd.get_dummies(dat['Labels20'],prefix='Labels20')"
   ]
  },
  {
   "cell_type": "code",
   "execution_count": 128,
   "metadata": {
    "collapsed": false
   },
   "outputs": [],
   "source": [
    "dat = pd.concat([dat,Labels3_dummies], axis=1)"
   ]
  },
  {
   "cell_type": "code",
   "execution_count": 129,
   "metadata": {
    "collapsed": true
   },
   "outputs": [],
   "source": [
    "dat = pd.concat([dat,Labels8_dummies], axis=1)"
   ]
  },
  {
   "cell_type": "code",
   "execution_count": 130,
   "metadata": {
    "collapsed": true
   },
   "outputs": [],
   "source": [
    "dat = pd.concat([dat,Labels20_dummies], axis=1)"
   ]
  },
  {
   "cell_type": "code",
   "execution_count": 131,
   "metadata": {
    "collapsed": false
   },
   "outputs": [
    {
     "data": {
      "text/plain": [
       "Index([u'Unnamed: 0', u'def', u'defscore', u'description', u'down', u'gameid',\n",
       "       u'min', u'nextscore', u'off', u'offscore', u'qtr', u'scorechange',\n",
       "       u'scorediff', u'season', u'sec', u'series1stdn', u'teamwin', u'togo',\n",
       "       u'ydline', u'secs_to_end', u'secs_to_half', u'pass', u'kickoff',\n",
       "       u'extra_point', u'punt', u'run', u'kneel', u'sack', u'penalty',\n",
       "       u'field_goal', u'fumble', u'interception', u'scramble', u'run_scramble',\n",
       "       u'spike', u'team_separator', u'away_start_ix', u'home_team',\n",
       "       u'away_team', u'home_score', u'away_score', u'scorediff_home',\n",
       "       u'scorediff_away', u'scorediff_norm', u'scorediff_home_norm',\n",
       "       u'scorediff_away_norm', u'secs_to_end_norm', u'secs_to_half_norm',\n",
       "       u'togo_norm', u'ydline_norm', u'noscore', u'down_cat',\n",
       "       u'attempted_pass', u'down_1.0', u'down_2.0', u'down_3.0', u'down_4.0',\n",
       "       u'qtr_1.0', u'qtr_2.0', u'qtr_3.0', u'qtr_4.0', u'qtr_5.0', u'Labels3',\n",
       "       u'PCA_1', u'PCA_2', u'Labels8', u'Labels20', u'Labels3_0.0',\n",
       "       u'Labels3_1.0', u'Labels3_2.0', u'Labels8_0.0', u'Labels8_1.0',\n",
       "       u'Labels8_2.0', u'Labels8_3.0', u'Labels8_4.0', u'Labels8_5.0',\n",
       "       u'Labels8_6.0', u'Labels8_7.0', u'Labels20_0.0', u'Labels20_1.0',\n",
       "       u'Labels20_2.0', u'Labels20_3.0', u'Labels20_4.0', u'Labels20_5.0',\n",
       "       u'Labels20_6.0', u'Labels20_7.0', u'Labels20_8.0', u'Labels20_9.0',\n",
       "       u'Labels20_10.0', u'Labels20_11.0', u'Labels20_12.0', u'Labels20_13.0',\n",
       "       u'Labels20_14.0', u'Labels20_15.0', u'Labels20_16.0', u'Labels20_17.0',\n",
       "       u'Labels20_18.0', u'Labels20_19.0'],\n",
       "      dtype='object')"
      ]
     },
     "execution_count": 131,
     "metadata": {},
     "output_type": "execute_result"
    }
   ],
   "source": [
    "dat.keys()"
   ]
  },
  {
   "cell_type": "code",
   "execution_count": 132,
   "metadata": {
    "collapsed": true
   },
   "outputs": [],
   "source": [
    "Z_Clus =dat[['Labels3_0.0',\n",
    "       'Labels3_1.0', 'Labels3_2.0', 'Labels8', 'Labels8', 'Labels20_0.0',\n",
    "       'Labels20_1.0', 'Labels20_2.0', 'Labels20_3.0', 'Labels20_4.0',\n",
    "       'Labels20_5.0', 'Labels20_6.0', 'Labels20_7.0', 'Labels20_8.0',\n",
    "       'Labels20_9.0', 'Labels20_10.0', 'Labels20_11.0', 'Labels20_12.0',\n",
    "       'Labels20_13.0', 'Labels20_14.0', 'Labels20_15.0', 'Labels20_16.0',\n",
    "       'Labels20_17.0', 'Labels20_18.0', 'Labels20_19.0', 'pass']]"
   ]
  },
  {
   "cell_type": "code",
   "execution_count": 133,
   "metadata": {
    "collapsed": false
   },
   "outputs": [
    {
     "name": "stderr",
     "output_type": "stream",
     "text": [
      "/anaconda/lib/python2.7/site-packages/IPython/kernel/__main__.py:1: SettingWithCopyWarning: \n",
      "A value is trying to be set on a copy of a slice from a DataFrame\n",
      "\n",
      "See the caveats in the documentation: http://pandas.pydata.org/pandas-docs/stable/indexing.html#indexing-view-versus-copy\n",
      "  if __name__ == '__main__':\n"
     ]
    }
   ],
   "source": [
    "Z_Clus.dropna(inplace=True)"
   ]
  },
  {
   "cell_type": "code",
   "execution_count": 134,
   "metadata": {
    "collapsed": false
   },
   "outputs": [],
   "source": [
    "X_Clus3 = Z_Clus[['Labels3_0.0',\n",
    "       'Labels3_1.0', 'Labels3_2.0']]"
   ]
  },
  {
   "cell_type": "code",
   "execution_count": 135,
   "metadata": {
    "collapsed": true
   },
   "outputs": [],
   "source": [
    "X_Clus20 = Z_Clus[['Labels20_0.0','Labels20_1.0', 'Labels20_2.0', 'Labels20_3.0', 'Labels20_4.0',\n",
    "       'Labels20_5.0', 'Labels20_6.0', 'Labels20_7.0', 'Labels20_8.0',\n",
    "       'Labels20_9.0', 'Labels20_10.0', 'Labels20_11.0', 'Labels20_12.0',\n",
    "       'Labels20_13.0', 'Labels20_14.0', 'Labels20_15.0', 'Labels20_16.0',\n",
    "       'Labels20_17.0', 'Labels20_18.0', 'Labels20_19.0']]"
   ]
  },
  {
   "cell_type": "code",
   "execution_count": 136,
   "metadata": {
    "collapsed": false
   },
   "outputs": [],
   "source": [
    "Y =Z_Clus[['pass']]"
   ]
  },
  {
   "cell_type": "code",
   "execution_count": 137,
   "metadata": {
    "collapsed": false
   },
   "outputs": [
    {
     "name": "stderr",
     "output_type": "stream",
     "text": [
      "//anaconda/lib/python2.7/site-packages/sklearn/utils/validation.py:449: DataConversionWarning: A column-vector y was passed when a 1d array was expected. Please change the shape of y to (n_samples, ), for example using ravel().\n",
      "  y = column_or_1d(y, warn=True)\n",
      "//anaconda/lib/python2.7/site-packages/sklearn/utils/validation.py:449: DataConversionWarning: A column-vector y was passed when a 1d array was expected. Please change the shape of y to (n_samples, ), for example using ravel().\n",
      "  y = column_or_1d(y, warn=True)\n"
     ]
    },
    {
     "data": {
      "text/plain": [
       "array([[ 1.,  0.,  0., ...,  0.,  0.,  0.],\n",
       "       [ 1.,  0.,  0., ...,  0.,  0.,  0.],\n",
       "       [ 1.,  0.,  0., ...,  0.,  0.,  0.],\n",
       "       ..., \n",
       "       [ 0.,  0.,  1., ...,  0.,  0.,  0.],\n",
       "       [ 0.,  0.,  1., ...,  0.,  0.,  0.],\n",
       "       [ 0.,  0.,  1., ...,  0.,  0.,  0.]])"
      ]
     },
     "execution_count": 137,
     "metadata": {},
     "output_type": "execute_result"
    }
   ],
   "source": [
    "logreg_clus3.fit_transform(X_Clus3, Y)\n",
    "logreg_clus20.fit_transform(X_Clus20, Y)"
   ]
  },
  {
   "cell_type": "code",
   "execution_count": 138,
   "metadata": {
    "collapsed": false
   },
   "outputs": [
    {
     "data": {
      "text/html": [
       "<div>\n",
       "<table border=\"1\" class=\"dataframe\">\n",
       "  <thead>\n",
       "    <tr style=\"text-align: right;\">\n",
       "      <th></th>\n",
       "      <th>0</th>\n",
       "      <th>1</th>\n",
       "    </tr>\n",
       "  </thead>\n",
       "  <tbody>\n",
       "    <tr>\n",
       "      <th>0</th>\n",
       "      <td>Labels3_0.0</td>\n",
       "      <td>[0.427773056787]</td>\n",
       "    </tr>\n",
       "    <tr>\n",
       "      <th>1</th>\n",
       "      <td>Labels3_1.0</td>\n",
       "      <td>[-0.065768349995]</td>\n",
       "    </tr>\n",
       "    <tr>\n",
       "      <th>2</th>\n",
       "      <td>Labels3_2.0</td>\n",
       "      <td>[-0.43911957962]</td>\n",
       "    </tr>\n",
       "  </tbody>\n",
       "</table>\n",
       "</div>"
      ],
      "text/plain": [
       "             0                  1\n",
       "0  Labels3_0.0   [0.427773056787]\n",
       "1  Labels3_1.0  [-0.065768349995]\n",
       "2  Labels3_2.0   [-0.43911957962]"
      ]
     },
     "execution_count": 138,
     "metadata": {},
     "output_type": "execute_result"
    }
   ],
   "source": [
    "pd.DataFrame(zip(X_Clus3.columns, np.transpose(logreg_clus3.coef_)))"
   ]
  },
  {
   "cell_type": "code",
   "execution_count": 139,
   "metadata": {
    "collapsed": false
   },
   "outputs": [
    {
     "data": {
      "text/html": [
       "<div>\n",
       "<table border=\"1\" class=\"dataframe\">\n",
       "  <thead>\n",
       "    <tr style=\"text-align: right;\">\n",
       "      <th></th>\n",
       "      <th>0</th>\n",
       "      <th>1</th>\n",
       "    </tr>\n",
       "  </thead>\n",
       "  <tbody>\n",
       "    <tr>\n",
       "      <th>0</th>\n",
       "      <td>Labels20_0.0</td>\n",
       "      <td>[-0.0948356010988]</td>\n",
       "    </tr>\n",
       "    <tr>\n",
       "      <th>1</th>\n",
       "      <td>Labels20_1.0</td>\n",
       "      <td>[0.431974886658]</td>\n",
       "    </tr>\n",
       "    <tr>\n",
       "      <th>2</th>\n",
       "      <td>Labels20_2.0</td>\n",
       "      <td>[0.09814461531]</td>\n",
       "    </tr>\n",
       "    <tr>\n",
       "      <th>3</th>\n",
       "      <td>Labels20_3.0</td>\n",
       "      <td>[-0.0803351409168]</td>\n",
       "    </tr>\n",
       "    <tr>\n",
       "      <th>4</th>\n",
       "      <td>Labels20_4.0</td>\n",
       "      <td>[-0.0433009388049]</td>\n",
       "    </tr>\n",
       "    <tr>\n",
       "      <th>5</th>\n",
       "      <td>Labels20_5.0</td>\n",
       "      <td>[0.0340490168502]</td>\n",
       "    </tr>\n",
       "    <tr>\n",
       "      <th>6</th>\n",
       "      <td>Labels20_6.0</td>\n",
       "      <td>[-0.0944635999177]</td>\n",
       "    </tr>\n",
       "    <tr>\n",
       "      <th>7</th>\n",
       "      <td>Labels20_7.0</td>\n",
       "      <td>[0.0337978272005]</td>\n",
       "    </tr>\n",
       "    <tr>\n",
       "      <th>8</th>\n",
       "      <td>Labels20_8.0</td>\n",
       "      <td>[-0.139540864135]</td>\n",
       "    </tr>\n",
       "    <tr>\n",
       "      <th>9</th>\n",
       "      <td>Labels20_9.0</td>\n",
       "      <td>[0.00479377883653]</td>\n",
       "    </tr>\n",
       "    <tr>\n",
       "      <th>10</th>\n",
       "      <td>Labels20_10.0</td>\n",
       "      <td>[-0.040902443249]</td>\n",
       "    </tr>\n",
       "    <tr>\n",
       "      <th>11</th>\n",
       "      <td>Labels20_11.0</td>\n",
       "      <td>[-0.0298943954224]</td>\n",
       "    </tr>\n",
       "    <tr>\n",
       "      <th>12</th>\n",
       "      <td>Labels20_12.0</td>\n",
       "      <td>[-0.0906773420925]</td>\n",
       "    </tr>\n",
       "    <tr>\n",
       "      <th>13</th>\n",
       "      <td>Labels20_13.0</td>\n",
       "      <td>[0.0367563839476]</td>\n",
       "    </tr>\n",
       "    <tr>\n",
       "      <th>14</th>\n",
       "      <td>Labels20_14.0</td>\n",
       "      <td>[0.0322872960831]</td>\n",
       "    </tr>\n",
       "    <tr>\n",
       "      <th>15</th>\n",
       "      <td>Labels20_15.0</td>\n",
       "      <td>[-0.297103451351]</td>\n",
       "    </tr>\n",
       "    <tr>\n",
       "      <th>16</th>\n",
       "      <td>Labels20_16.0</td>\n",
       "      <td>[0.0408797648211]</td>\n",
       "    </tr>\n",
       "    <tr>\n",
       "      <th>17</th>\n",
       "      <td>Labels20_17.0</td>\n",
       "      <td>[-0.092961862796]</td>\n",
       "    </tr>\n",
       "    <tr>\n",
       "      <th>18</th>\n",
       "      <td>Labels20_18.0</td>\n",
       "      <td>[0.0928115663608]</td>\n",
       "    </tr>\n",
       "    <tr>\n",
       "      <th>19</th>\n",
       "      <td>Labels20_19.0</td>\n",
       "      <td>[0.0457414769461]</td>\n",
       "    </tr>\n",
       "  </tbody>\n",
       "</table>\n",
       "</div>"
      ],
      "text/plain": [
       "                0                   1\n",
       "0    Labels20_0.0  [-0.0948356010988]\n",
       "1    Labels20_1.0    [0.431974886658]\n",
       "2    Labels20_2.0     [0.09814461531]\n",
       "3    Labels20_3.0  [-0.0803351409168]\n",
       "4    Labels20_4.0  [-0.0433009388049]\n",
       "5    Labels20_5.0   [0.0340490168502]\n",
       "6    Labels20_6.0  [-0.0944635999177]\n",
       "7    Labels20_7.0   [0.0337978272005]\n",
       "8    Labels20_8.0   [-0.139540864135]\n",
       "9    Labels20_9.0  [0.00479377883653]\n",
       "10  Labels20_10.0   [-0.040902443249]\n",
       "11  Labels20_11.0  [-0.0298943954224]\n",
       "12  Labels20_12.0  [-0.0906773420925]\n",
       "13  Labels20_13.0   [0.0367563839476]\n",
       "14  Labels20_14.0   [0.0322872960831]\n",
       "15  Labels20_15.0   [-0.297103451351]\n",
       "16  Labels20_16.0   [0.0408797648211]\n",
       "17  Labels20_17.0   [-0.092961862796]\n",
       "18  Labels20_18.0   [0.0928115663608]\n",
       "19  Labels20_19.0   [0.0457414769461]"
      ]
     },
     "execution_count": 139,
     "metadata": {},
     "output_type": "execute_result"
    }
   ],
   "source": [
    "pd.DataFrame(zip(X_Clus20.columns, np.transpose(logreg_clus20.coef_)))"
   ]
  },
  {
   "cell_type": "code",
   "execution_count": 140,
   "metadata": {
    "collapsed": false
   },
   "outputs": [
    {
     "data": {
      "text/html": [
       "<div>\n",
       "<table border=\"1\" class=\"dataframe\">\n",
       "  <thead>\n",
       "    <tr style=\"text-align: right;\">\n",
       "      <th></th>\n",
       "      <th>scorediff</th>\n",
       "      <th>secs_to_end</th>\n",
       "      <th>secs_to_half</th>\n",
       "      <th>togo</th>\n",
       "      <th>ydline</th>\n",
       "      <th>noscore</th>\n",
       "      <th>down_1.0</th>\n",
       "      <th>down_2.0</th>\n",
       "      <th>down_3.0</th>\n",
       "      <th>down_4.0</th>\n",
       "      <th>qtr_1.0</th>\n",
       "      <th>qtr_2.0</th>\n",
       "      <th>qtr_3.0</th>\n",
       "      <th>qtr_4.0</th>\n",
       "      <th>qtr_5.0</th>\n",
       "    </tr>\n",
       "    <tr>\n",
       "      <th>Labels3</th>\n",
       "      <th></th>\n",
       "      <th></th>\n",
       "      <th></th>\n",
       "      <th></th>\n",
       "      <th></th>\n",
       "      <th></th>\n",
       "      <th></th>\n",
       "      <th></th>\n",
       "      <th></th>\n",
       "      <th></th>\n",
       "      <th></th>\n",
       "      <th></th>\n",
       "      <th></th>\n",
       "      <th></th>\n",
       "      <th></th>\n",
       "    </tr>\n",
       "  </thead>\n",
       "  <tbody>\n",
       "    <tr>\n",
       "      <th>0</th>\n",
       "      <td>-16.155047</td>\n",
       "      <td>1232.406843</td>\n",
       "      <td>705.726381</td>\n",
       "      <td>8.760418</td>\n",
       "      <td>51.995433</td>\n",
       "      <td>0.00000</td>\n",
       "      <td>0.413836</td>\n",
       "      <td>0.298511</td>\n",
       "      <td>0.187658</td>\n",
       "      <td>0.099995</td>\n",
       "      <td>0.042267</td>\n",
       "      <td>0.250464</td>\n",
       "      <td>0.301817</td>\n",
       "      <td>0.405416</td>\n",
       "      <td>0.000036</td>\n",
       "    </tr>\n",
       "    <tr>\n",
       "      <th>1</th>\n",
       "      <td>-1.533646</td>\n",
       "      <td>2037.625687</td>\n",
       "      <td>913.576838</td>\n",
       "      <td>8.518693</td>\n",
       "      <td>51.884045</td>\n",
       "      <td>0.23322</td>\n",
       "      <td>0.394753</td>\n",
       "      <td>0.301113</td>\n",
       "      <td>0.197807</td>\n",
       "      <td>0.106326</td>\n",
       "      <td>0.348698</td>\n",
       "      <td>0.275910</td>\n",
       "      <td>0.174944</td>\n",
       "      <td>0.188475</td>\n",
       "      <td>0.011973</td>\n",
       "    </tr>\n",
       "    <tr>\n",
       "      <th>2</th>\n",
       "      <td>12.481151</td>\n",
       "      <td>1411.916894</td>\n",
       "      <td>760.083910</td>\n",
       "      <td>8.437643</td>\n",
       "      <td>50.423634</td>\n",
       "      <td>0.00000</td>\n",
       "      <td>0.390697</td>\n",
       "      <td>0.301360</td>\n",
       "      <td>0.199973</td>\n",
       "      <td>0.107971</td>\n",
       "      <td>0.092070</td>\n",
       "      <td>0.270186</td>\n",
       "      <td>0.295746</td>\n",
       "      <td>0.341243</td>\n",
       "      <td>0.000754</td>\n",
       "    </tr>\n",
       "  </tbody>\n",
       "</table>\n",
       "</div>"
      ],
      "text/plain": [
       "         scorediff  secs_to_end  secs_to_half      togo     ydline  noscore  \\\n",
       "Labels3                                                                       \n",
       "0       -16.155047  1232.406843    705.726381  8.760418  51.995433  0.00000   \n",
       "1        -1.533646  2037.625687    913.576838  8.518693  51.884045  0.23322   \n",
       "2        12.481151  1411.916894    760.083910  8.437643  50.423634  0.00000   \n",
       "\n",
       "         down_1.0  down_2.0  down_3.0  down_4.0   qtr_1.0   qtr_2.0   qtr_3.0  \\\n",
       "Labels3                                                                         \n",
       "0        0.413836  0.298511  0.187658  0.099995  0.042267  0.250464  0.301817   \n",
       "1        0.394753  0.301113  0.197807  0.106326  0.348698  0.275910  0.174944   \n",
       "2        0.390697  0.301360  0.199973  0.107971  0.092070  0.270186  0.295746   \n",
       "\n",
       "          qtr_4.0   qtr_5.0  \n",
       "Labels3                      \n",
       "0        0.405416  0.000036  \n",
       "1        0.188475  0.011973  \n",
       "2        0.341243  0.000754  "
      ]
     },
     "execution_count": 140,
     "metadata": {},
     "output_type": "execute_result"
    }
   ],
   "source": [
    "dat[['scorediff','secs_to_end','secs_to_half','togo','ydline','noscore','down_1.0',\n",
    "     'down_2.0','down_3.0','down_4.0','qtr_1.0','qtr_2.0','qtr_3.0','qtr_4.0','qtr_5.0','Labels3','pass']].groupby('Labels3').mean()"
   ]
  },
  {
   "cell_type": "code",
   "execution_count": 142,
   "metadata": {
    "collapsed": false
   },
   "outputs": [
    {
     "data": {
      "image/png": "[encoded data removed]",
      "text/plain": [
       "<matplotlib.figure.Figure at 0x11f62b1d0>"
      ]
     },
     "metadata": {},
     "output_type": "display_data"
    }
   ],
   "source": [
    "f, (ax1, ax2, ax3) = plt.subplots(1, 3, figsize=(12, 6), sharex=True)\n",
    "sns.barplot(dat[\"Labels3\"], dat['scorediff'], ax=ax1)\n",
    "sns.barplot(dat[\"Labels3\"], dat['secs_to_end'], ax=ax2)\n",
    "sns.barplot(dat[\"Labels3\"], dat['noscore'], ax=ax3)\n",
    "plt.tight_layout(w_pad=3)"
   ]
  },
  {
   "cell_type": "code",
   "execution_count": 143,
   "metadata": {
    "collapsed": true
   },
   "outputs": [],
   "source": [
    "dat.to_csv('complete_db.csv')"
   ]
  },
  {
   "cell_type": "code",
   "execution_count": null,
   "metadata": {
    "collapsed": true
   },
   "outputs": [],
   "source": []
  }
 ],
 "metadata": {
  "kernelspec": {
   "display_name": "Python 2",
   "language": "python",
   "name": "python2"
  },
  "language_info": {
   "codemirror_mode": {
    "name": "ipython",
    "version": 2
   },
   "file_extension": ".py",
   "mimetype": "text/x-python",
   "name": "python",
   "nbconvert_exporter": "python",
   "pygments_lexer": "ipython2",
   "version": "2.7.10"
  }
 },
 "nbformat": 4,
 "nbformat_minor": 0
}
