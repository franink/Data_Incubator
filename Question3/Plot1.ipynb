{
 "cells": [
  {
   "cell_type": "code",
   "execution_count": 4,
   "metadata": {
    "collapsed": true
   },
   "outputs": [],
   "source": [
    "import os\n",
    "import glob as glob\n",
    "import numpy as np\n",
    "import pandas as pd\n",
    "import seaborn as sns\n",
    "import matplotlib.pyplot as plt\n",
    "% matplotlib inline"
   ]
  },
  {
   "cell_type": "code",
   "execution_count": 5,
   "metadata": {
    "collapsed": true
   },
   "outputs": [],
   "source": [
    "filepath = '/Users/frankanayet/Desktop/Data_Incubator/'\n",
    "os.chdir(filepath)"
   ]
  },
  {
   "cell_type": "code",
   "execution_count": 6,
   "metadata": {
    "collapsed": false
   },
   "outputs": [
    {
     "data": {
      "text/plain": [
       "'complete_db.csv'"
      ]
     },
     "execution_count": 6,
     "metadata": {},
     "output_type": "execute_result"
    }
   ],
   "source": [
    "files = glob.glob('complete_db*')\n",
    "files[0]"
   ]
  },
  {
   "cell_type": "code",
   "execution_count": 8,
   "metadata": {
    "collapsed": false
   },
   "outputs": [
    {
     "data": {
      "text/plain": [
       "Index([u'Unnamed: 0', u'Unnamed: 0.1', u'def', u'defscore', u'description',\n",
       "       u'down', u'gameid', u'min', u'nextscore', u'off', u'offscore', u'qtr',\n",
       "       u'scorechange', u'scorediff', u'season', u'sec', u'series1stdn',\n",
       "       u'teamwin', u'togo', u'ydline', u'secs_to_end', u'secs_to_half',\n",
       "       u'pass', u'kickoff', u'extra_point', u'punt', u'run', u'kneel', u'sack',\n",
       "       u'penalty', u'field_goal', u'fumble', u'interception', u'scramble',\n",
       "       u'run_scramble', u'spike', u'team_separator', u'away_start_ix',\n",
       "       u'home_team', u'away_team', u'home_score', u'away_score',\n",
       "       u'scorediff_home', u'scorediff_away', u'scorediff_norm',\n",
       "       u'scorediff_home_norm', u'scorediff_away_norm', u'secs_to_end_norm',\n",
       "       u'secs_to_half_norm', u'togo_norm', u'ydline_norm', u'noscore',\n",
       "       u'down_cat', u'attempted_pass', u'down_1.0', u'down_2.0', u'down_3.0',\n",
       "       u'down_4.0', u'qtr_1.0', u'qtr_2.0', u'qtr_3.0', u'qtr_4.0', u'qtr_5.0',\n",
       "       u'Labels3', u'PCA_1', u'PCA_2', u'Labels8', u'Labels20', u'Labels3_0.0',\n",
       "       u'Labels3_1.0', u'Labels3_2.0', u'Labels8_0.0', u'Labels8_1.0',\n",
       "       u'Labels8_2.0', u'Labels8_3.0', u'Labels8_4.0', u'Labels8_5.0',\n",
       "       u'Labels8_6.0', u'Labels8_7.0', u'Labels20_0.0', u'Labels20_1.0',\n",
       "       u'Labels20_2.0', u'Labels20_3.0', u'Labels20_4.0', u'Labels20_5.0',\n",
       "       u'Labels20_6.0', u'Labels20_7.0', u'Labels20_8.0', u'Labels20_9.0',\n",
       "       u'Labels20_10.0', u'Labels20_11.0', u'Labels20_12.0', u'Labels20_13.0',\n",
       "       u'Labels20_14.0', u'Labels20_15.0', u'Labels20_16.0', u'Labels20_17.0',\n",
       "       u'Labels20_18.0', u'Labels20_19.0'],\n",
       "      dtype='object')"
      ]
     },
     "execution_count": 8,
     "metadata": {},
     "output_type": "execute_result"
    }
   ],
   "source": [
    "dat = pd.read_csv(files[0])\n",
    "dat.keys()"
   ]
  },
  {
   "cell_type": "code",
   "execution_count": 9,
   "metadata": {
    "collapsed": false
   },
   "outputs": [
    {
     "data": {
      "text/plain": [
       "<seaborn.axisgrid.FacetGrid at 0x108af88d0>"
      ]
     },
     "execution_count": 9,
     "metadata": {},
     "output_type": "execute_result"
    },
    {
     "data": {
      "image/png": "[encoded data removed]",
      "text/plain": [
       "<matplotlib.figure.Figure at 0x1066bc6d0>"
      ]
     },
     "metadata": {},
     "output_type": "display_data"
    }
   ],
   "source": [
    "labels = ['1st', '2nd', '3rd', '4th']\n",
    "g = sns.factorplot(x='down_cat',y='pass',data=dat,kind='bar')\n",
    "g.set_xticklabels(labels)"
   ]
  },
  {
   "cell_type": "code",
   "execution_count": 10,
   "metadata": {
    "collapsed": false
   },
   "outputs": [
    {
     "data": {
      "text/plain": [
       "<seaborn.axisgrid.FacetGrid at 0x117ad5290>"
      ]
     },
     "execution_count": 10,
     "metadata": {},
     "output_type": "execute_result"
    },
    {
     "data": {
      "image/png": "[encoded data removed]",
      "text/plain": [
       "<matplotlib.figure.Figure at 0x125f3ecd0>"
      ]
     },
     "metadata": {},
     "output_type": "display_data"
    }
   ],
   "source": [
    "g = sns.factorplot(x='down_cat',y='pass',col='qtr',data=dat,kind='bar')\n",
    "g.set_xticklabels(labels)"
   ]
  },
  {
   "cell_type": "code",
   "execution_count": null,
   "metadata": {
    "collapsed": true
   },
   "outputs": [],
   "source": []
  }
 ],
 "metadata": {
  "kernelspec": {
   "display_name": "Python 2",
   "language": "python",
   "name": "python2"
  },
  "language_info": {
   "codemirror_mode": {
    "name": "ipython",
    "version": 2
   },
   "file_extension": ".py",
   "mimetype": "text/x-python",
   "name": "python",
   "nbconvert_exporter": "python",
   "pygments_lexer": "ipython2",
   "version": "2.7.10"
  }
 },
 "nbformat": 4,
 "nbformat_minor": 0
}
