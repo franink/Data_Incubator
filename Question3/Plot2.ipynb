{
 "cells": [
  {
   "cell_type": "code",
   "execution_count": 1,
   "metadata": {
    "collapsed": true
   },
   "outputs": [],
   "source": [
    "import os\n",
    "import glob as glob\n",
    "import numpy as np\n",
    "import pandas as pd\n",
    "import seaborn as sns\n",
    "import matplotlib.pyplot as plt\n",
    "% matplotlib inline"
   ]
  },
  {
   "cell_type": "code",
   "execution_count": 2,
   "metadata": {
    "collapsed": true
   },
   "outputs": [],
   "source": [
    "filepath = '/Users/frankanayet/Desktop/Data_Incubator/'\n",
    "os.chdir(filepath)"
   ]
  },
  {
   "cell_type": "code",
   "execution_count": 3,
   "metadata": {
    "collapsed": false
   },
   "outputs": [
    {
     "data": {
      "text/plain": [
       "'complete_db.csv'"
      ]
     },
     "execution_count": 3,
     "metadata": {},
     "output_type": "execute_result"
    }
   ],
   "source": [
    "files = glob.glob('complete_db*')\n",
    "files[0]"
   ]
  },
  {
   "cell_type": "code",
   "execution_count": 4,
   "metadata": {
    "collapsed": false
   },
   "outputs": [
    {
     "name": "stderr",
     "output_type": "stream",
     "text": [
      "//anaconda/lib/python2.7/site-packages/IPython/core/interactiveshell.py:2871: DtypeWarning: Columns (22,23,24,25,26,27,28,29,30,31,32,33,35,53) have mixed types. Specify dtype option on import or set low_memory=False.\n",
      "  interactivity=interactivity, compiler=compiler, result=result)\n"
     ]
    }
   ],
   "source": [
    "dat = pd.read_csv(files[0])"
   ]
  },
  {
   "cell_type": "code",
   "execution_count": 5,
   "metadata": {
    "collapsed": false
   },
   "outputs": [
    {
     "data": {
      "image/png": "[encoded data removed]",
      "text/plain": [
       "<matplotlib.figure.Figure at 0x1066bd350>"
      ]
     },
     "metadata": {},
     "output_type": "display_data"
    }
   ],
   "source": [
    "g = sns.factorplot(x='Labels3',y='pass',data=dat,kind='bar')"
   ]
  },
  {
   "cell_type": "code",
   "execution_count": 6,
   "metadata": {
    "collapsed": false
   },
   "outputs": [
    {
     "data": {
      "image/png": "[encoded data removed]",
      "text/plain": [
       "<matplotlib.figure.Figure at 0x10b82bf50>"
      ]
     },
     "metadata": {},
     "output_type": "display_data"
    }
   ],
   "source": [
    "g = sns.factorplot(x='Labels8',y='pass',data=dat,kind='bar')"
   ]
  },
  {
   "cell_type": "code",
   "execution_count": 7,
   "metadata": {
    "collapsed": false
   },
   "outputs": [
    {
     "data": {
      "text/html": [
       "<div>\n",
       "<table border=\"1\" class=\"dataframe\">\n",
       "  <thead>\n",
       "    <tr style=\"text-align: right;\">\n",
       "      <th></th>\n",
       "      <th>scorediff</th>\n",
       "      <th>secs_to_end</th>\n",
       "      <th>secs_to_half</th>\n",
       "      <th>togo</th>\n",
       "      <th>ydline</th>\n",
       "      <th>noscore</th>\n",
       "      <th>down_1.0</th>\n",
       "      <th>down_2.0</th>\n",
       "      <th>down_3.0</th>\n",
       "      <th>down_4.0</th>\n",
       "      <th>qtr_1.0</th>\n",
       "      <th>qtr_2.0</th>\n",
       "      <th>qtr_3.0</th>\n",
       "      <th>qtr_4.0</th>\n",
       "      <th>qtr_5.0</th>\n",
       "    </tr>\n",
       "    <tr>\n",
       "      <th>Labels3</th>\n",
       "      <th></th>\n",
       "      <th></th>\n",
       "      <th></th>\n",
       "      <th></th>\n",
       "      <th></th>\n",
       "      <th></th>\n",
       "      <th></th>\n",
       "      <th></th>\n",
       "      <th></th>\n",
       "      <th></th>\n",
       "      <th></th>\n",
       "      <th></th>\n",
       "      <th></th>\n",
       "      <th></th>\n",
       "      <th></th>\n",
       "    </tr>\n",
       "  </thead>\n",
       "  <tbody>\n",
       "    <tr>\n",
       "      <th>0</th>\n",
       "      <td>-16.155047</td>\n",
       "      <td>1232.406843</td>\n",
       "      <td>705.726381</td>\n",
       "      <td>8.760418</td>\n",
       "      <td>51.995433</td>\n",
       "      <td>0.00000</td>\n",
       "      <td>0.413836</td>\n",
       "      <td>0.298511</td>\n",
       "      <td>0.187658</td>\n",
       "      <td>0.099995</td>\n",
       "      <td>0.042267</td>\n",
       "      <td>0.250464</td>\n",
       "      <td>0.301817</td>\n",
       "      <td>0.405416</td>\n",
       "      <td>0.000036</td>\n",
       "    </tr>\n",
       "    <tr>\n",
       "      <th>1</th>\n",
       "      <td>-1.533646</td>\n",
       "      <td>2037.625687</td>\n",
       "      <td>913.576838</td>\n",
       "      <td>8.518693</td>\n",
       "      <td>51.884045</td>\n",
       "      <td>0.23322</td>\n",
       "      <td>0.394753</td>\n",
       "      <td>0.301113</td>\n",
       "      <td>0.197807</td>\n",
       "      <td>0.106326</td>\n",
       "      <td>0.348698</td>\n",
       "      <td>0.275910</td>\n",
       "      <td>0.174944</td>\n",
       "      <td>0.188475</td>\n",
       "      <td>0.011973</td>\n",
       "    </tr>\n",
       "    <tr>\n",
       "      <th>2</th>\n",
       "      <td>12.481151</td>\n",
       "      <td>1411.916894</td>\n",
       "      <td>760.083910</td>\n",
       "      <td>8.437643</td>\n",
       "      <td>50.423634</td>\n",
       "      <td>0.00000</td>\n",
       "      <td>0.390697</td>\n",
       "      <td>0.301360</td>\n",
       "      <td>0.199973</td>\n",
       "      <td>0.107971</td>\n",
       "      <td>0.092070</td>\n",
       "      <td>0.270186</td>\n",
       "      <td>0.295746</td>\n",
       "      <td>0.341243</td>\n",
       "      <td>0.000754</td>\n",
       "    </tr>\n",
       "  </tbody>\n",
       "</table>\n",
       "</div>"
      ],
      "text/plain": [
       "         scorediff  secs_to_end  secs_to_half      togo     ydline  noscore  \\\n",
       "Labels3                                                                       \n",
       "0       -16.155047  1232.406843    705.726381  8.760418  51.995433  0.00000   \n",
       "1        -1.533646  2037.625687    913.576838  8.518693  51.884045  0.23322   \n",
       "2        12.481151  1411.916894    760.083910  8.437643  50.423634  0.00000   \n",
       "\n",
       "         down_1.0  down_2.0  down_3.0  down_4.0   qtr_1.0   qtr_2.0   qtr_3.0  \\\n",
       "Labels3                                                                         \n",
       "0        0.413836  0.298511  0.187658  0.099995  0.042267  0.250464  0.301817   \n",
       "1        0.394753  0.301113  0.197807  0.106326  0.348698  0.275910  0.174944   \n",
       "2        0.390697  0.301360  0.199973  0.107971  0.092070  0.270186  0.295746   \n",
       "\n",
       "          qtr_4.0   qtr_5.0  \n",
       "Labels3                      \n",
       "0        0.405416  0.000036  \n",
       "1        0.188475  0.011973  \n",
       "2        0.341243  0.000754  "
      ]
     },
     "execution_count": 7,
     "metadata": {},
     "output_type": "execute_result"
    }
   ],
   "source": [
    "dat[['scorediff','secs_to_end','secs_to_half','togo','ydline','noscore','down_1.0',\n",
    "     'down_2.0','down_3.0','down_4.0','qtr_1.0','qtr_2.0','qtr_3.0','qtr_4.0','qtr_5.0','Labels3','pass']].groupby('Labels3').mean()"
   ]
  },
  {
   "cell_type": "code",
   "execution_count": 9,
   "metadata": {
    "collapsed": false
   },
   "outputs": [
    {
     "data": {
      "image/png": "[encoded data removed]",
      "text/plain": [
       "<matplotlib.figure.Figure at 0x10c5cbad0>"
      ]
     },
     "metadata": {},
     "output_type": "display_data"
    }
   ],
   "source": [
    "f, (ax1, ax2, ax3) = plt.subplots(1, 3, figsize=(12, 6), sharex=True)\n",
    "sns.barplot(dat[\"Labels3\"], dat['scorediff'], ax=ax1)\n",
    "sns.barplot(dat[\"Labels3\"], dat['secs_to_end'], ax=ax2)\n",
    "sns.barplot(dat[\"Labels3\"], dat['noscore'], ax=ax3)\n",
    "plt.tight_layout(w_pad=3)"
   ]
  },
  {
   "cell_type": "code",
   "execution_count": 8,
   "metadata": {
    "collapsed": false
   },
   "outputs": [
    {
     "data": {
      "text/html": [
       "<div>\n",
       "<table border=\"1\" class=\"dataframe\">\n",
       "  <thead>\n",
       "    <tr style=\"text-align: right;\">\n",
       "      <th></th>\n",
       "      <th>scorediff</th>\n",
       "      <th>secs_to_end</th>\n",
       "      <th>secs_to_half</th>\n",
       "      <th>togo</th>\n",
       "      <th>ydline</th>\n",
       "      <th>noscore</th>\n",
       "      <th>down_1.0</th>\n",
       "      <th>down_2.0</th>\n",
       "      <th>down_3.0</th>\n",
       "      <th>down_4.0</th>\n",
       "      <th>qtr_1.0</th>\n",
       "      <th>qtr_2.0</th>\n",
       "      <th>qtr_3.0</th>\n",
       "      <th>qtr_4.0</th>\n",
       "      <th>qtr_5.0</th>\n",
       "    </tr>\n",
       "    <tr>\n",
       "      <th>Labels8</th>\n",
       "      <th></th>\n",
       "      <th></th>\n",
       "      <th></th>\n",
       "      <th></th>\n",
       "      <th></th>\n",
       "      <th></th>\n",
       "      <th></th>\n",
       "      <th></th>\n",
       "      <th></th>\n",
       "      <th></th>\n",
       "      <th></th>\n",
       "      <th></th>\n",
       "      <th></th>\n",
       "      <th></th>\n",
       "      <th></th>\n",
       "    </tr>\n",
       "  </thead>\n",
       "  <tbody>\n",
       "    <tr>\n",
       "      <th>0</th>\n",
       "      <td>-3.198592</td>\n",
       "      <td>1649.547651</td>\n",
       "      <td>749.842400</td>\n",
       "      <td>8.571559</td>\n",
       "      <td>51.690113</td>\n",
       "      <td>0.000000</td>\n",
       "      <td>0.402860</td>\n",
       "      <td>0.301263</td>\n",
       "      <td>0.194498</td>\n",
       "      <td>0.101379</td>\n",
       "      <td>0.182344</td>\n",
       "      <td>0.317710</td>\n",
       "      <td>0.212547</td>\n",
       "      <td>0.286562</td>\n",
       "      <td>0.000837</td>\n",
       "    </tr>\n",
       "    <tr>\n",
       "      <th>1</th>\n",
       "      <td>7.966803</td>\n",
       "      <td>1579.731960</td>\n",
       "      <td>777.592167</td>\n",
       "      <td>8.471037</td>\n",
       "      <td>50.763759</td>\n",
       "      <td>0.000000</td>\n",
       "      <td>0.393317</td>\n",
       "      <td>0.300372</td>\n",
       "      <td>0.198646</td>\n",
       "      <td>0.107665</td>\n",
       "      <td>0.136589</td>\n",
       "      <td>0.309139</td>\n",
       "      <td>0.269815</td>\n",
       "      <td>0.283436</td>\n",
       "      <td>0.001021</td>\n",
       "    </tr>\n",
       "    <tr>\n",
       "      <th>2</th>\n",
       "      <td>-16.302714</td>\n",
       "      <td>1245.819615</td>\n",
       "      <td>706.001173</td>\n",
       "      <td>8.791654</td>\n",
       "      <td>51.846028</td>\n",
       "      <td>0.000000</td>\n",
       "      <td>0.413901</td>\n",
       "      <td>0.298187</td>\n",
       "      <td>0.187024</td>\n",
       "      <td>0.100889</td>\n",
       "      <td>0.039384</td>\n",
       "      <td>0.260655</td>\n",
       "      <td>0.305435</td>\n",
       "      <td>0.394455</td>\n",
       "      <td>0.000070</td>\n",
       "    </tr>\n",
       "    <tr>\n",
       "      <th>3</th>\n",
       "      <td>16.277227</td>\n",
       "      <td>1200.411755</td>\n",
       "      <td>736.859170</td>\n",
       "      <td>8.429363</td>\n",
       "      <td>49.792666</td>\n",
       "      <td>0.000000</td>\n",
       "      <td>0.387466</td>\n",
       "      <td>0.302942</td>\n",
       "      <td>0.200811</td>\n",
       "      <td>0.108782</td>\n",
       "      <td>0.022516</td>\n",
       "      <td>0.235235</td>\n",
       "      <td>0.339361</td>\n",
       "      <td>0.402508</td>\n",
       "      <td>0.000380</td>\n",
       "    </tr>\n",
       "    <tr>\n",
       "      <th>4</th>\n",
       "      <td>1.007881</td>\n",
       "      <td>2275.676186</td>\n",
       "      <td>1015.613644</td>\n",
       "      <td>8.449016</td>\n",
       "      <td>51.675935</td>\n",
       "      <td>0.418455</td>\n",
       "      <td>0.390296</td>\n",
       "      <td>0.301340</td>\n",
       "      <td>0.199839</td>\n",
       "      <td>0.108524</td>\n",
       "      <td>0.451959</td>\n",
       "      <td>0.248180</td>\n",
       "      <td>0.148763</td>\n",
       "      <td>0.130399</td>\n",
       "      <td>0.020699</td>\n",
       "    </tr>\n",
       "    <tr>\n",
       "      <th>5</th>\n",
       "      <td>-28.650990</td>\n",
       "      <td>839.690130</td>\n",
       "      <td>672.750155</td>\n",
       "      <td>8.735458</td>\n",
       "      <td>52.231822</td>\n",
       "      <td>0.000000</td>\n",
       "      <td>0.413212</td>\n",
       "      <td>0.299892</td>\n",
       "      <td>0.185102</td>\n",
       "      <td>0.101795</td>\n",
       "      <td>0.002707</td>\n",
       "      <td>0.090037</td>\n",
       "      <td>0.314666</td>\n",
       "      <td>0.592590</td>\n",
       "      <td>0.000000</td>\n",
       "    </tr>\n",
       "    <tr>\n",
       "      <th>6</th>\n",
       "      <td>-8.119069</td>\n",
       "      <td>1701.301280</td>\n",
       "      <td>790.235707</td>\n",
       "      <td>8.679208</td>\n",
       "      <td>52.483683</td>\n",
       "      <td>0.000000</td>\n",
       "      <td>0.404007</td>\n",
       "      <td>0.299791</td>\n",
       "      <td>0.193641</td>\n",
       "      <td>0.102561</td>\n",
       "      <td>0.194532</td>\n",
       "      <td>0.311768</td>\n",
       "      <td>0.232385</td>\n",
       "      <td>0.260551</td>\n",
       "      <td>0.000764</td>\n",
       "    </tr>\n",
       "    <tr>\n",
       "      <th>7</th>\n",
       "      <td>28.570813</td>\n",
       "      <td>830.781634</td>\n",
       "      <td>691.678379</td>\n",
       "      <td>8.235827</td>\n",
       "      <td>50.425199</td>\n",
       "      <td>0.000000</td>\n",
       "      <td>0.382626</td>\n",
       "      <td>0.301250</td>\n",
       "      <td>0.206187</td>\n",
       "      <td>0.109937</td>\n",
       "      <td>0.002371</td>\n",
       "      <td>0.074908</td>\n",
       "      <td>0.321621</td>\n",
       "      <td>0.601099</td>\n",
       "      <td>0.000000</td>\n",
       "    </tr>\n",
       "  </tbody>\n",
       "</table>\n",
       "</div>"
      ],
      "text/plain": [
       "         scorediff  secs_to_end  secs_to_half      togo     ydline   noscore  \\\n",
       "Labels8                                                                        \n",
       "0        -3.198592  1649.547651    749.842400  8.571559  51.690113  0.000000   \n",
       "1         7.966803  1579.731960    777.592167  8.471037  50.763759  0.000000   \n",
       "2       -16.302714  1245.819615    706.001173  8.791654  51.846028  0.000000   \n",
       "3        16.277227  1200.411755    736.859170  8.429363  49.792666  0.000000   \n",
       "4         1.007881  2275.676186   1015.613644  8.449016  51.675935  0.418455   \n",
       "5       -28.650990   839.690130    672.750155  8.735458  52.231822  0.000000   \n",
       "6        -8.119069  1701.301280    790.235707  8.679208  52.483683  0.000000   \n",
       "7        28.570813   830.781634    691.678379  8.235827  50.425199  0.000000   \n",
       "\n",
       "         down_1.0  down_2.0  down_3.0  down_4.0   qtr_1.0   qtr_2.0   qtr_3.0  \\\n",
       "Labels8                                                                         \n",
       "0        0.402860  0.301263  0.194498  0.101379  0.182344  0.317710  0.212547   \n",
       "1        0.393317  0.300372  0.198646  0.107665  0.136589  0.309139  0.269815   \n",
       "2        0.413901  0.298187  0.187024  0.100889  0.039384  0.260655  0.305435   \n",
       "3        0.387466  0.302942  0.200811  0.108782  0.022516  0.235235  0.339361   \n",
       "4        0.390296  0.301340  0.199839  0.108524  0.451959  0.248180  0.148763   \n",
       "5        0.413212  0.299892  0.185102  0.101795  0.002707  0.090037  0.314666   \n",
       "6        0.404007  0.299791  0.193641  0.102561  0.194532  0.311768  0.232385   \n",
       "7        0.382626  0.301250  0.206187  0.109937  0.002371  0.074908  0.321621   \n",
       "\n",
       "          qtr_4.0   qtr_5.0  \n",
       "Labels8                      \n",
       "0        0.286562  0.000837  \n",
       "1        0.283436  0.001021  \n",
       "2        0.394455  0.000070  \n",
       "3        0.402508  0.000380  \n",
       "4        0.130399  0.020699  \n",
       "5        0.592590  0.000000  \n",
       "6        0.260551  0.000764  \n",
       "7        0.601099  0.000000  "
      ]
     },
     "execution_count": 8,
     "metadata": {},
     "output_type": "execute_result"
    }
   ],
   "source": [
    "dat[['scorediff','secs_to_end','secs_to_half','togo','ydline','noscore','down_1.0',\n",
    "     'down_2.0','down_3.0','down_4.0','qtr_1.0','qtr_2.0','qtr_3.0','qtr_4.0','qtr_5.0','Labels8','pass']].groupby('Labels8').mean()"
   ]
  },
  {
   "cell_type": "code",
   "execution_count": 10,
   "metadata": {
    "collapsed": false
   },
   "outputs": [
    {
     "data": {
      "image/png": "[encoded data removed]",
      "text/plain": [
       "<matplotlib.figure.Figure at 0x10b7c78d0>"
      ]
     },
     "metadata": {},
     "output_type": "display_data"
    }
   ],
   "source": [
    "f, (ax1, ax2, ax3) = plt.subplots(1, 3, figsize=(12, 6), sharex=True)\n",
    "sns.barplot(dat[\"Labels8\"], dat['scorediff'], ax=ax1)\n",
    "sns.barplot(dat[\"Labels8\"], dat['secs_to_end'], ax=ax2)\n",
    "sns.barplot(dat[\"Labels8\"], dat['noscore'], ax=ax3)\n",
    "plt.tight_layout(w_pad=3)"
   ]
  },
  {
   "cell_type": "code",
   "execution_count": null,
   "metadata": {
    "collapsed": true
   },
   "outputs": [],
   "source": []
  }
 ],
 "metadata": {
  "kernelspec": {
   "display_name": "Python 2",
   "language": "python",
   "name": "python2"
  },
  "language_info": {
   "codemirror_mode": {
    "name": "ipython",
    "version": 2
   },
   "file_extension": ".py",
   "mimetype": "text/x-python",
   "name": "python",
   "nbconvert_exporter": "python",
   "pygments_lexer": "ipython2",
   "version": "2.7.10"
  }
 },
 "nbformat": 4,
 "nbformat_minor": 0
}
