{
 "cells": [
  {
   "cell_type": "code",
   "execution_count": 1,
   "metadata": {
    "collapsed": true
   },
   "outputs": [],
   "source": [
    "import requests\n",
    "import imdb"
   ]
  },
  {
   "cell_type": "code",
   "execution_count": 2,
   "metadata": {
    "collapsed": true
   },
   "outputs": [],
   "source": [
    "ia = imdb.IMDb()"
   ]
  },
  {
   "cell_type": "code",
   "execution_count": 3,
   "metadata": {
    "collapsed": false
   },
   "outputs": [
    {
     "data": {
      "text/plain": [
       "<imdb.parser.http.IMDbHTTPAccessSystem instance at 0x106da3f80>"
      ]
     },
     "execution_count": 3,
     "metadata": {},
     "output_type": "execute_result"
    }
   ],
   "source": [
    "ia"
   ]
  },
  {
   "cell_type": "code",
   "execution_count": 4,
   "metadata": {
    "collapsed": true
   },
   "outputs": [],
   "source": [
    "movs = ia.get_top250_movies()"
   ]
  },
  {
   "cell_type": "code",
   "execution_count": 5,
   "metadata": {
    "collapsed": false
   },
   "outputs": [
    {
     "data": {
      "text/plain": [
       "[]"
      ]
     },
     "execution_count": 5,
     "metadata": {},
     "output_type": "execute_result"
    }
   ],
   "source": [
    "movs"
   ]
  },
  {
   "cell_type": "code",
   "execution_count": 6,
   "metadata": {
    "collapsed": false
   },
   "outputs": [
    {
     "data": {
      "text/plain": [
       "[<Movie id:0441773[http] title:_Kung Fu Panda (2008)_>,\n",
       " <Movie id:1191122[http] title:_Kung Fu Panda (2008) (VG)_>,\n",
       " <Movie id:1799673[http] title:_\"Bum Reviews\" Kung Fu Panda (2008)_>,\n",
       " <Movie id:2267968[http] title:_Kung Fu Panda 3 (2016)_>,\n",
       " <Movie id:1302011[http] title:_Kung Fu Panda 2 (2011)_>,\n",
       " <Movie id:1937212[http] title:_Kung Fu Panda 2 (2011) (VG)_>,\n",
       " <Movie id:1702433[http] title:_Kung Fu Panda Holiday (2010)_>,\n",
       " <Movie id:1545214[http] title:_\"Kung Fu Panda: Legends of Awesomeness\" (2011)_>,\n",
       " <Movie id:1318457[http] title:_\"Cinetipp\" Kung Fu Panda (2008)_>,\n",
       " <Movie id:3629018[http] title:_\"AniMat's Reviews\" Kung Fu Panda 2 (2011)_>,\n",
       " <Movie id:3011062[http] title:_\"Zoom In\" Kung Fu Panda (2008)_>,\n",
       " <Movie id:2300109[http] title:_\"Hewy's Animated Movie Reviews\" Kung Fu Panda 2 (2011)_>,\n",
       " <Movie id:2125928[http] title:_\"Just Seen It\" Kung Fu Panda 2 (2011)_>,\n",
       " <Movie id:3024012[http] title:_\"Zoom In\" Kung Fu Panda 2 (2010)_>,\n",
       " <Movie id:1979561[http] title:_\"DVD on TV\" Kung Fu Panda  (????)_>,\n",
       " <Movie id:3775644[http] title:_\"FX Movie Download\" Kung Fu Panda (2014)_>,\n",
       " <Movie id:1980162[http] title:_Kung Fu Panda: Secrets of the Masters (2011) (V)_>,\n",
       " <Movie id:1287845[http] title:_Kung Fu Panda: Secrets of the Furious Five (2008) (V)_>,\n",
       " <Movie id:1953497[http] title:_\"The Distressed Watcher\" Kung Fu Panda 2 Review (2011)_>,\n",
       " <Movie id:1945974[http] title:_\"That Movie Show\" Kung Fu with REAL PANDAS! (2011)_>]"
      ]
     },
     "execution_count": 6,
     "metadata": {},
     "output_type": "execute_result"
    }
   ],
   "source": [
    "ia.search_movie('Kung Fu Panda')"
   ]
  },
  {
   "cell_type": "code",
   "execution_count": 9,
   "metadata": {
    "collapsed": false
   },
   "outputs": [
    {
     "ename": "AttributeError",
     "evalue": "'str' object has no attribute 'accessSystem'",
     "output_type": "error",
     "traceback": [
      "\u001b[0;31m---------------------------------------------------------------------------\u001b[0m",
      "\u001b[0;31mAttributeError\u001b[0m                            Traceback (most recent call last)",
      "\u001b[0;32m<ipython-input-9-aaebeff088d9>\u001b[0m in \u001b[0;36m<module>\u001b[0;34m()\u001b[0m\n\u001b[0;32m----> 1\u001b[0;31m \u001b[0mia\u001b[0m\u001b[0;34m.\u001b[0m\u001b[0mget_imdbID\u001b[0m\u001b[0;34m(\u001b[0m\u001b[0;34m'0441773'\u001b[0m\u001b[0;34m)\u001b[0m\u001b[0;34m\u001b[0m\u001b[0m\n\u001b[0m",
      "\u001b[0;32m//anaconda/lib/python2.7/site-packages/imdb/__init__.pyc\u001b[0m in \u001b[0;36mget_imdbID\u001b[0;34m(self, mop)\u001b[0m\n\u001b[1;32m    908\u001b[0m         object.\"\"\"\n\u001b[1;32m    909\u001b[0m         \u001b[0mimdbID\u001b[0m \u001b[0;34m=\u001b[0m \u001b[0mNone\u001b[0m\u001b[0;34m\u001b[0m\u001b[0m\n\u001b[0;32m--> 910\u001b[0;31m         \u001b[0;32mif\u001b[0m \u001b[0mmop\u001b[0m\u001b[0;34m.\u001b[0m\u001b[0maccessSystem\u001b[0m \u001b[0;34m==\u001b[0m \u001b[0mself\u001b[0m\u001b[0;34m.\u001b[0m\u001b[0maccessSystem\u001b[0m\u001b[0;34m:\u001b[0m\u001b[0;34m\u001b[0m\u001b[0m\n\u001b[0m\u001b[1;32m    911\u001b[0m             \u001b[0maSystem\u001b[0m \u001b[0;34m=\u001b[0m \u001b[0mself\u001b[0m\u001b[0;34m\u001b[0m\u001b[0m\n\u001b[1;32m    912\u001b[0m         \u001b[0;32melse\u001b[0m\u001b[0;34m:\u001b[0m\u001b[0;34m\u001b[0m\u001b[0m\n",
      "\u001b[0;31mAttributeError\u001b[0m: 'str' object has no attribute 'accessSystem'"
     ]
    }
   ],
   "source": [
    "ia.get_imdbID('0441773')"
   ]
  },
  {
   "cell_type": "code",
   "execution_count": null,
   "metadata": {
    "collapsed": true
   },
   "outputs": [],
   "source": []
  }
 ],
 "metadata": {
  "kernelspec": {
   "display_name": "Python 2",
   "language": "python",
   "name": "python2"
  },
  "language_info": {
   "codemirror_mode": {
    "name": "ipython",
    "version": 2
   },
   "file_extension": ".py",
   "mimetype": "text/x-python",
   "name": "python",
   "nbconvert_exporter": "python",
   "pygments_lexer": "ipython2",
   "version": "2.7.10"
  }
 },
 "nbformat": 4,
 "nbformat_minor": 0
}
